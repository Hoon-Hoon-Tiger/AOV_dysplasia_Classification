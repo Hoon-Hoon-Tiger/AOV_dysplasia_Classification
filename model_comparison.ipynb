{
 "cells": [
  {
   "cell_type": "code",
   "execution_count": 1,
   "id": "be6ddc52-a25b-4d06-a374-f76d485f20eb",
   "metadata": {},
   "outputs": [],
   "source": [
    "from PIL import Image\n",
    "import pandas as pd\n",
    "%matplotlib inline\n",
    "import matplotlib\n",
    "import matplotlib.pyplot as plt\n",
    "import torch\n",
    "from torch.utils.data import Dataset, DataLoader, WeightedRandomSampler\n",
    "import numpy as np\n",
    "import torchvision\n",
    "from torchvision import transforms\n",
    "from glob import glob\n",
    "import cv2\n",
    "import random\n",
    "\n",
    "import os\n",
    "import torch\n",
    "import torch.nn as nn\n",
    "import torch.nn.functional as F\n",
    "from torchsummary import summary\n",
    "from torch import optim\n",
    "from torch.optim.lr_scheduler import StepLR\n",
    "from sklearn.metrics import classification_report, confusion_matrix, accuracy_score,plot_confusion_matrix\n",
    "\n",
    "import time\n",
    "import copy"
   ]
  },
  {
   "cell_type": "code",
   "execution_count": 2,
   "id": "47a5c0d3-a6d0-4d09-ac0e-a1e38f6f770d",
   "metadata": {},
   "outputs": [],
   "source": [
    "def seed(seed = 42):\n",
    "    random.seed(seed) # python random seed 고정\n",
    "    os.environ['PYTHONHASHSEED'] = str(seed) # os 자체의 seed 고정\n",
    "    np.random.seed(seed) # numpy seed 고정 \n",
    "    torch.manual_seed(seed) # torch seed 고정\n",
    "    torch.cuda.manual_seed(seed) # cudnn seed 고정\n",
    "    torch.backends.cudnn.deterministic = True # cudnn seed 고정(nn.Conv2d)\n",
    "    torch.backends.cudnn.benchmark = False # CUDA 내부 연산에서 가장 빠른 알고리즘을 찾아 수행\n",
    "\n",
    "## DataLoader worker에 대한 seed 설정\n",
    "def seed_worker(worker_id):\n",
    "    worker_seed = torch.initial_seed() % 2**32\n",
    "    numpy.random.seed(worker_seed)\n",
    "    random.seed(worker_seed)\n",
    "    \n",
    "seed()"
   ]
  },
  {
   "cell_type": "code",
   "execution_count": 3,
   "id": "7140e0ac-9fc0-4f9f-a89a-32ef62b3b68d",
   "metadata": {},
   "outputs": [],
   "source": [
    "test_normal_path ='/mnt/nas100_vol2/LeeJungHoon/Aov_task_curation_data/curation_data_v3/data_v3/normal_test_v3/*.jpg'\n",
    "test_abnormal_path ='/mnt/nas100_vol2/LeeJungHoon/Aov_task_curation_data/curation_data_v3/data_v3/abnormal_test_v3/*.jpg'"
   ]
  },
  {
   "cell_type": "code",
   "execution_count": 6,
   "id": "b241ebe7-49c5-401a-8710-aa9ad71bc6db",
   "metadata": {},
   "outputs": [],
   "source": [
    "test_normal_path_ex ='/mnt/nas100_vol2/LeeJungHoon/Aov_task_curation_data/curation_data_v4/data_v4_7_1/normal_test_v4/*.jpg'\n",
    "test_abnormal_path_ex ='/mnt/nas100_vol2/LeeJungHoon/Aov_task_curation_data/curation_data_v4/data_v4_7_1/abnormal_test_v4/*.jpg'"
   ]
  },
  {
   "cell_type": "code",
   "execution_count": 5,
   "id": "97938b29-9c6b-434c-99ab-98c6dc5acef0",
   "metadata": {},
   "outputs": [],
   "source": [
    "test_normal_path_7 ='/mnt/nas100_vol2/LeeJungHoon/Aov_task_curation_data/curation_data_v3/data_v3(7_1.5_1.5)/normal_test_v3/*.jpg'\n",
    "test_abnormal_path_7 ='/mnt/nas100_vol2/LeeJungHoon/Aov_task_curation_data/curation_data_v3/data_v3(7_1.5_1.5)/abnormal_test_v3/*.jpg' "
   ]
  },
  {
   "cell_type": "code",
   "execution_count": 8,
   "id": "6f1d8a67-77bd-43fd-aee2-07c66c4dcf81",
   "metadata": {},
   "outputs": [
    {
     "name": "stdout",
     "output_type": "stream",
     "text": [
      "test_normal : 66\n",
      "test_abnormal : 39\n",
      "------------------------------------\n",
      "test_normal : 76\n",
      "test_abnormal : 78\n",
      "------------------------------------\n",
      "test_normal : 92\n",
      "test_abnormal : 46\n"
     ]
    }
   ],
   "source": [
    "test_normal_glob = glob(test_normal_path)\n",
    "test_abnormal_glob = glob(test_abnormal_path)\n",
    "\n",
    "test_normal_ex_glob = glob(test_normal_path_ex)\n",
    "test_abnormal_ex_glob = glob(test_abnormal_path_ex)\n",
    "\n",
    "test_normal_7_glob = glob(test_normal_path_7)\n",
    "test_abnormal_7_glob = glob(test_abnormal_path_7)\n",
    "\n",
    "print('test_normal :', len(test_normal_glob))\n",
    "print('test_abnormal :', len(test_abnormal_glob))\n",
    "print('------------------------------------')\n",
    "print('test_normal :', len(test_normal_ex_glob))\n",
    "print('test_abnormal :', len(test_abnormal_ex_glob))\n",
    "print('------------------------------------')\n",
    "print('test_normal :', len(test_normal_7_glob))\n",
    "print('test_abnormal :', len(test_abnormal_7_glob))\n"
   ]
  },
  {
   "cell_type": "markdown",
   "id": "4eb9293d-ed2d-4401-898e-85ec2a98df90",
   "metadata": {},
   "source": [
    "- 총 실험이 내부 데이터만 이용한 실험 1과 외부 데이터를 포함해서 진행한 실험2가 있기 때문에 각각 dataloader 생성후 한 그래프로 출력해서 비교"
   ]
  },
  {
   "cell_type": "code",
   "execution_count": 9,
   "id": "53d17792-2544-46e8-bdc0-786296e76404",
   "metadata": {},
   "outputs": [],
   "source": [
    "#내부 데이터만 이용한 실험 dataset\n",
    "class Aov_Dysplasia_dataset(Dataset):\n",
    "    def __init__(self, normal_path, abnormal_path, transform=None):\n",
    "        #생성자, 데이터를 전처리 \n",
    "        self.normal_path_list = glob(normal_path)\n",
    "        self.abnormal_path_list = glob(abnormal_path)\n",
    "        print(len(self.normal_path_list))\n",
    "#         self.mode = mode \n",
    "    \n",
    "#         label = np.array([[0, 1], [1, 0]], dtype=np.float32)\n",
    "        \n",
    "#         self.label_list = []\n",
    "#         for i in self.normal_path_list:\n",
    "#             self.label_list.append(label[0])\n",
    "            \n",
    "#         for i in self.abnormal_path_list:\n",
    "#             self.label_list.append(label[1])\n",
    "            \n",
    "        label_policy = {\n",
    "            'normal': 0, \n",
    "            'abnormal': 1\n",
    "        }\n",
    "    \n",
    "        self.label_list= []\n",
    "        \n",
    "        for i in self.normal_path_list:\n",
    "            self.label_list.append(label_policy[\"normal\"])\n",
    "            \n",
    "        for i in self.abnormal_path_list:\n",
    "            self.label_list.append(label_policy[\"abnormal\"])\n",
    "        \n",
    "        self.total_img_path_list = self.normal_path_list + self.abnormal_path_list\n",
    "        self.transform = transform\n",
    "    \n",
    "    def __len__(self):\n",
    "        return len(self.total_img_path_list)\n",
    "    \n",
    "    def __getitem__(self, idx):\n",
    "        \n",
    "        img = cv2.imread(self.total_img_path_list[idx])\n",
    "        img = cv2.cvtColor(img, cv2.COLOR_BGR2RGB)\n",
    "        # img = np.array(img, dtype=np.float32)\n",
    "        #들어오는 이미지의 컬러 형태가 BGR인지 RGB인지 모르기때문에 변형\n",
    "\n",
    "        \n",
    "        label = self.label_list[idx]\n",
    "        \n",
    "        if self.transform is not None:\n",
    "            transformed = self.transform(image=img)\n",
    "            img = transformed['image'] \n",
    "            img = torch.tensor(np.array(img), dtype=torch.float32)\n",
    "            # img = torch.FloatTensor(img)\n",
    "            img = (img - torch.min(img)) / (torch.max(img)-torch.min(img))\n",
    "            \n",
    "            return {'img': img, 'label': label, 'filename': self.total_img_path_list[idx]}\n",
    "        \n",
    "        else:\n",
    "            # img = transformed['image']\n",
    "            img = torch.tensor(np.array(img), dtype=torch.float32)\n",
    "            # img = torch.FloatTensor(img)\n",
    "            img = (img - torch.min(img)) / (torch.max(img)-torch.min(img))\n",
    "            return{'img': img, 'label': label}"
   ]
  },
  {
   "cell_type": "code",
   "execution_count": 10,
   "id": "8f60cca6-5d58-44ad-84a3-96e76008457f",
   "metadata": {},
   "outputs": [],
   "source": [
    "import albumentations as A \n",
    "from  albumentations.pytorch import ToTensorV2\n",
    "\n",
    "test_transform = A.Compose(\n",
    "    [\n",
    "        A.Resize(224,224, interpolation = cv2.INTER_AREA),\n",
    "        ToTensorV2()\n",
    "    ])"
   ]
  },
  {
   "cell_type": "code",
   "execution_count": 11,
   "id": "dbd5780c-c68d-46a1-b44b-2c39633fbabf",
   "metadata": {},
   "outputs": [
    {
     "name": "stdout",
     "output_type": "stream",
     "text": [
      "66\n",
      "76\n",
      "92\n"
     ]
    }
   ],
   "source": [
    "test_dataset = Aov_Dysplasia_dataset(test_normal_path, test_abnormal_path, transform = test_transform)\n",
    "test_dataset_ex = Aov_Dysplasia_dataset(test_normal_path_ex, test_abnormal_path_ex, transform = test_transform)\n",
    "test_dataset_7 = Aov_Dysplasia_dataset(test_normal_path_7, test_abnormal_path_7, transform = test_transform)"
   ]
  },
  {
   "cell_type": "code",
   "execution_count": 12,
   "id": "2d87c123-1f46-41e4-a765-c6a16fa6f047",
   "metadata": {},
   "outputs": [],
   "source": [
    "test_dataloader = torch.utils.data.DataLoader(test_dataset, batch_size=1, shuffle = False ,worker_init_fn=seed_worker)\n",
    "test_dataloader_ex = torch.utils.data.DataLoader(test_dataset_ex, batch_size=1, shuffle = False ,worker_init_fn=seed_worker)\n",
    "test_dataloader_7 = torch.utils.data.DataLoader(test_dataset_7, batch_size=1, shuffle = False ,worker_init_fn=seed_worker)"
   ]
  },
  {
   "cell_type": "code",
   "execution_count": 13,
   "id": "570eec18-fe50-4199-bf37-7c144676ab3a",
   "metadata": {},
   "outputs": [
    {
     "name": "stdout",
     "output_type": "stream",
     "text": [
      "test_dataset : 105\n",
      "test2_ex_dataset : 154\n",
      "test2_7_dataset : 138\n"
     ]
    }
   ],
   "source": [
    "print('test_dataset :',len(test_dataset))\n",
    "print('test2_ex_dataset :',len(test_dataset_ex))\n",
    "print('test2_7_dataset :',len(test_dataset_7))"
   ]
  },
  {
   "cell_type": "code",
   "execution_count": null,
   "id": "0e1a9442-0242-4a9a-8d8d-87791a7f7eee",
   "metadata": {
    "collapsed": true,
    "jupyter": {
     "outputs_hidden": true
    },
    "tags": []
   },
   "outputs": [],
   "source": [
    "from torchvision import models\n",
    "import torch\n",
    "\n",
    "resnet50_pretrained = models.resnet50(pretrained=True)\n",
    "print(resnet50_pretrained)"
   ]
  },
  {
   "cell_type": "code",
   "execution_count": null,
   "id": "e9907106-d03e-4b15-8940-95067fc5c552",
   "metadata": {
    "collapsed": true,
    "jupyter": {
     "outputs_hidden": true
    },
    "tags": []
   },
   "outputs": [],
   "source": [
    "num_classes = 1\n",
    "num_features = resnet50_pretrained.fc.in_features\n",
    "resnet50_pretrained.fc = nn.Linear(num_features, num_classes)\n",
    "\n",
    "resnet50_pretrained"
   ]
  },
  {
   "cell_type": "code",
   "execution_count": null,
   "id": "a2c5a9e3-7079-4b2d-855f-cd364fd09fec",
   "metadata": {
    "collapsed": true,
    "jupyter": {
     "outputs_hidden": true
    },
    "tags": []
   },
   "outputs": [],
   "source": [
    "from torchvision import models\n",
    "import torch\n",
    "import timm\n",
    "# m = timm.create_model('seresnet50', pretrained=True)\n",
    "\n",
    "seresnet50_pretrained = timm.create_model('seresnet50', pretrained=True)\n",
    "print(seresnet50_pretrained)"
   ]
  },
  {
   "cell_type": "code",
   "execution_count": null,
   "id": "e1fe78ea-9193-4745-8a35-223bfea8d91e",
   "metadata": {
    "collapsed": true,
    "jupyter": {
     "outputs_hidden": true
    },
    "tags": []
   },
   "outputs": [],
   "source": [
    "num_classes = 1\n",
    "num_features = seresnet50_pretrained.fc.in_features\n",
    "seresnet50_pretrained.fc = nn.Linear(num_features, num_classes)\n",
    "\n",
    "seresnet50_pretrained"
   ]
  },
  {
   "cell_type": "code",
   "execution_count": 18,
   "id": "ef742d81-0d0b-450f-a94c-6ed61af49699",
   "metadata": {},
   "outputs": [
    {
     "name": "stdout",
     "output_type": "stream",
     "text": [
      "gpu?  True\n",
      "Current gpu:  0\n",
      "Allocated: 0.0 GB\n",
      "Cached:    0.0 GB\n"
     ]
    },
    {
     "name": "stderr",
     "output_type": "stream",
     "text": [
      "/home/crop2292/anaconda3/envs/hoon/lib/python3.6/site-packages/torch/cuda/memory.py:386: FutureWarning: torch.cuda.memory_cached has been renamed to torch.cuda.memory_reserved\n",
      "  FutureWarning)\n"
     ]
    }
   ],
   "source": [
    "GPU_NUM = 0\n",
    "os.environ[\"CUDA_VISIBLE_DEVICES\"]='1'\n",
    "print('gpu? ', torch.cuda.is_available())\n",
    "device = torch.device(f'cuda:{GPU_NUM}' if torch.cuda.is_available() else 'cpu')\n",
    "torch.cuda.set_device(device)\n",
    "print('Current gpu: ', torch.cuda.current_device())\n",
    "\n",
    "if device.type == 'cuda':\n",
    "    print('Allocated:', round(torch.cuda.memory_allocated(GPU_NUM)/1024**3,1), 'GB')\n",
    "    print('Cached:   ', round(torch.cuda.memory_cached(GPU_NUM)/1024**3,1), 'GB')\n",
    "    \n",
    "# model = resnet50_pretrained.to(device)\n",
    "# x = torch.randn(3, 3, 224, 224).to(device)\n",
    "# output = model(x)\n",
    "# print(output)"
   ]
  },
  {
   "cell_type": "code",
   "execution_count": 34,
   "id": "3103e68e-b9ab-4b17-af00-d9ec11b61f5b",
   "metadata": {},
   "outputs": [],
   "source": [
    "# model_name = 'Resnet50(b=16,Adam,seed)_weights_pt'\n",
    "# model_name1 = 'Resnet50(b=16,Adam,Focal_alpha(0.75),WRS,sche,seed)_weights_pt'\n",
    "# model_name2 = 'Resnet50(b=16,Adam,Focal_alpha(0.75),WRS,seed)_weights_pt'\n",
    "# model_name3 = 'seresnet50(b=16,Adam,Focal_alpha(0.75),WRS,sche,seed)_weights_pt'\n",
    "# model_name4 = 'seresnet50(b=16,Adam,Focal_alpha(0.75),WRS,sche,seed,7)_weights_pt'\n",
    "model_ex_name = 'resnet50(b=16,Adam,Focal_alpha(0.65),WRS,sche,seed,7,pre,AUG,re)_weights_pt'\n",
    "\n",
    "model_path = '/mnt/nas100_vol2/LeeJungHoon/AOV_task(binary_clssification)/Model_V2/weights_file/'"
   ]
  },
  {
   "cell_type": "code",
   "execution_count": 35,
   "id": "f28a0cfb-19e0-4347-8b58-019647f33e90",
   "metadata": {},
   "outputs": [
    {
     "data": {
      "text/plain": [
       "<All keys matched successfully>"
      ]
     },
     "execution_count": 35,
     "metadata": {},
     "output_type": "execute_result"
    }
   ],
   "source": [
    "# model = resnet50_pretrained.to(device)\n",
    "# model.load_state_dict(torch.load(model_path + model_name))\n",
    "\n",
    "# model1 = resnet50_pretrained.to(device)\n",
    "# model1.load_state_dict(torch.load(model_path + model_name1))\n",
    "\n",
    "# model2 = resnet50_pretrained.to(device)\n",
    "# model2.load_state_dict(torch.load(model_path + model_name2))\n",
    "\n",
    "model_ex = resnet50_pretrained.to(device)\n",
    "model_ex.load_state_dict(torch.load(model_path + model_ex_name))"
   ]
  },
  {
   "cell_type": "code",
   "execution_count": 32,
   "id": "5681f662-5126-42ce-9f6b-36179e7da03a",
   "metadata": {},
   "outputs": [
    {
     "data": {
      "text/plain": [
       "<All keys matched successfully>"
      ]
     },
     "execution_count": 32,
     "metadata": {},
     "output_type": "execute_result"
    }
   ],
   "source": [
    "# model3 = seresnet50_pretrained.to(device)\n",
    "# model3.load_state_dict(torch.load(model_path + model_name3))\n",
    "\n",
    "# model4 = seresnet50_pretrained.to(device)\n",
    "# model4.load_state_dict(torch.load(model_path + model_name4))"
   ]
  },
  {
   "cell_type": "markdown",
   "id": "a135b26d-15c5-46d6-9f18-736b9e70fea7",
   "metadata": {},
   "source": [
    "## Base Line model test"
   ]
  },
  {
   "cell_type": "code",
   "execution_count": null,
   "id": "d0773875-7b4c-4fb5-870c-a535a3674866",
   "metadata": {
    "collapsed": true,
    "jupyter": {
     "outputs_hidden": true
    },
    "tags": []
   },
   "outputs": [],
   "source": [
    "from sklearn.metrics import classification_report, confusion_matrix, accuracy_score\n",
    "# output = model(input_data)\n",
    "model.eval()  \n",
    "\n",
    "test_accuracy = 0.0\n",
    "running_accuracy = 0.0\n",
    "len_dataset = len(test_dataloader.dataset)\n",
    "pred = []\n",
    "label = []\n",
    "outputs = []\n",
    "incorrect_normal_list = []\n",
    "incorrect_abnormal_list = []\n",
    "\n",
    "# valid data\n",
    "with torch.no_grad():\n",
    "    for data in test_dataloader:\n",
    "        \n",
    "        inputs = data['img']\n",
    "        labels = data['label']\n",
    "        idx = data['filename']\n",
    "        \n",
    "        inputs = inputs.to(device)\n",
    "        labels = labels.to(device, dtype = torch.float32)\n",
    "        print(model(inputs))\n",
    "        \n",
    "        output = torch.squeeze(model(inputs))\n",
    "        output_sig = torch.sigmoid(output)\n",
    "        outputs.append(output_sig.cpu())\n",
    "        y_pred = output_sig.cpu()\n",
    "        y_pred[y_pred >= 0.5] = 1\n",
    "        y_pred[y_pred < 0.5] = 0\n",
    "        \n",
    "        if y_pred != labels.cpu():\n",
    "            if labels.cpu() == 1:\n",
    "                incorrect_abnormal_list.append(idx)\n",
    "            else:\n",
    "                incorrect_normal_list.append(idx)\n",
    "                \n",
    "            \n",
    "        \n",
    "        \n",
    "        y_pred_ = y_pred.detach().cpu().numpy().tolist()\n",
    "        print(y_pred_)\n",
    "        \n",
    "        correct_num = y_pred.eq(labels.cpu()).int().sum()\n",
    "        running_accuracy += correct_num\n",
    "        print(correct_num)\n",
    "        \n",
    "        labels_numpy = labels.detach().cpu().numpy().tolist()\n",
    "        print(labels_numpy)\n",
    "        \n",
    "        \n",
    "        pred.append(y_pred_)\n",
    "        label.append(labels_numpy)\n",
    "        \n",
    "#         print(confusion_matrix(y_pred,labels_numpy))\n",
    "#         print(classification_report(y_pred,labels_numpy))\n",
    "#         print(accuracy_score(y_pred,labels_numpy))\n",
    "\n",
    "test_accuracy = running_accuracy / len_dataset\n"
   ]
  },
  {
   "cell_type": "markdown",
   "id": "1f2fe9da-9c4e-4a52-8df3-c8e7767a022b",
   "metadata": {},
   "source": [
    "## Resnet50(b=16,Adam,Focal_alpha(0.75),WRS,sche,seed) test"
   ]
  },
  {
   "cell_type": "code",
   "execution_count": null,
   "id": "6e1cbd61-38ca-4028-9746-8680aeae6a83",
   "metadata": {
    "collapsed": true,
    "jupyter": {
     "outputs_hidden": true
    },
    "tags": []
   },
   "outputs": [],
   "source": [
    "from sklearn.metrics import classification_report, confusion_matrix, accuracy_score\n",
    "# output = model(input_data)\n",
    "model1.eval()  \n",
    "\n",
    "test_accuracy = 0.0\n",
    "running_accuracy = 0.0\n",
    "len_dataset = len(test_dataloader.dataset)\n",
    "pred_1 = []\n",
    "label_1 = []\n",
    "outputs_1 = []\n",
    "incorrect_normal_list = []\n",
    "incorrect_abnormal_list = []\n",
    "\n",
    "# valid data\n",
    "with torch.no_grad():\n",
    "    for data in test_dataloader:\n",
    "        \n",
    "        inputs = data['img']\n",
    "        labels = data['label']\n",
    "        idx = data['filename']\n",
    "        \n",
    "        inputs = inputs.to(device)\n",
    "        labels = labels.to(device, dtype = torch.float32)\n",
    "        print(model1(inputs))\n",
    "        \n",
    "        output = torch.squeeze(model1(inputs))\n",
    "        output_sig = torch.sigmoid(output)\n",
    "        outputs_1.append(output_sig.cpu())\n",
    "        y_pred = output_sig.cpu()\n",
    "        y_pred[y_pred >= 0.5] = 1\n",
    "        y_pred[y_pred < 0.5] = 0\n",
    "        \n",
    "        if y_pred != labels.cpu():\n",
    "            if labels.cpu() == 1:\n",
    "                incorrect_abnormal_list.append(idx)\n",
    "            else:\n",
    "                incorrect_normal_list.append(idx)\n",
    "                \n",
    "            \n",
    "        \n",
    "        \n",
    "        y_pred_ = y_pred.detach().cpu().numpy().tolist()\n",
    "        print(y_pred_)\n",
    "        \n",
    "        correct_num = y_pred.eq(labels.cpu()).int().sum()\n",
    "        running_accuracy += correct_num\n",
    "        print(correct_num)\n",
    "        \n",
    "        labels_numpy = labels.detach().cpu().numpy().tolist()\n",
    "        print(labels_numpy)\n",
    "        \n",
    "        \n",
    "        pred_1.append(y_pred_)\n",
    "        label_1.append(labels_numpy)\n",
    "        \n",
    "#         print(confusion_matrix(y_pred,labels_numpy))\n",
    "#         print(classification_report(y_pred,labels_numpy))\n",
    "#         print(accuracy_score(y_pred,labels_numpy))\n",
    "\n",
    "test_accuracy = running_accuracy / len_dataset\n"
   ]
  },
  {
   "cell_type": "markdown",
   "id": "a9e0c302-b813-44a2-aaeb-4044f40bb450",
   "metadata": {},
   "source": [
    "## Resnet50(b=16,Adam,Focal_alpha(0.75),WRS,seed)"
   ]
  },
  {
   "cell_type": "code",
   "execution_count": null,
   "id": "528d090b-22d6-4236-8e42-57c9b92374fe",
   "metadata": {
    "collapsed": true,
    "jupyter": {
     "outputs_hidden": true
    },
    "tags": []
   },
   "outputs": [],
   "source": [
    "from sklearn.metrics import classification_report, confusion_matrix, accuracy_score\n",
    "# output = model(input_data)\n",
    "model2.eval()  \n",
    "\n",
    "test_accuracy = 0.0\n",
    "running_accuracy = 0.0\n",
    "len_dataset = len(test_dataloader.dataset)\n",
    "pred_2 = []\n",
    "label_2 = []\n",
    "outputs_2 = []\n",
    "incorrect_normal_list = []\n",
    "incorrect_abnormal_list = []\n",
    "\n",
    "# valid data\n",
    "with torch.no_grad():\n",
    "    for data in test_dataloader:\n",
    "        \n",
    "        inputs = data['img']\n",
    "        labels = data['label']\n",
    "        idx = data['filename']\n",
    "        \n",
    "        inputs = inputs.to(device)\n",
    "        labels = labels.to(device, dtype = torch.float32)\n",
    "        print(model2(inputs))\n",
    "        \n",
    "        output = torch.squeeze(model2(inputs))\n",
    "        output_sig = torch.sigmoid(output)\n",
    "        outputs_2.append(output_sig.cpu())\n",
    "        y_pred = output_sig.cpu()\n",
    "        y_pred[y_pred >= 0.5] = 1\n",
    "        y_pred[y_pred < 0.5] = 0\n",
    "        \n",
    "        if y_pred != labels.cpu():\n",
    "            if labels.cpu() == 1:\n",
    "                incorrect_abnormal_list.append(idx)\n",
    "            else:\n",
    "                incorrect_normal_list.append(idx)\n",
    "                \n",
    "            \n",
    "        \n",
    "        \n",
    "        y_pred_ = y_pred.detach().cpu().numpy().tolist()\n",
    "        print(y_pred_)\n",
    "        \n",
    "        correct_num = y_pred.eq(labels.cpu()).int().sum()\n",
    "        running_accuracy += correct_num\n",
    "        print(correct_num)\n",
    "        \n",
    "        labels_numpy = labels.detach().cpu().numpy().tolist()\n",
    "        print(labels_numpy)\n",
    "        \n",
    "        \n",
    "        pred_2.append(y_pred_)\n",
    "        label_2.append(labels_numpy)\n",
    "        \n",
    "#         print(confusion_matrix(y_pred,labels_numpy))\n",
    "#         print(classification_report(y_pred,labels_numpy))\n",
    "#         print(accuracy_score(y_pred,labels_numpy))\n",
    "\n",
    "test_accuracy = running_accuracy / len_dataset\n"
   ]
  },
  {
   "cell_type": "markdown",
   "id": "36f2973a-4d07-4b37-a91b-363acbdbcfe1",
   "metadata": {},
   "source": [
    "## seresnet50(b=16,Adam,Focal_alpha(0.75),WRS,sche,seed)"
   ]
  },
  {
   "cell_type": "code",
   "execution_count": null,
   "id": "39fe3eae-41fb-400f-9ce5-e5c0146872b6",
   "metadata": {
    "collapsed": true,
    "jupyter": {
     "outputs_hidden": true
    },
    "tags": []
   },
   "outputs": [],
   "source": [
    "from sklearn.metrics import classification_report, confusion_matrix, accuracy_score\n",
    "# output = model(input_data)\n",
    "model3.eval()  \n",
    "\n",
    "test_accuracy = 0.0\n",
    "running_accuracy = 0.0\n",
    "len_dataset = len(test_dataloader.dataset)\n",
    "pred_3 = []\n",
    "label_3 = []\n",
    "outputs_3 = []\n",
    "incorrect_normal_list = []\n",
    "incorrect_abnormal_list = []\n",
    "\n",
    "# valid data\n",
    "with torch.no_grad():\n",
    "    for data in test_dataloader:\n",
    "        \n",
    "        inputs = data['img']\n",
    "        labels = data['label']\n",
    "        idx = data['filename']\n",
    "        \n",
    "        inputs = inputs.to(device)\n",
    "        labels = labels.to(device, dtype = torch.float32)\n",
    "        print(model3(inputs))\n",
    "        \n",
    "        output = torch.squeeze(model3(inputs))\n",
    "        output_sig = torch.sigmoid(output)\n",
    "        outputs_3.append(output_sig.cpu())\n",
    "        y_pred = output_sig.cpu()\n",
    "        y_pred[y_pred >= 0.5] = 1\n",
    "        y_pred[y_pred < 0.5] = 0\n",
    "        \n",
    "        if y_pred != labels.cpu():\n",
    "            if labels.cpu() == 1:\n",
    "                incorrect_abnormal_list.append(idx)\n",
    "            else:\n",
    "                incorrect_normal_list.append(idx)\n",
    "                \n",
    "            \n",
    "        \n",
    "        \n",
    "        y_pred_ = y_pred.detach().cpu().numpy().tolist()\n",
    "        print(y_pred_)\n",
    "        \n",
    "        correct_num = y_pred.eq(labels.cpu()).int().sum()\n",
    "        running_accuracy += correct_num\n",
    "        print(correct_num)\n",
    "        \n",
    "        labels_numpy = labels.detach().cpu().numpy().tolist()\n",
    "        print(labels_numpy)\n",
    "        \n",
    "        \n",
    "        pred_3.append(y_pred_)\n",
    "        label_3.append(labels_numpy)\n",
    "        \n",
    "#         print(confusion_matrix(y_pred,labels_numpy))\n",
    "#         print(classification_report(y_pred,labels_numpy))\n",
    "#         print(accuracy_score(y_pred,labels_numpy))\n",
    "\n",
    "test_accuracy = running_accuracy / len_dataset\n"
   ]
  },
  {
   "cell_type": "markdown",
   "id": "ca9875bb-41ce-430a-817d-5ced9b15ea48",
   "metadata": {},
   "source": [
    "## seresnet50(b=16,Adam,Focal_alpha(0.75),WRS,sche,seed,7)"
   ]
  },
  {
   "cell_type": "code",
   "execution_count": null,
   "id": "b78a8fe7-135a-4f52-aefa-652cd1c13223",
   "metadata": {
    "collapsed": true,
    "jupyter": {
     "outputs_hidden": true
    },
    "tags": []
   },
   "outputs": [],
   "source": [
    "from sklearn.metrics import classification_report, confusion_matrix, accuracy_score\n",
    "# output = model(input_data)\n",
    "model4.eval()  \n",
    "\n",
    "test_accuracy = 0.0\n",
    "running_accuracy = 0.0\n",
    "len_dataset = len(test_dataloader_7.dataset)\n",
    "pred_4 = []\n",
    "label_4 = []\n",
    "outputs_4 = []\n",
    "incorrect_normal_list = []\n",
    "incorrect_abnormal_list = []\n",
    "\n",
    "# valid data\n",
    "with torch.no_grad():\n",
    "    for data in test_dataloader_7:\n",
    "        \n",
    "        inputs = data['img']\n",
    "        labels = data['label']\n",
    "        idx = data['filename']\n",
    "        \n",
    "        inputs = inputs.to(device)\n",
    "        labels = labels.to(device, dtype = torch.float32)\n",
    "        print(model3(inputs))\n",
    "        \n",
    "        output = torch.squeeze(model4(inputs))\n",
    "        output_sig = torch.sigmoid(output)\n",
    "        outputs_4.append(output_sig.cpu())\n",
    "        y_pred = output_sig.cpu()\n",
    "        y_pred[y_pred >= 0.5] = 1\n",
    "        y_pred[y_pred < 0.5] = 0\n",
    "        \n",
    "        if y_pred != labels.cpu():\n",
    "            if labels.cpu() == 1:\n",
    "                incorrect_abnormal_list.append(idx)\n",
    "            else:\n",
    "                incorrect_normal_list.append(idx)\n",
    "                \n",
    "            \n",
    "        \n",
    "        \n",
    "        y_pred_ = y_pred.detach().cpu().numpy().tolist()\n",
    "        print(y_pred_)\n",
    "        \n",
    "        correct_num = y_pred.eq(labels.cpu()).int().sum()\n",
    "        running_accuracy += correct_num\n",
    "        print(correct_num)\n",
    "        \n",
    "        labels_numpy = labels.detach().cpu().numpy().tolist()\n",
    "        print(labels_numpy)\n",
    "        \n",
    "        \n",
    "        pred_4.append(y_pred_)\n",
    "        label_4.append(labels_numpy)\n",
    "        \n",
    "#         print(confusion_matrix(y_pred,labels_numpy))\n",
    "#         print(classification_report(y_pred,labels_numpy))\n",
    "#         print(accuracy_score(y_pred,labels_numpy))\n",
    "\n",
    "test_accuracy = running_accuracy / len_dataset\n"
   ]
  },
  {
   "cell_type": "markdown",
   "id": "d7ea960b-a554-4d5f-8e9e-08fa2ec9610c",
   "metadata": {},
   "source": [
    "## resnet50(b=16,Adam,Focal_alpha(0.65),WRS,sche,seed,7,pre,AUG)"
   ]
  },
  {
   "cell_type": "code",
   "execution_count": null,
   "id": "874d2da0-6944-434a-9883-d08a882ce7fb",
   "metadata": {
    "collapsed": true,
    "jupyter": {
     "outputs_hidden": true
    },
    "tags": []
   },
   "outputs": [],
   "source": [
    "from sklearn.metrics import classification_report, confusion_matrix, accuracy_score\n",
    "# output = model(input_data)\n",
    "model_ex.eval()  \n",
    "\n",
    "test_accuracy = 0.0\n",
    "running_accuracy = 0.0\n",
    "len_dataset = len(test_dataloader_ex.dataset)\n",
    "pred_ex = []\n",
    "label_ex = []\n",
    "outputs_ex = []\n",
    "incorrect_normal_list = []\n",
    "incorrect_abnormal_list = []\n",
    "\n",
    "# valid data\n",
    "with torch.no_grad():\n",
    "    for data in test_dataloader_ex:\n",
    "        \n",
    "        inputs = data['img']\n",
    "        labels = data['label']\n",
    "        idx = data['filename']\n",
    "        \n",
    "        inputs = inputs.to(device)\n",
    "        labels = labels.to(device, dtype = torch.float32)\n",
    "        print(model_ex(inputs))\n",
    "        \n",
    "        output = torch.squeeze(model_ex(inputs))\n",
    "        output_sig = torch.sigmoid(output)\n",
    "        outputs_ex.append(output_sig.cpu())\n",
    "        y_pred = output_sig.cpu()\n",
    "        y_pred[y_pred >= 0.5] = 1\n",
    "        y_pred[y_pred < 0.5] = 0\n",
    "        \n",
    "        if y_pred != labels.cpu():\n",
    "            if labels.cpu() == 1:\n",
    "                incorrect_abnormal_list.append(idx)\n",
    "            else:\n",
    "                incorrect_normal_list.append(idx)\n",
    "                \n",
    "            \n",
    "        \n",
    "        \n",
    "        y_pred_ = y_pred.detach().cpu().numpy().tolist()\n",
    "        print(y_pred_)\n",
    "        \n",
    "        correct_num = y_pred.eq(labels.cpu()).int().sum()\n",
    "        running_accuracy += correct_num\n",
    "        print(correct_num)\n",
    "        \n",
    "        labels_numpy = labels.detach().cpu().numpy().tolist()\n",
    "        print(labels_numpy)\n",
    "        \n",
    "        \n",
    "        pred_ex.append(y_pred_)\n",
    "        label_ex.append(labels_numpy)\n",
    "        \n",
    "#         print(confusion_matrix(y_pred,labels_numpy))\n",
    "#         print(classification_report(y_pred,labels_numpy))\n",
    "#         print(accuracy_score(y_pred,labels_numpy))\n",
    "\n",
    "test_accuracy = running_accuracy / len_dataset\n"
   ]
  },
  {
   "cell_type": "markdown",
   "id": "7241c231-eef2-4116-8fbc-00fab5d555df",
   "metadata": {},
   "source": [
    "- confusion Matrix & ROC Curve"
   ]
  },
  {
   "cell_type": "code",
   "execution_count": 37,
   "id": "57f5bcc4-b202-48b5-bf61-3ed5d00d83ca",
   "metadata": {
    "tags": []
   },
   "outputs": [
    {
     "name": "stdout",
     "output_type": "stream",
     "text": [
      "Best Threshold=0.238699, sensitivity = 0.667, specificity = 0.833, J=0.500\n",
      "Best Threshold=0.267937, sensitivity = 0.923, specificity = 0.758, J=0.681\n",
      "Best Threshold=0.464133, sensitivity = 0.821, specificity = 0.818, J=0.639\n",
      "Best Threshold=0.528726, sensitivity = 0.846, specificity = 0.864, J=0.710\n",
      "Best Threshold=0.374231, sensitivity = 0.935, specificity = 0.804, J=0.739\n",
      "Best Threshold=0.589771, sensitivity = 0.910, specificity = 0.908, J=0.818\n",
      "[[62  4]\n",
      " [20 19]]\n",
      "[[55 11]\n",
      " [ 8 31]]\n",
      "[[56 10]\n",
      " [ 9 30]]\n",
      "[[54 12]\n",
      " [ 6 33]]\n",
      "[[77 15]\n",
      " [ 8 38]]\n",
      "[[67  9]\n",
      " [ 7 71]]\n"
     ]
    }
   ],
   "source": [
    "from sklearn.metrics import roc_curve\n",
    "from numpy import argmax\n",
    "\n",
    "# calculate roc curves\n",
    "fpr, tpr, thresholds = roc_curve(label, outputs)\n",
    "fpr1, tpr1, thresholds_1 = roc_curve(label_1, outputs_1)\n",
    "fpr2, tpr2, thresholds_2 = roc_curve(label_2, outputs_2)\n",
    "fpr3, tpr3, thresholds_3 = roc_curve(label_3, outputs_3)\n",
    "fpr4, tpr4, thresholds_4 = roc_curve(label_4, outputs_4)\n",
    "fpr_ex, tpr_ex, thresvholds_ex = roc_curve(label_ex, outputs_ex)\n",
    "\n",
    "#get the best threshold\n",
    "J = tpr - fpr\n",
    "J1 = tpr1 - fpr1\n",
    "J2 = tpr2 - fpr2\n",
    "J3 = tpr3 - fpr3\n",
    "J4 = tpr4 - fpr4\n",
    "J_ex = tpr_ex - fpr_ex\n",
    "\n",
    "ix = argmax(J)\n",
    "ix1 = argmax(J1)\n",
    "ix2 = argmax(J2)\n",
    "ix3 = argmax(J3)\n",
    "ix4 = argmax(J4)\n",
    "ix_ex = argmax(J_ex)\n",
    "\n",
    "best_thresh = thresholds[ix]\n",
    "best_thresh1 = thresholds_1[ix1]\n",
    "best_thresh2 = thresholds_2[ix2]\n",
    "best_thresh3 = thresholds_3[ix3]\n",
    "best_thresh4 = thresholds_4[ix4]\n",
    "best_thresh_ex = thresholds_3[ix_ex]\n",
    "\n",
    "print('Best Threshold=%f, sensitivity = %.3f, specificity = %.3f, J=%.3f' % (best_thresh, tpr[ix], 1-fpr[ix], J[ix]))\n",
    "print('Best Threshold=%f, sensitivity = %.3f, specificity = %.3f, J=%.3f' % (best_thresh1, tpr1[ix1], 1-fpr1[ix1], J1[ix1]))\n",
    "print('Best Threshold=%f, sensitivity = %.3f, specificity = %.3f, J=%.3f' % (best_thresh2, tpr2[ix2], 1-fpr2[ix2], J2[ix2]))\n",
    "print('Best Threshold=%f, sensitivity = %.3f, specificity = %.3f, J=%.3f' % (best_thresh3, tpr3[ix3], 1-fpr3[ix3], J3[ix3]))\n",
    "print('Best Threshold=%f, sensitivity = %.3f, specificity = %.3f, J=%.3f' % (best_thresh4, tpr4[ix4], 1-fpr4[ix4], J4[ix4]))\n",
    "print('Best Threshold=%f, sensitivity = %.3f, specificity = %.3f, J=%.3f' % (best_thresh_ex, tpr_ex[ix_ex], 1-fpr_ex[ix_ex], J_ex[ix_ex]))\n",
    "\n",
    "\n",
    "\n",
    "print(confusion_matrix(label,pred))\n",
    "print(confusion_matrix(label_1,pred_1))\n",
    "print(confusion_matrix(label_2,pred_2))\n",
    "print(confusion_matrix(label_3,pred_3))\n",
    "print(confusion_matrix(label_4,pred_4))\n",
    "print(confusion_matrix(label_ex,pred_ex))\n",
    "# print(classification_report(label,pred))\n",
    "# cm = confusion_matrix(label,pred)"
   ]
  },
  {
   "cell_type": "code",
   "execution_count": 38,
   "id": "8eecbaf9-95ad-41eb-912b-c8197d22c75d",
   "metadata": {},
   "outputs": [
    {
     "data": {
      "image/png": "[encoded data removed]",
      "text/plain": [
       "<Figure size 504x504 with 1 Axes>"
      ]
     },
     "metadata": {
      "needs_background": "light"
     },
     "output_type": "display_data"
    }
   ],
   "source": [
    "from sklearn.metrics import roc_auc_score\n",
    "\n",
    "#plot roc and best threshold\n",
    "sens, spec = tpr[ix], 1-fpr[ix]\n",
    "sens1, spec1 = tpr1[ix1], 1-fpr1[ix1]\n",
    "sens2, spec2 = tpr2[ix2], 1-fpr2[ix2]\n",
    "sens3, spec3 = tpr3[ix3], 1-fpr3[ix3]\n",
    "sens4, spec4 = tpr4[ix4], 1-fpr4[ix4]\n",
    "sens_ex, spec_ex = tpr[ix_ex], 1-fpr[ix_ex]\n",
    "\n",
    "# plot the roc curve for the model\n",
    "plt.figure(figsize=(7,7))\n",
    "plt.plot([0,1], [0,1], linestyle='--', markersize=0.01, color='black')\n",
    "plt.plot(fpr, tpr, marker='.', color='black', markersize=0.05, label=\"Resnet AUC = %.3f\" % roc_auc_score(label, pred))\n",
    "plt.plot(fpr2, tpr2, marker='.', color='red', markersize=0.05, label=\"Resnet(FC,WRS) AUC = %.3f\" % roc_auc_score(label_2, pred_2))\n",
    "plt.plot(fpr1, tpr1, marker='.', color='blue', markersize=0.05, label=\"Resnet(FC,WRS,shce) AUC = %.3f\" % roc_auc_score(label_1, pred_1))\n",
    "plt.plot(fpr3, tpr3, marker='.', color='limegreen', markersize=0.05, label=\"SE_Resnet(FC,WRS,shce) AUC = %.3f\" % roc_auc_score(label_3, pred_3))\n",
    "plt.plot(fpr4, tpr4, marker='.', color='yellow', markersize=0.05, label=\"SE_Resnet(FC,WRS,sche,7) AUC = %.3f\" % roc_auc_score(label_4, pred_4))\n",
    "plt.plot(fpr_ex, tpr_ex, marker='.', color='#ff7f0e', markersize=0.05, label=\"Resnet(FC,WRS,shce_ex,in) AUC = %.3f\" % roc_auc_score(label_ex, pred_ex))\n",
    "# plt.scatter(fpr[ix], tpr[ix], marker='+', s=100, color='r', \n",
    "#             label='Best threshold = %.3f, \\nSensitivity = %.3f, \\nSpecificity = %.3f' % (best_thresh, sens, spec))\n",
    "\n",
    "# axis labels\n",
    "plt.xlabel('False Positive Rate')\n",
    "plt.ylabel('True Positive Rate')\n",
    "plt.legend(loc=4)\n",
    "\n",
    "# show the plot\n",
    "plt.show()"
   ]
  },
  {
   "cell_type": "code",
   "execution_count": null,
   "id": "f3755080-2af0-4123-a919-6b4cb596c154",
   "metadata": {},
   "outputs": [],
   "source": []
  }
 ],
 "metadata": {
  "kernelspec": {
   "display_name": "Python 3",
   "language": "python",
   "name": "python3"
  },
  "language_info": {
   "codemirror_mode": {
    "name": "ipython",
    "version": 3
   },
   "file_extension": ".py",
   "mimetype": "text/x-python",
   "name": "python",
   "nbconvert_exporter": "python",
   "pygments_lexer": "ipython3",
   "version": "3.6.13"
  }
 },
 "nbformat": 4,
 "nbformat_minor": 5
}
