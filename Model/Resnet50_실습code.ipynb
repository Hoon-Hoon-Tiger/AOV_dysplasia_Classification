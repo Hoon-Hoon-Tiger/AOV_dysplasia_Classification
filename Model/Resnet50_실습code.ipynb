{
 "cells": [
  {
   "cell_type": "markdown",
   "id": "b2f75abd",
   "metadata": {},
   "source": [
    "# library import "
   ]
  },
  {
   "cell_type": "code",
   "execution_count": 2,
   "id": "e82b964f",
   "metadata": {},
   "outputs": [],
   "source": [
    "# import package\n",
    "import torch\n",
    "import torch.nn as nn\n",
    "import torch.nn.functional as F\n",
    "from torchsummary import summary\n",
    "from torch import optim\n",
    "from torch.optim.lr_scheduler import StepLR\n",
    "\n",
    "#dataset and transformation\n",
    "from torchvision import datasets\n",
    "import torchvision.transforms as transforms\n",
    "from torch.utils.data import DataLoader\n",
    "import os\n",
    "\n",
    "#display images\n",
    "from torchvision import utils\n",
    "import matplotlib.pyplot as plt\n",
    "\n",
    "#utils\n",
    "import numpy as np\n",
    "import time\n",
    "import copy"
   ]
  },
  {
   "cell_type": "code",
   "execution_count": 4,
   "id": "346f48d0",
   "metadata": {},
   "outputs": [
    {
     "name": "stdout",
     "output_type": "stream",
     "text": [
      "Files already downloaded and verified\n",
      "Files already downloaded and verified\n",
      "5000\n",
      "8000\n"
     ]
    }
   ],
   "source": [
    "#데이터 저장 경로 지정\n",
    "path2data  = 'data'\n",
    "\n",
    "# 위에서 지정한 파일 경로가 존재하지 않을 경우 새로운 디렉토리 생성\n",
    "if not os.path.exists(path2data):\n",
    "    os.mkdir(path2data)\n",
    "    \n",
    "#load datasets\n",
    "train_ds = datasets.STL10  (path2data, split = 'train',download=True, transform = transforms.ToTensor())\n",
    "val_ds = datasets.STL10(path2data, split = 'test',download=True, transform = transforms.ToTensor())\n",
    "\n",
    "print(len(train_ds))\n",
    "print(len(val_ds))"
   ]
  },
  {
   "cell_type": "code",
   "execution_count": 5,
   "id": "8b292d19",
   "metadata": {},
   "outputs": [
    {
     "data": {
      "text/plain": [
       "Dataset STL10\n",
       "    Number of datapoints: 5000\n",
       "    Root location: data\n",
       "    Split: train\n",
       "    StandardTransform\n",
       "Transform: ToTensor()"
      ]
     },
     "execution_count": 5,
     "metadata": {},
     "output_type": "execute_result"
    }
   ],
   "source": [
    "train_ds"
   ]
  },
  {
   "cell_type": "code",
   "execution_count": 12,
   "id": "4c6771fd",
   "metadata": {},
   "outputs": [
    {
     "name": "stdout",
     "output_type": "stream",
     "text": [
      "torch.Size([3, 96, 96])\n"
     ]
    },
    {
     "data": {
      "text/plain": [
       "array([0.39389047, 0.3740145 , 0.15717806], dtype=float32)"
      ]
     },
     "execution_count": 12,
     "metadata": {},
     "output_type": "execute_result"
    }
   ],
   "source": [
    "img, label = train_ds[18]\n",
    "print(img.shape)\n",
    "np.mean(img.numpy(), axis=(1,2))\n"
   ]
  },
  {
   "cell_type": "code",
   "execution_count": 10,
   "id": "880c1d79-3912-478b-a9db-fa2d31546c66",
   "metadata": {},
   "outputs": [
    {
     "ename": "IndexError",
     "evalue": "only integers, slices (`:`), ellipsis (`...`), numpy.newaxis (`None`) and integer or boolean arrays are valid indices",
     "output_type": "error",
     "traceback": [
      "\u001b[0;31m---------------------------------------------------------------------------\u001b[0m",
      "\u001b[0;31mIndexError\u001b[0m                                Traceback (most recent call last)",
      "\u001b[0;32m<ipython-input-10-c256401a8d4b>\u001b[0m in \u001b[0;36m<module>\u001b[0;34m\u001b[0m\n\u001b[0;32m----> 1\u001b[0;31m \u001b[0mtrain_ds\u001b[0m\u001b[0;34m[\u001b[0m\u001b[0;34m'img'\u001b[0m\u001b[0;34m]\u001b[0m\u001b[0;34m\u001b[0m\u001b[0;34m\u001b[0m\u001b[0m\n\u001b[0m",
      "\u001b[0;32m~/anaconda3/envs/hoon/lib/python3.6/site-packages/torchvision/datasets/stl10.py\u001b[0m in \u001b[0;36m__getitem__\u001b[0;34m(self, index)\u001b[0m\n\u001b[1;32m    119\u001b[0m         \u001b[0mtarget\u001b[0m\u001b[0;34m:\u001b[0m \u001b[0mOptional\u001b[0m\u001b[0;34m[\u001b[0m\u001b[0mint\u001b[0m\u001b[0;34m]\u001b[0m\u001b[0;34m\u001b[0m\u001b[0;34m\u001b[0m\u001b[0m\n\u001b[1;32m    120\u001b[0m         \u001b[0;32mif\u001b[0m \u001b[0mself\u001b[0m\u001b[0;34m.\u001b[0m\u001b[0mlabels\u001b[0m \u001b[0;32mis\u001b[0m \u001b[0;32mnot\u001b[0m \u001b[0;32mNone\u001b[0m\u001b[0;34m:\u001b[0m\u001b[0;34m\u001b[0m\u001b[0;34m\u001b[0m\u001b[0m\n\u001b[0;32m--> 121\u001b[0;31m             \u001b[0mimg\u001b[0m\u001b[0;34m,\u001b[0m \u001b[0mtarget\u001b[0m \u001b[0;34m=\u001b[0m \u001b[0mself\u001b[0m\u001b[0;34m.\u001b[0m\u001b[0mdata\u001b[0m\u001b[0;34m[\u001b[0m\u001b[0mindex\u001b[0m\u001b[0;34m]\u001b[0m\u001b[0;34m,\u001b[0m \u001b[0mint\u001b[0m\u001b[0;34m(\u001b[0m\u001b[0mself\u001b[0m\u001b[0;34m.\u001b[0m\u001b[0mlabels\u001b[0m\u001b[0;34m[\u001b[0m\u001b[0mindex\u001b[0m\u001b[0;34m]\u001b[0m\u001b[0;34m)\u001b[0m\u001b[0;34m\u001b[0m\u001b[0;34m\u001b[0m\u001b[0m\n\u001b[0m\u001b[1;32m    122\u001b[0m         \u001b[0;32melse\u001b[0m\u001b[0;34m:\u001b[0m\u001b[0;34m\u001b[0m\u001b[0;34m\u001b[0m\u001b[0m\n\u001b[1;32m    123\u001b[0m             \u001b[0mimg\u001b[0m\u001b[0;34m,\u001b[0m \u001b[0mtarget\u001b[0m \u001b[0;34m=\u001b[0m \u001b[0mself\u001b[0m\u001b[0;34m.\u001b[0m\u001b[0mdata\u001b[0m\u001b[0;34m[\u001b[0m\u001b[0mindex\u001b[0m\u001b[0;34m]\u001b[0m\u001b[0;34m,\u001b[0m \u001b[0;32mNone\u001b[0m\u001b[0;34m\u001b[0m\u001b[0;34m\u001b[0m\u001b[0m\n",
      "\u001b[0;31mIndexError\u001b[0m: only integers, slices (`:`), ellipsis (`...`), numpy.newaxis (`None`) and integer or boolean arrays are valid indices"
     ]
    }
   ],
   "source": []
  },
  {
   "cell_type": "code",
   "execution_count": 19,
   "id": "45c5e81d",
   "metadata": {},
   "outputs": [
    {
     "name": "stdout",
     "output_type": "stream",
     "text": [
      "[0.5199615  0.47785485 0.34138668]\n",
      "[0.12017056 0.12164892 0.10806711]\n",
      "0.4467106 0.43980986 0.40664646\n",
      "0.44723064 0.4396425 0.40495726\n"
     ]
    }
   ],
   "source": [
    "#data normalize\n",
    "train_meanRGB = [np.mean(x.numpy(), axis=(1,2)) for x,_ in train_ds]\n",
    "train_stdRGB= [np.std(x.numpy(), axis=(1,2)) for x,_ in train_ds]\n",
    "print(train_meanRGB[0])\n",
    "print(train_stdRGB[0])\n",
    "\n",
    "train_meanR = np.mean([m[0] for m in train_meanRGB])\n",
    "train_meanG = np.mean([m[1] for m in train_meanRGB])\n",
    "train_meanB = np.mean([m[2] for m in train_meanRGB])\n",
    "train_stdR = np.mean([m[0] for m in train_stdRGB])\n",
    "train_stdG = np.mean([m[1] for m in train_stdRGB])\n",
    "train_stdB = np.mean([m[2] for m in train_stdRGB])\n",
    "\n",
    "val_meanRGB = [np.mean(x.numpy(), axis=(1,2)) for x,_ in val_ds]\n",
    "val_stdRGB= [np.std(x.numpy(), axis=(1,2)) for x,_ in val_ds]\n",
    "\n",
    "val_meanR = np.mean([m[0] for m in val_meanRGB])\n",
    "val_meanG = np.mean([m[1] for m in val_meanRGB])\n",
    "val_meanB = np.mean([m[2] for m in val_meanRGB])\n",
    "val_stdR = np.mean([m[0] for m in val_stdRGB])\n",
    "val_stdG = np.mean([m[1] for m in val_stdRGB])\n",
    "val_stdB = np.mean([m[2] for m in val_stdRGB])\n",
    "\n",
    "print(train_meanR,train_meanG,train_meanB)\n",
    "print(val_meanR,val_meanG,val_meanB)"
   ]
  },
  {
   "cell_type": "code",
   "execution_count": null,
   "id": "0cf90510-35ec-4ec0-b982-2d9c837dabbe",
   "metadata": {},
   "outputs": [],
   "source": [
    "train_meanRGB.tpye"
   ]
  },
  {
   "cell_type": "code",
   "execution_count": 6,
   "id": "39601111",
   "metadata": {},
   "outputs": [],
   "source": [
    "# dataset에 적용할 transformation을 정의\n",
    "train_transformation = transforms.Compose([\n",
    "    transforms.ToTensor(),\n",
    "    transforms.Resize(224),\n",
    "    transforms.Normalize([train_meanR,train_meanG,train_meanB],[train_stdR,train_stdG,train_stdB]),\n",
    "    transforms.RandomHorizontalFlip(),\n",
    "])\n",
    "val_transformation = transforms.Compose([\n",
    "    transforms.ToTensor(),\n",
    "    transforms.Resize(224),\n",
    "    transforms.Normalize([val_meanR,val_meanG,val_meanB],[val_stdR,val_stdG,val_stdB]),\n",
    "])"
   ]
  },
  {
   "cell_type": "code",
   "execution_count": 7,
   "id": "1115418c",
   "metadata": {},
   "outputs": [],
   "source": [
    "#transformation을 dataset에 적용하고, dataloader 생성\n",
    "train_ds.transform = train_transformation\n",
    "val_ds.transform = val_transformation\n",
    "\n",
    "#data loader 생성\n",
    "train_datalodaer = DataLoader(train_ds, batch_size=32, shuffle = True)\n",
    "val_datalodaer = DataLoader(val_ds, batch_size=32, shuffle = True)"
   ]
  },
  {
   "cell_type": "code",
   "execution_count": 49,
   "id": "b709b574",
   "metadata": {},
   "outputs": [
    {
     "data": {
      "text/plain": [
       "5"
      ]
     },
     "execution_count": 49,
     "metadata": {},
     "output_type": "execute_result"
    }
   ],
   "source": [
    "# a = np.asarray(train_ds[235][0])\n",
    "# a.shape\n",
    "train_ds[4999][1]"
   ]
  },
  {
   "cell_type": "code",
   "execution_count": 31,
   "id": "b916ac16",
   "metadata": {},
   "outputs": [
    {
     "name": "stderr",
     "output_type": "stream",
     "text": [
      "Clipping input data to the valid range for imshow with RGB data ([0..1] for floats or [0..255] for integers).\n"
     ]
    },
    {
     "name": "stdout",
     "output_type": "stream",
     "text": [
      "image indices: [ 235 3980  905 2763]\n"
     ]
    },
    {
     "data": {
      "image/png": "[encoded data removed]",
      "text/plain": [
       "<Figure size 432x288 with 1 Axes>"
      ]
     },
     "metadata": {
      "needs_background": "light"
     },
     "output_type": "display_data"
    }
   ],
   "source": [
    "def show(img, y=None, color=True):\n",
    "    np_img = img.numpy()\n",
    "    #transpose를 이용해서 원래 이미지의 인덱스의 순열을 바꾸어준다. \n",
    "    np_img_tr = np.transpose(np_img,(1,2,0))\n",
    "    plt.imshow(np_img_tr)\n",
    "\n",
    "    if y is not None:\n",
    "        plt.title('labels :' + str(y))\n",
    "\n",
    "np.random.seed(1)\n",
    "torch.manual_seed(1)\n",
    "\n",
    "grid_size = 4\n",
    "#0~len(train_ds)까지 grid_size로 정수의 난수 생성\n",
    "rnd_inds = np.random.randint(0, len(train_ds), grid_size)\n",
    "print('image indices:',rnd_inds)\n",
    "\n",
    "x_grid = [train_ds[i][0] for i in rnd_inds]\n",
    "y_grid = [train_ds[i][1] for i in rnd_inds]\n",
    "\n",
    "#pytorch에서 NN을 사용해서 이미지를 훈련시킬 때 중간중간의 결과가 어떻게\n",
    "#나오는지 확인하고 싶을 때 사용.(torchvisioni.utils.make_grid)\n",
    "#https://aigong.tistory.com/183\n",
    "x_grid = utils.make_grid(x_grid, nrow=grid_size, padding=2)\n",
    "\n",
    "show(x_grid)"
   ]
  },
  {
   "cell_type": "code",
   "execution_count": 9,
   "id": "e97cf4c0",
   "metadata": {},
   "outputs": [
    {
     "name": "stderr",
     "output_type": "stream",
     "text": [
      "Clipping input data to the valid range for imshow with RGB data ([0..1] for floats or [0..255] for integers).\n"
     ]
    },
    {
     "data": {
      "image/png": "[encoded data removed]",
      "text/plain": [
       "<Figure size 432x288 with 1 Axes>"
      ]
     },
     "metadata": {
      "needs_background": "light"
     },
     "output_type": "display_data"
    }
   ],
   "source": [
    "show(x_grid,y_grid)"
   ]
  },
  {
   "cell_type": "code",
   "execution_count": 10,
   "id": "64d32f72",
   "metadata": {},
   "outputs": [
    {
     "data": {
      "text/plain": [
       "tensor([[[ 0.5614,  0.5614,  0.5614,  ...,  0.8413,  0.8413,  0.8413],\n",
       "         [ 0.5614,  0.5614,  0.5614,  ...,  0.8438,  0.8438,  0.8438],\n",
       "         [ 0.5614,  0.5614,  0.5614,  ...,  0.8513,  0.8513,  0.8513],\n",
       "         ...,\n",
       "         [ 0.3590,  0.3483,  0.3161,  ...,  0.4443,  0.4197,  0.4115],\n",
       "         [ 0.3665,  0.2926,  0.0708,  ...,  0.4946,  0.4379,  0.4189],\n",
       "         [ 0.3690,  0.2740, -0.0109,  ...,  0.5114,  0.4439,  0.4214]],\n",
       "\n",
       "        [[ 0.5462,  0.5462,  0.5462,  ...,  0.8295,  0.8295,  0.8295],\n",
       "         [ 0.5462,  0.5462,  0.5462,  ...,  0.8269,  0.8269,  0.8269],\n",
       "         [ 0.5462,  0.5462,  0.5462,  ...,  0.8194,  0.8194,  0.8194],\n",
       "         ...,\n",
       "         [ 0.1111,  0.1054,  0.0880,  ...,  0.2575,  0.2141,  0.1997],\n",
       "         [ 0.1187,  0.0490, -0.1602,  ...,  0.3355,  0.2792,  0.2604],\n",
       "         [ 0.1213,  0.0302, -0.2430,  ...,  0.3615,  0.3008,  0.2806]],\n",
       "\n",
       "        [[ 0.1104,  0.1104,  0.1104,  ...,  0.3907,  0.3907,  0.3907],\n",
       "         [ 0.1104,  0.1104,  0.1104,  ...,  0.3907,  0.3907,  0.3907],\n",
       "         [ 0.1104,  0.1104,  0.1104,  ...,  0.3907,  0.3907,  0.3907],\n",
       "         ...,\n",
       "         [-0.0997, -0.1380, -0.2527,  ...,  0.1172, -0.0661, -0.1273],\n",
       "         [ 0.0579, -0.0361, -0.3181,  ...,  0.1065, -0.1026, -0.1723],\n",
       "         [ 0.1104, -0.0022, -0.3399,  ...,  0.1029, -0.1148, -0.1873]]])"
      ]
     },
     "execution_count": 10,
     "metadata": {},
     "output_type": "execute_result"
    }
   ],
   "source": [
    "train_ds[0][0]"
   ]
  },
  {
   "cell_type": "code",
   "execution_count": 11,
   "id": "d06c02be",
   "metadata": {},
   "outputs": [
    {
     "data": {
      "text/plain": [
       "True"
      ]
     },
     "execution_count": 11,
     "metadata": {},
     "output_type": "execute_result"
    }
   ],
   "source": [
    "torch.cuda.is_available()"
   ]
  },
  {
   "cell_type": "markdown",
   "id": "142b3418",
   "metadata": {},
   "source": [
    "//현재 사용하고 있는 gpu가 아닌 다른 gpu로 설정해서 사용하고 싶을 경우\n",
    "os.environ[\"CUDA_VISIBLE_DEVICES\"] = 1\n",
    "//device = torch.device(f'cuda:{parser.number}' if torch.cuda.is_available() else 'cpu')\n",
    "device = torch.device(f'cuda' if torch.cuda.is_available() else 'cpu')\n",
    "torch.cuda.set_device(device)\n",
    "model.to(device)\n"
   ]
  },
  {
   "cell_type": "markdown",
   "id": "0e9e23a9",
   "metadata": {},
   "source": [
    "## 모델 구축"
   ]
  },
  {
   "cell_type": "markdown",
   "id": "ec60624c",
   "metadata": {},
   "source": [
    "### resnet 18, 34을 위한 Basic BottleNeck"
   ]
  },
  {
   "cell_type": "code",
   "execution_count": 12,
   "id": "15c7066d",
   "metadata": {},
   "outputs": [],
   "source": [
    "class BasicBlock(nn.Module):\n",
    "    expansion = 1\n",
    "    def __init__(self, in_channels, out_channels, stride = 1):\n",
    "        super().__init__()\n",
    "        \n",
    "        #BatchNorm에 bias가 포함되어 있으므로, conv2d는 bias=False로 설정. \n",
    "        self.residual_function = nn.Sequential(\n",
    "            nn.Conv2d(in_channels, out_channels, kernel_size=3, stride= stride, padding =1, bias=False),\n",
    "            nn.BatchNorm2d(out_channels),\n",
    "            nn.ReLU(),\n",
    "            nn.Conv2d(out_channels, out_channels * BasicBlock.expansion, kernel_size=3, stride= stride, padding =1, bias=False),\n",
    "            nn.BatchNorm2d(out_channels * BasicBlock.expansion),\n",
    "        )\n",
    "        \n",
    "        #identity mapping\n",
    "        # input과  output의 feature map size와 filter 수가 동일한 경우 사용\n",
    "        self.shortcut = nn.Sequential()\n",
    "        \n",
    "        self.relu = nn.ReLU()\n",
    "        \n",
    "        #porjection mapping using 1*1 conv\n",
    "        if stride != 1 or in_channels != BasicBlock.expansion * out_channels:\n",
    "            self.shortcut = nn.Sequential(\n",
    "            nn.Conv2d(in_channels, out_channels * BasicBlock.expansion, kernel_size=1, \n",
    "                      stride = stride, bias = False),\n",
    "            nn.BatchNorm2d(out_channels * BasicBlock.expansion)    \n",
    "            )\n",
    "    def forward(self,x):\n",
    "        x = self.residual_function(x) + self.shortcut(x)\n",
    "        x = self.relu(x)\n",
    "        return x\n"
   ]
  },
  {
   "cell_type": "markdown",
   "id": "10a9d334",
   "metadata": {},
   "source": [
    "### resnet 50,101,152을 위한 BottleNeck"
   ]
  },
  {
   "cell_type": "code",
   "execution_count": 13,
   "id": "e12d3f88",
   "metadata": {},
   "outputs": [],
   "source": [
    "class BottleNeck(nn.Module):\n",
    "    expansion = 4\n",
    "    def __init__(self, in_channels, out_channels, stride=1):\n",
    "        super().__init__()\n",
    "        \n",
    "        self.residual_function = nn.Sequential(\n",
    "            nn.Conv2d(in_channels, out_channels, kernel_size =1, stride= 1, bias =False),\n",
    "            nn.BatchNorm2d(out_channels),\n",
    "            nn.ReLU(),\n",
    "            nn.Conv2d(out_channels, out_channels, kernel_size =3, stride=stride, padding=1,bias= False),\n",
    "            nn.BatchNorm2d(out_channels),\n",
    "            nn.ReLU(),\n",
    "            nn.Conv2d(out_channels, out_channels*BottleNeck.expansion, kernel_size =1, stride=1, bias=False),\n",
    "            nn.BatchNorm2d(out_channels*BottleNeck.expansion),\n",
    "        )\n",
    "        self.shortcut = nn.Sequential()\n",
    "        \n",
    "        self.relu = nn.ReLU()\n",
    "        \n",
    "        #porjection mapping using 1*1 conv\n",
    "        if stride != 1 or in_channels != out_channels * BottleNeck.expansion:\n",
    "            self.shortcut = nn.Sequential(\n",
    "            nn.Conv2d(in_channels, out_channels * BottleNeck.expansion, kernel_size=1, \n",
    "                      stride = stride, bias = False),\n",
    "            nn.BatchNorm2d(out_channels * BottleNeck.expansion)    \n",
    "            )\n",
    "    def forward(self,x):\n",
    "        x = self.residual_function(x) + self.shortcut(x)\n",
    "        x = self.relu(x)\n",
    "        return x"
   ]
  },
  {
   "cell_type": "markdown",
   "id": "b60660a3",
   "metadata": {},
   "source": [
    "## ResNet 구현"
   ]
  },
  {
   "cell_type": "code",
   "execution_count": 14,
   "id": "8fbeeb5d",
   "metadata": {},
   "outputs": [],
   "source": [
    "class ResNet(nn.Module):\n",
    "    def __init__(self, block, num_block, num_classes = 10, init_weights = True):\n",
    "        super().__init__()\n",
    "        \n",
    "        self.in_channels =64\n",
    "        \n",
    "        self.conv1 = nn.Sequential(\n",
    "            nn.Conv2d(3, 64, kernel_size=7, stride=2, padding=3, bias=False),\n",
    "            nn.BatchNorm2d(64),\n",
    "            nn.ReLU(),\n",
    "            nn.MaxPool2d(kernel_size=3, stride=2, padding=1)\n",
    "        )\n",
    "        \n",
    "        #각 bottleNeck구조의 첫번째 conv layer에서만 stride=2로 지정하여 크기를 반으로 줄인다.\n",
    "        # 첫 번째 conv layer이외에 다른 layer에서는 stride를 1로 지정해주기 위해 아래에 \n",
    "        # _make_layer 함수를 정의해서 사용\n",
    "        self.conv2_x = self._make_layer(block, 64, num_block[0], 1)\n",
    "        self.conv3_x = self._make_layer(block, 128, num_block[1], 2)\n",
    "        self.conv4_x = self._make_layer(block, 256, num_block[2], 2)\n",
    "        self.conv5_x = self._make_layer(block, 512, num_block[3], 2)\n",
    "        \n",
    "        self.avg_pool = nn.AdaptiveAvgPool2d((1,1))\n",
    "        self.fc = nn.Linear(512 * block.expansion, num_classes)\n",
    "        \n",
    "        #weight initialization\n",
    "        if init_weights:\n",
    "            self._initialize_weights()\n",
    "            \n",
    "    #residual block을 쌓아 ResNet을 구성하는 함수\n",
    "    def _make_layer(self, block, out_channels, num_blocks, stride):\n",
    "        #각 bottleNeck구조의 첫번째 conv layer에서만 stride=2로 지정하여 크기를 반으로 줄인다.\n",
    "        strides = [stride] + [1] * (num_blocks - 1)\n",
    "        layers = []\n",
    "        for stride in strides:\n",
    "            layers.append(block(self.in_channels, out_channels, stride))\n",
    "            self.in_channels = out_channels * block.expansion\n",
    "            \n",
    "         #layer들을 순차적으로 진행   \n",
    "        return nn.Sequential(*layers)\n",
    "            \n",
    "    def forward(self, x):\n",
    "        output = self.conv1(x)\n",
    "        # print(output.shape)\n",
    "        output = self.conv2_x(output)\n",
    "        # print(output.shape)\n",
    "        x= self.conv3_x(output)\n",
    "        # print(x.shape)\n",
    "        x= self.conv4_x(x)\n",
    "        # print(x.shape)\n",
    "        x= self.conv5_x(x)\n",
    "        # print(x.shape)\n",
    "        x= self.avg_pool(x)\n",
    "        # print(x.shape)\n",
    "        x= torch.flatten(x,1)\n",
    "        # print(x.shape)\n",
    "        x = self.fc(x)\n",
    "        # print(x.shape)\n",
    "        return x\n",
    "    \n",
    "    # weight 초기화 함수 정의 \n",
    "    def _initialize_weights(self):\n",
    "        #모델의 모듈을 차례대로 불러온다.\n",
    "        for m in self.modules():\n",
    "            #isinstance() -> 차례로 layer을 입력하여, layer의 형태를 반환(nn.Conv2d, nn.BatchNorm2d ...)\n",
    "            if isinstance(m,nn.Conv2d):\n",
    "                # Kaming Initialization\n",
    "                # 모듈의 가중치를 kaming he normal로 초기화합니다.\n",
    "                nn.init.kaiming_normal_(m.weight, mode='fan_out', nonlinearity='relu')\n",
    "                if m.bias is not None:\n",
    "                    nn.init.constant_(m.bias, 0)\n",
    "\n",
    "            elif isinstance(m, nn.BatchNorm2d):\n",
    "                #torch.nn.init.constant_(tensor, val) -> tensor을 val로 초기화\n",
    "                nn.init.constant_(m.weight,1)\n",
    "                nn.init.constant_(m.bias,0)\n",
    "\n",
    "            elif isinstance(m, nn.Linear):\n",
    "                #torch.nn.init.normal_(tensor, mean=0.0, std=1.0) -> tensor을 mean, std의 normal distrubution으로 초기화\n",
    "                nn.init.normal_(m.weight, 0, 0.01)\n",
    "                nn.init.constant_(m.bias, 0) \n",
    "\n",
    "# block의 종류, num_block 입력\n",
    "def resnet18():\n",
    "    return ResNet(BasicBlock,[2,2,2,2])\n",
    "\n",
    "def resnet34():\n",
    "    return ResNet(BasicBlock,[3,4,6,3])\n",
    "\n",
    "def resnet50():\n",
    "    return ResNet(BottleNeck,[3,4,6,3])\n",
    "\n",
    "def resnet101():\n",
    "    return ResNet(BottleNeck,[3,4,23,3])\n",
    "\n",
    "def resnet152():\n",
    "    return ResNet(BottleNeck,[3,8,36,3])"
   ]
  },
  {
   "cell_type": "code",
   "execution_count": 15,
   "id": "3cfe8af0",
   "metadata": {
    "scrolled": true
   },
   "outputs": [
    {
     "name": "stdout",
     "output_type": "stream",
     "text": [
      "cuda:0\n",
      "torch.Size([3, 10])\n"
     ]
    }
   ],
   "source": [
    "device = torch.device(\"cuda:0\" if torch.cuda.is_available() else \"cpu\")\n",
    "print(device)\n",
    "model = resnet50().to(device)\n",
    "x = torch.randn(3, 3, 224, 224).to(device)\n",
    "output = model(x)\n",
    "print(output.size())\n",
    "\n",
    "#ResNet을 정의해줄 때 첫 번재 layer에 maxpooling layer를 넣어주었기 때문에 \n",
    "#논문에서와 다르게 56*56사이즈로 출력"
   ]
  },
  {
   "cell_type": "code",
   "execution_count": 16,
   "id": "004b1c83",
   "metadata": {},
   "outputs": [
    {
     "name": "stdout",
     "output_type": "stream",
     "text": [
      "----------------------------------------------------------------\n",
      "        Layer (type)               Output Shape         Param #\n",
      "================================================================\n",
      "            Conv2d-1         [-1, 64, 112, 112]           9,408\n",
      "       BatchNorm2d-2         [-1, 64, 112, 112]             128\n",
      "              ReLU-3         [-1, 64, 112, 112]               0\n",
      "         MaxPool2d-4           [-1, 64, 56, 56]               0\n",
      "            Conv2d-5           [-1, 64, 56, 56]           4,096\n",
      "       BatchNorm2d-6           [-1, 64, 56, 56]             128\n",
      "              ReLU-7           [-1, 64, 56, 56]               0\n",
      "            Conv2d-8           [-1, 64, 56, 56]          36,864\n",
      "       BatchNorm2d-9           [-1, 64, 56, 56]             128\n",
      "             ReLU-10           [-1, 64, 56, 56]               0\n",
      "           Conv2d-11          [-1, 256, 56, 56]          16,384\n",
      "      BatchNorm2d-12          [-1, 256, 56, 56]             512\n",
      "           Conv2d-13          [-1, 256, 56, 56]          16,384\n",
      "      BatchNorm2d-14          [-1, 256, 56, 56]             512\n",
      "             ReLU-15          [-1, 256, 56, 56]               0\n",
      "       BottleNeck-16          [-1, 256, 56, 56]               0\n",
      "           Conv2d-17           [-1, 64, 56, 56]          16,384\n",
      "      BatchNorm2d-18           [-1, 64, 56, 56]             128\n",
      "             ReLU-19           [-1, 64, 56, 56]               0\n",
      "           Conv2d-20           [-1, 64, 56, 56]          36,864\n",
      "      BatchNorm2d-21           [-1, 64, 56, 56]             128\n",
      "             ReLU-22           [-1, 64, 56, 56]               0\n",
      "           Conv2d-23          [-1, 256, 56, 56]          16,384\n",
      "      BatchNorm2d-24          [-1, 256, 56, 56]             512\n",
      "             ReLU-25          [-1, 256, 56, 56]               0\n",
      "       BottleNeck-26          [-1, 256, 56, 56]               0\n",
      "           Conv2d-27           [-1, 64, 56, 56]          16,384\n",
      "      BatchNorm2d-28           [-1, 64, 56, 56]             128\n",
      "             ReLU-29           [-1, 64, 56, 56]               0\n",
      "           Conv2d-30           [-1, 64, 56, 56]          36,864\n",
      "      BatchNorm2d-31           [-1, 64, 56, 56]             128\n",
      "             ReLU-32           [-1, 64, 56, 56]               0\n",
      "           Conv2d-33          [-1, 256, 56, 56]          16,384\n",
      "      BatchNorm2d-34          [-1, 256, 56, 56]             512\n",
      "             ReLU-35          [-1, 256, 56, 56]               0\n",
      "       BottleNeck-36          [-1, 256, 56, 56]               0\n",
      "           Conv2d-37          [-1, 128, 56, 56]          32,768\n",
      "      BatchNorm2d-38          [-1, 128, 56, 56]             256\n",
      "             ReLU-39          [-1, 128, 56, 56]               0\n",
      "           Conv2d-40          [-1, 128, 28, 28]         147,456\n",
      "      BatchNorm2d-41          [-1, 128, 28, 28]             256\n",
      "             ReLU-42          [-1, 128, 28, 28]               0\n",
      "           Conv2d-43          [-1, 512, 28, 28]          65,536\n",
      "      BatchNorm2d-44          [-1, 512, 28, 28]           1,024\n",
      "           Conv2d-45          [-1, 512, 28, 28]         131,072\n",
      "      BatchNorm2d-46          [-1, 512, 28, 28]           1,024\n",
      "             ReLU-47          [-1, 512, 28, 28]               0\n",
      "       BottleNeck-48          [-1, 512, 28, 28]               0\n",
      "           Conv2d-49          [-1, 128, 28, 28]          65,536\n",
      "      BatchNorm2d-50          [-1, 128, 28, 28]             256\n",
      "             ReLU-51          [-1, 128, 28, 28]               0\n",
      "           Conv2d-52          [-1, 128, 28, 28]         147,456\n",
      "      BatchNorm2d-53          [-1, 128, 28, 28]             256\n",
      "             ReLU-54          [-1, 128, 28, 28]               0\n",
      "           Conv2d-55          [-1, 512, 28, 28]          65,536\n",
      "      BatchNorm2d-56          [-1, 512, 28, 28]           1,024\n",
      "             ReLU-57          [-1, 512, 28, 28]               0\n",
      "       BottleNeck-58          [-1, 512, 28, 28]               0\n",
      "           Conv2d-59          [-1, 128, 28, 28]          65,536\n",
      "      BatchNorm2d-60          [-1, 128, 28, 28]             256\n",
      "             ReLU-61          [-1, 128, 28, 28]               0\n",
      "           Conv2d-62          [-1, 128, 28, 28]         147,456\n",
      "      BatchNorm2d-63          [-1, 128, 28, 28]             256\n",
      "             ReLU-64          [-1, 128, 28, 28]               0\n",
      "           Conv2d-65          [-1, 512, 28, 28]          65,536\n",
      "      BatchNorm2d-66          [-1, 512, 28, 28]           1,024\n",
      "             ReLU-67          [-1, 512, 28, 28]               0\n",
      "       BottleNeck-68          [-1, 512, 28, 28]               0\n",
      "           Conv2d-69          [-1, 128, 28, 28]          65,536\n",
      "      BatchNorm2d-70          [-1, 128, 28, 28]             256\n",
      "             ReLU-71          [-1, 128, 28, 28]               0\n",
      "           Conv2d-72          [-1, 128, 28, 28]         147,456\n",
      "      BatchNorm2d-73          [-1, 128, 28, 28]             256\n",
      "             ReLU-74          [-1, 128, 28, 28]               0\n",
      "           Conv2d-75          [-1, 512, 28, 28]          65,536\n",
      "      BatchNorm2d-76          [-1, 512, 28, 28]           1,024\n",
      "             ReLU-77          [-1, 512, 28, 28]               0\n",
      "       BottleNeck-78          [-1, 512, 28, 28]               0\n",
      "           Conv2d-79          [-1, 256, 28, 28]         131,072\n",
      "      BatchNorm2d-80          [-1, 256, 28, 28]             512\n",
      "             ReLU-81          [-1, 256, 28, 28]               0\n",
      "           Conv2d-82          [-1, 256, 14, 14]         589,824\n",
      "      BatchNorm2d-83          [-1, 256, 14, 14]             512\n",
      "             ReLU-84          [-1, 256, 14, 14]               0\n",
      "           Conv2d-85         [-1, 1024, 14, 14]         262,144\n",
      "      BatchNorm2d-86         [-1, 1024, 14, 14]           2,048\n",
      "           Conv2d-87         [-1, 1024, 14, 14]         524,288\n",
      "      BatchNorm2d-88         [-1, 1024, 14, 14]           2,048\n",
      "             ReLU-89         [-1, 1024, 14, 14]               0\n",
      "       BottleNeck-90         [-1, 1024, 14, 14]               0\n",
      "           Conv2d-91          [-1, 256, 14, 14]         262,144\n",
      "      BatchNorm2d-92          [-1, 256, 14, 14]             512\n",
      "             ReLU-93          [-1, 256, 14, 14]               0\n",
      "           Conv2d-94          [-1, 256, 14, 14]         589,824\n",
      "      BatchNorm2d-95          [-1, 256, 14, 14]             512\n",
      "             ReLU-96          [-1, 256, 14, 14]               0\n",
      "           Conv2d-97         [-1, 1024, 14, 14]         262,144\n",
      "      BatchNorm2d-98         [-1, 1024, 14, 14]           2,048\n",
      "             ReLU-99         [-1, 1024, 14, 14]               0\n",
      "      BottleNeck-100         [-1, 1024, 14, 14]               0\n",
      "          Conv2d-101          [-1, 256, 14, 14]         262,144\n",
      "     BatchNorm2d-102          [-1, 256, 14, 14]             512\n",
      "            ReLU-103          [-1, 256, 14, 14]               0\n",
      "          Conv2d-104          [-1, 256, 14, 14]         589,824\n",
      "     BatchNorm2d-105          [-1, 256, 14, 14]             512\n",
      "            ReLU-106          [-1, 256, 14, 14]               0\n",
      "          Conv2d-107         [-1, 1024, 14, 14]         262,144\n",
      "     BatchNorm2d-108         [-1, 1024, 14, 14]           2,048\n",
      "            ReLU-109         [-1, 1024, 14, 14]               0\n",
      "      BottleNeck-110         [-1, 1024, 14, 14]               0\n",
      "          Conv2d-111          [-1, 256, 14, 14]         262,144\n",
      "     BatchNorm2d-112          [-1, 256, 14, 14]             512\n",
      "            ReLU-113          [-1, 256, 14, 14]               0\n",
      "          Conv2d-114          [-1, 256, 14, 14]         589,824\n",
      "     BatchNorm2d-115          [-1, 256, 14, 14]             512\n",
      "            ReLU-116          [-1, 256, 14, 14]               0\n",
      "          Conv2d-117         [-1, 1024, 14, 14]         262,144\n",
      "     BatchNorm2d-118         [-1, 1024, 14, 14]           2,048\n",
      "            ReLU-119         [-1, 1024, 14, 14]               0\n",
      "      BottleNeck-120         [-1, 1024, 14, 14]               0\n",
      "          Conv2d-121          [-1, 256, 14, 14]         262,144\n",
      "     BatchNorm2d-122          [-1, 256, 14, 14]             512\n",
      "            ReLU-123          [-1, 256, 14, 14]               0\n",
      "          Conv2d-124          [-1, 256, 14, 14]         589,824\n",
      "     BatchNorm2d-125          [-1, 256, 14, 14]             512\n",
      "            ReLU-126          [-1, 256, 14, 14]               0\n",
      "          Conv2d-127         [-1, 1024, 14, 14]         262,144\n",
      "     BatchNorm2d-128         [-1, 1024, 14, 14]           2,048\n",
      "            ReLU-129         [-1, 1024, 14, 14]               0\n",
      "      BottleNeck-130         [-1, 1024, 14, 14]               0\n",
      "          Conv2d-131          [-1, 256, 14, 14]         262,144\n",
      "     BatchNorm2d-132          [-1, 256, 14, 14]             512\n",
      "            ReLU-133          [-1, 256, 14, 14]               0\n",
      "          Conv2d-134          [-1, 256, 14, 14]         589,824\n",
      "     BatchNorm2d-135          [-1, 256, 14, 14]             512\n",
      "            ReLU-136          [-1, 256, 14, 14]               0\n",
      "          Conv2d-137         [-1, 1024, 14, 14]         262,144\n",
      "     BatchNorm2d-138         [-1, 1024, 14, 14]           2,048\n",
      "            ReLU-139         [-1, 1024, 14, 14]               0\n",
      "      BottleNeck-140         [-1, 1024, 14, 14]               0\n",
      "          Conv2d-141          [-1, 512, 14, 14]         524,288\n",
      "     BatchNorm2d-142          [-1, 512, 14, 14]           1,024\n",
      "            ReLU-143          [-1, 512, 14, 14]               0\n",
      "          Conv2d-144            [-1, 512, 7, 7]       2,359,296\n",
      "     BatchNorm2d-145            [-1, 512, 7, 7]           1,024\n",
      "            ReLU-146            [-1, 512, 7, 7]               0\n",
      "          Conv2d-147           [-1, 2048, 7, 7]       1,048,576\n",
      "     BatchNorm2d-148           [-1, 2048, 7, 7]           4,096\n",
      "          Conv2d-149           [-1, 2048, 7, 7]       2,097,152\n",
      "     BatchNorm2d-150           [-1, 2048, 7, 7]           4,096\n",
      "            ReLU-151           [-1, 2048, 7, 7]               0\n",
      "      BottleNeck-152           [-1, 2048, 7, 7]               0\n",
      "          Conv2d-153            [-1, 512, 7, 7]       1,048,576\n",
      "     BatchNorm2d-154            [-1, 512, 7, 7]           1,024\n",
      "            ReLU-155            [-1, 512, 7, 7]               0\n",
      "          Conv2d-156            [-1, 512, 7, 7]       2,359,296\n",
      "     BatchNorm2d-157            [-1, 512, 7, 7]           1,024\n",
      "            ReLU-158            [-1, 512, 7, 7]               0\n",
      "          Conv2d-159           [-1, 2048, 7, 7]       1,048,576\n",
      "     BatchNorm2d-160           [-1, 2048, 7, 7]           4,096\n",
      "            ReLU-161           [-1, 2048, 7, 7]               0\n",
      "      BottleNeck-162           [-1, 2048, 7, 7]               0\n",
      "          Conv2d-163            [-1, 512, 7, 7]       1,048,576\n",
      "     BatchNorm2d-164            [-1, 512, 7, 7]           1,024\n",
      "            ReLU-165            [-1, 512, 7, 7]               0\n",
      "          Conv2d-166            [-1, 512, 7, 7]       2,359,296\n",
      "     BatchNorm2d-167            [-1, 512, 7, 7]           1,024\n",
      "            ReLU-168            [-1, 512, 7, 7]               0\n",
      "          Conv2d-169           [-1, 2048, 7, 7]       1,048,576\n",
      "     BatchNorm2d-170           [-1, 2048, 7, 7]           4,096\n",
      "            ReLU-171           [-1, 2048, 7, 7]               0\n",
      "      BottleNeck-172           [-1, 2048, 7, 7]               0\n",
      "AdaptiveAvgPool2d-173           [-1, 2048, 1, 1]               0\n",
      "          Linear-174                   [-1, 10]          20,490\n",
      "================================================================\n",
      "Total params: 23,528,522\n",
      "Trainable params: 23,528,522\n",
      "Non-trainable params: 0\n",
      "----------------------------------------------------------------\n",
      "Input size (MB): 0.57\n",
      "Forward/backward pass size (MB): 286.55\n",
      "Params size (MB): 89.75\n",
      "Estimated Total Size (MB): 376.88\n",
      "----------------------------------------------------------------\n"
     ]
    }
   ],
   "source": [
    "summary(model, (3, 224, 224), device=device.type)"
   ]
  },
  {
   "cell_type": "markdown",
   "id": "473839d2",
   "metadata": {},
   "source": [
    "## 손실함수, Optimizer, lr_scheduler 정의"
   ]
  },
  {
   "cell_type": "code",
   "execution_count": 1,
   "id": "bf5ff865",
   "metadata": {},
   "outputs": [
    {
     "ename": "NameError",
     "evalue": "name 'nn' is not defined",
     "output_type": "error",
     "traceback": [
      "\u001b[0;31m---------------------------------------------------------------------------\u001b[0m",
      "\u001b[0;31mNameError\u001b[0m                                 Traceback (most recent call last)",
      "\u001b[0;32m/tmp/ipykernel_407/2035748235.py\u001b[0m in \u001b[0;36m<module>\u001b[0;34m\u001b[0m\n\u001b[1;32m      1\u001b[0m \u001b[0;31m#정답과 예측값의 cross entropy를 한 후 나온 값들의 합을 내서 return해주는 의미\u001b[0m\u001b[0;34m\u001b[0m\u001b[0;34m\u001b[0m\u001b[0;34m\u001b[0m\u001b[0m\n\u001b[0;32m----> 2\u001b[0;31m \u001b[0mloss_func\u001b[0m \u001b[0;34m=\u001b[0m \u001b[0mnn\u001b[0m\u001b[0;34m.\u001b[0m\u001b[0mCrossEntropyLoss\u001b[0m\u001b[0;34m(\u001b[0m\u001b[0mreduction\u001b[0m\u001b[0;34m=\u001b[0m\u001b[0;34m'sum'\u001b[0m\u001b[0;34m)\u001b[0m\u001b[0;34m\u001b[0m\u001b[0;34m\u001b[0m\u001b[0m\n\u001b[0m\u001b[1;32m      3\u001b[0m \u001b[0mopt\u001b[0m \u001b[0;34m=\u001b[0m \u001b[0moptim\u001b[0m\u001b[0;34m.\u001b[0m\u001b[0mAdam\u001b[0m\u001b[0;34m(\u001b[0m\u001b[0mmodel\u001b[0m\u001b[0;34m.\u001b[0m\u001b[0mparameters\u001b[0m\u001b[0;34m(\u001b[0m\u001b[0;34m)\u001b[0m\u001b[0;34m,\u001b[0m \u001b[0mlr\u001b[0m\u001b[0;34m=\u001b[0m\u001b[0;36m1e-4\u001b[0m\u001b[0;34m)\u001b[0m\u001b[0;34m\u001b[0m\u001b[0;34m\u001b[0m\u001b[0m\n\u001b[1;32m      4\u001b[0m \u001b[0;34m\u001b[0m\u001b[0m\n\u001b[1;32m      5\u001b[0m \u001b[0;31m#모델의 개선이 없을 경우 learning rate를 조절해 모델의 개선을 유도하는 콜백함수\u001b[0m\u001b[0;34m\u001b[0m\u001b[0;34m\u001b[0m\u001b[0;34m\u001b[0m\u001b[0m\n",
      "\u001b[0;31mNameError\u001b[0m: name 'nn' is not defined"
     ]
    }
   ],
   "source": [
    "#정답과 예측값의 cross entropy를 한 후 나온 값들의 합을 내서 return해주는 의미\n",
    "loss_func = nn.CrossEntropyLoss(reduction='sum')\n",
    "opt = optim.Adam(model.parameters(), lr=0.001)\n",
    "\n",
    "#모델의 개선이 없을 경우 learning rate를 조절해 모델의 개선을 유도하는 콜백함수\n",
    "#https://deep-deep-deep.tistory.com/56\n",
    "from torch.optim.lr_scheduler import ReduceLROnPlateau\n",
    "lr_scheduler = ReduceLROnPlateau(opt, mode='min', factor=0.1, patience=10)"
   ]
  },
  {
   "cell_type": "code",
   "execution_count": 18,
   "id": "832af3e8",
   "metadata": {
    "scrolled": true
   },
   "outputs": [
    {
     "name": "stdout",
     "output_type": "stream",
     "text": [
      "3\n",
      "[2, 1, 1, 1]\n",
      "[[64, 64, 3], [64, 64, 4], [64, 64, 6], [64, 64, 3]]\n"
     ]
    }
   ],
   "source": [
    "#(b[1]-1) : 1의 갯수\n",
    "b=[3,4,6,3]\n",
    "a= [2]+ [1]*(b[1]-1)\n",
    "print(b[0])\n",
    "print(a)\n",
    "c = [] \n",
    "for i in b:\n",
    "    c.append([64,64,i])\n",
    "    \n",
    "\n",
    "print(c)\n",
    "    "
   ]
  },
  {
   "cell_type": "markdown",
   "id": "accd90c6",
   "metadata": {},
   "source": [
    "### 현재 lr을 얻기 위해 계산하는 함수 정의"
   ]
  },
  {
   "cell_type": "code",
   "execution_count": 50,
   "id": "c5cf0e23",
   "metadata": {},
   "outputs": [],
   "source": [
    "#현재 lr을 계산하는 함수를 얻기 위해 함수 정의\n",
    "def get_lr(opt):\n",
    "    for param_group in opt.param_groups:\n",
    "        return param_group['lr']"
   ]
  },
  {
   "cell_type": "markdown",
   "id": "e7a808e1",
   "metadata": {},
   "source": [
    "## 배치당 loss와 metric를 계산하는 함수 정의"
   ]
  },
  {
   "cell_type": "code",
   "execution_count": 52,
   "id": "d52dd461",
   "metadata": {},
   "outputs": [],
   "source": [
    "def metric_batch(output, target):\n",
    "    #max함수 안의 1 : 어느방향으로 max값을 찾을지를 의미.\n",
    "    pred = output.argmax(1, keepdim=True)\n",
    "    #이렇게 나온 값은 (value, index)\n",
    "    #pred.eq(data)는 pred배열과 data가 일치하느냐를 검사\n",
    "    corrects = pred.eq(target.view_as(pred)).sum().item()\n",
    "    return corrects\n",
    "\n",
    "\n",
    "# function to calculate loss per mini-batch\n",
    "def loss_batch(loss_func, output, target, opt=None):\n",
    "    loss = loss_func(output, target)\n",
    "    metric_b = metric_batch(output, target)\n",
    "\n",
    "    if opt is not None:\n",
    "        opt.zero_grad()\n",
    "        loss.backward()\n",
    "        opt.step()\n",
    "\n",
    "    return loss.item(), metric_b"
   ]
  },
  {
   "cell_type": "markdown",
   "id": "155db701",
   "metadata": {},
   "source": [
    "### epoch당 loss를 정의하는 함수"
   ]
  },
  {
   "cell_type": "code",
   "execution_count": 51,
   "id": "a81393ab",
   "metadata": {},
   "outputs": [],
   "source": [
    "def loss_epoch(model, loss_func, dataset_dl, sanity_check=False, opt=None):\n",
    "    #sanity_check가 true인 경우 1epoch만 학습하고 더이상 학습하지 않는다.\n",
    "    running_loss = 0.0\n",
    "    running_metric = 0.0\n",
    "    len_data = len(dataset_dl.dataset)\n",
    "\n",
    "    for xb, yb in dataset_dl:\n",
    "        xb = xb.to(device)\n",
    "        yb = yb.to(device)\n",
    "        output = model(xb)\n",
    "\n",
    "        loss_b, metric_b = loss_batch(loss_func, output, yb, opt)\n",
    "\n",
    "        running_loss += loss_b\n",
    "        \n",
    "        if metric_b is not None:\n",
    "            running_metric += metric_b\n",
    "        \n",
    "        if sanity_check is True:\n",
    "            break\n",
    "\n",
    "    loss = running_loss / len_data\n",
    "    metric = running_metric / len_data\n",
    "\n",
    "    return loss, metric"
   ]
  },
  {
   "cell_type": "code",
   "execution_count": null,
   "id": "decc9231",
   "metadata": {},
   "outputs": [],
   "source": [
    "for i, data in enumerate(dataset_dl):\n",
    "    for a in range (i):\n",
    "        inputs = i['img'][a]\n",
    "        labels = i['label'][a]    \n",
    "        inputs = inputs.to(device)\n",
    "        labels = labels.to(device)"
   ]
  },
  {
   "cell_type": "code",
   "execution_count": 25,
   "id": "873e8b5f",
   "metadata": {},
   "outputs": [],
   "source": [
    "# function to start training\n",
    "def train_val(model, params):\n",
    "    num_epochs=params['num_epochs']\n",
    "    loss_func=params[\"loss_func\"]\n",
    "    opt=params[\"optimizer\"]\n",
    "    train_dl=params[\"train_dl\"]\n",
    "    val_dl=params[\"val_dl\"]\n",
    "    sanity_check=params[\"sanity_check\"]\n",
    "    lr_scheduler=params[\"lr_scheduler\"]\n",
    "    path2weights=params[\"path2weights\"]\n",
    "\n",
    "    loss_history = {'train': [], 'val': []}\n",
    "    metric_history = {'train': [], 'val': []}\n",
    "\n",
    "    #가장 잘 나온 weight를 저장.\n",
    "    best_model_wts = copy.deepcopy(model.state_dict())\n",
    "\n",
    "    best_loss = float('inf')\n",
    "\n",
    "    start_time = time.time()\n",
    "\n",
    "    for epoch in range(num_epochs):\n",
    "        current_lr = get_lr(opt)\n",
    "        print('Epoch {}/{}, current lr={}'.format(epoch+1, num_epochs, current_lr))\n",
    "\n",
    "        model.train()\n",
    "        train_loss, train_metric = loss_epoch(model, loss_func, train_dl, sanity_check, opt)\n",
    "        #epoch마다 loss값과 정확도 값 확인\n",
    "        loss_history['train'].append(train_loss)\n",
    "        metric_history['train'].append(train_metric)\n",
    "        \n",
    "#model.eval() : 해당 모델의 모든 레이어가 evaluation mode에 들어가게 해주는 것. 학습할 때만 필요한 dropout, batchnorm등의 기능을 비황성화 시키는 것.\n",
    "#torch.no_grad() : gradient계산 context를 비활성화 해주는 역할.    \n",
    "        model.eval()\n",
    "        with torch.no_grad():\n",
    "            val_loss, val_metric = loss_epoch(model, loss_func, val_dl, sanity_check)\n",
    "        loss_history['val'].append(val_loss)\n",
    "        metric_history['val'].append(val_metric)\n",
    "\n",
    "        if val_loss < best_loss:\n",
    "            best_loss = val_loss\n",
    "            best_model_wts = copy.deepcopy(model.state_dict())\n",
    "\n",
    "            torch.save(model.state_dict(), path2weights)\n",
    "            print('Copied best model weights!')\n",
    "            print('Get best val_loss')\n",
    "\n",
    "        lr_scheduler.step(val_loss)\n",
    "\n",
    "        print('train loss: %.6f, val loss: %.6f, accuracy: %.2f, time: %.4f min' %(train_loss, val_loss, 100*val_metric, (time.time()-start_time)/60))\n",
    "        print('-'*10)\n",
    "\n",
    "        model.load_state_dict(best_model_wts)\n",
    "\n",
    "    return model, loss_history, metric_history"
   ]
  },
  {
   "cell_type": "markdown",
   "id": "b2d788af",
   "metadata": {},
   "source": [
    "### 하이퍼파라미터 정의"
   ]
  },
  {
   "cell_type": "code",
   "execution_count": 26,
   "id": "08a29d04",
   "metadata": {},
   "outputs": [],
   "source": [
    "params_train = {\n",
    "    'num_epochs':30,\n",
    "    'optimizer':opt,\n",
    "    'loss_func':loss_func,\n",
    "    'train_dl':train_datalodaer,\n",
    "    'val_dl':val_datalodaer,\n",
    "    'sanity_check':False,\n",
    "    'lr_scheduler':lr_scheduler,\n",
    "    'path2weights':'Resnet_weights_pt',\n",
    "}\n",
    "\n",
    "#만약 파일이 존재하지 않으면 새로운 파일 생성\n",
    "def createFolder(directory):\n",
    "    try:\n",
    "        if not os.path.exists(directory):\n",
    "            os.makedirs(directory)\n",
    "    except OSerror:\n",
    "        print('Error')\n",
    "createFolder('Resnet_weights_pt')"
   ]
  },
  {
   "cell_type": "code",
   "execution_count": 28,
   "id": "873086fc",
   "metadata": {},
   "outputs": [
    {
     "name": "stdout",
     "output_type": "stream",
     "text": [
      "Epoch 1/30, current lr=0.001\n",
      "Copied best model weights!\n",
      "Get best val_loss\n",
      "train loss: 1.674932, val loss: 2.201504, accuracy: 26.04, time: 1.5180 min\n",
      "----------\n",
      "Epoch 2/30, current lr=0.001\n",
      "Copied best model weights!\n",
      "Get best val_loss\n",
      "train loss: 1.553088, val loss: 1.498867, accuracy: 42.02, time: 2.8950 min\n",
      "----------\n",
      "Epoch 3/30, current lr=0.001\n",
      "Copied best model weights!\n",
      "Get best val_loss\n",
      "train loss: 1.477520, val loss: 1.471179, accuracy: 45.95, time: 4.2701 min\n",
      "----------\n",
      "Epoch 4/30, current lr=0.001\n",
      "Copied best model weights!\n",
      "Get best val_loss\n",
      "train loss: 1.348669, val loss: 1.379813, accuracy: 48.06, time: 5.5741 min\n",
      "----------\n",
      "Epoch 5/30, current lr=0.001\n",
      "train loss: 1.264249, val loss: 1.604478, accuracy: 45.21, time: 7.0451 min\n",
      "----------\n",
      "Epoch 6/30, current lr=0.001\n",
      "Copied best model weights!\n",
      "Get best val_loss\n",
      "train loss: 1.284417, val loss: 1.282689, accuracy: 52.86, time: 8.5477 min\n",
      "----------\n",
      "Epoch 7/30, current lr=0.001\n",
      "train loss: 1.212153, val loss: 1.698436, accuracy: 50.10, time: 10.0667 min\n",
      "----------\n",
      "Epoch 8/30, current lr=0.001\n",
      "train loss: 1.211901, val loss: 1.318413, accuracy: 53.44, time: 11.5963 min\n",
      "----------\n",
      "Epoch 9/30, current lr=0.001\n",
      "train loss: 1.195811, val loss: 1.522123, accuracy: 50.55, time: 13.1193 min\n",
      "----------\n",
      "Epoch 10/30, current lr=0.001\n",
      "train loss: 1.242316, val loss: 1.287186, accuracy: 54.84, time: 14.6615 min\n",
      "----------\n",
      "Epoch 11/30, current lr=0.001\n",
      "train loss: 1.234601, val loss: 1.839582, accuracy: 44.85, time: 16.1845 min\n",
      "----------\n",
      "Epoch 12/30, current lr=0.001\n",
      "train loss: 1.248772, val loss: 1.562695, accuracy: 45.49, time: 17.6964 min\n",
      "----------\n",
      "Epoch 13/30, current lr=0.001\n",
      "train loss: 1.265624, val loss: 1.463148, accuracy: 45.66, time: 19.2163 min\n",
      "----------\n",
      "Epoch 14/30, current lr=0.001\n",
      "train loss: 1.245021, val loss: 1.420853, accuracy: 50.46, time: 20.7371 min\n",
      "----------\n",
      "Epoch 15/30, current lr=0.001\n",
      "train loss: 1.305196, val loss: 1.432229, accuracy: 48.83, time: 22.2425 min\n",
      "----------\n",
      "Epoch 16/30, current lr=0.001\n",
      "train loss: 1.284039, val loss: 1.436631, accuracy: 46.14, time: 23.7528 min\n",
      "----------\n",
      "Epoch 17/30, current lr=0.001\n",
      "train loss: 1.223296, val loss: 1.366351, accuracy: 52.61, time: 25.2843 min\n",
      "----------\n",
      "Epoch 18/30, current lr=0.0001\n",
      "Copied best model weights!\n",
      "Get best val_loss\n",
      "train loss: 1.004751, val loss: 1.014172, accuracy: 62.91, time: 26.8068 min\n",
      "----------\n",
      "Epoch 19/30, current lr=0.0001\n",
      "train loss: 0.913780, val loss: 1.028173, accuracy: 62.95, time: 28.1676 min\n",
      "----------\n",
      "Epoch 20/30, current lr=0.0001\n",
      "train loss: 0.917637, val loss: 1.079955, accuracy: 61.40, time: 29.4923 min\n",
      "----------\n",
      "Epoch 21/30, current lr=0.0001\n",
      "train loss: 0.913248, val loss: 1.015934, accuracy: 62.75, time: 30.8054 min\n",
      "----------\n",
      "Epoch 22/30, current lr=0.0001\n",
      "train loss: 0.906129, val loss: 1.090584, accuracy: 61.51, time: 32.2929 min\n",
      "----------\n",
      "Epoch 23/30, current lr=0.0001\n",
      "Copied best model weights!\n",
      "Get best val_loss\n",
      "train loss: 0.900009, val loss: 1.010744, accuracy: 62.42, time: 33.8039 min\n",
      "----------\n",
      "Epoch 24/30, current lr=0.0001\n",
      "Copied best model weights!\n",
      "Get best val_loss\n",
      "train loss: 0.857397, val loss: 0.973098, accuracy: 64.80, time: 35.3309 min\n",
      "----------\n",
      "Epoch 25/30, current lr=0.0001\n",
      "train loss: 0.799374, val loss: 1.020434, accuracy: 63.89, time: 36.8625 min\n",
      "----------\n",
      "Epoch 26/30, current lr=0.0001\n",
      "train loss: 0.785051, val loss: 0.990536, accuracy: 64.80, time: 38.3801 min\n",
      "----------\n",
      "Epoch 27/30, current lr=0.0001\n",
      "train loss: 0.794838, val loss: 0.983120, accuracy: 65.24, time: 39.8961 min\n",
      "----------\n",
      "Epoch 28/30, current lr=0.0001\n",
      "train loss: 0.781371, val loss: 1.006667, accuracy: 64.64, time: 41.4399 min\n",
      "----------\n",
      "Epoch 29/30, current lr=0.0001\n",
      "train loss: 0.789278, val loss: 1.177712, accuracy: 62.91, time: 42.9629 min\n",
      "----------\n",
      "Epoch 30/30, current lr=0.0001\n",
      "train loss: 0.780937, val loss: 1.025308, accuracy: 63.11, time: 44.4690 min\n",
      "----------\n"
     ]
    }
   ],
   "source": [
    "model, loss_hist, metric_hist = train_val(model, params_train)"
   ]
  },
  {
   "cell_type": "markdown",
   "id": "5df0bd23",
   "metadata": {},
   "source": [
    "## train loss/val loss & accuracy graph"
   ]
  },
  {
   "cell_type": "code",
   "execution_count": 29,
   "id": "32bb2485",
   "metadata": {},
   "outputs": [
    {
     "data": {
      "image/png": "[encoded data removed]",
      "text/plain": [
       "<Figure size 432x288 with 1 Axes>"
      ]
     },
     "metadata": {
      "needs_background": "light"
     },
     "output_type": "display_data"
    },
    {
     "data": {
      "image/png": "[encoded data removed]",
      "text/plain": [
       "<Figure size 432x288 with 1 Axes>"
      ]
     },
     "metadata": {
      "needs_background": "light"
     },
     "output_type": "display_data"
    }
   ],
   "source": [
    "#train/vlaidation progress\n",
    "num_epochs=params_train[\"num_epochs\"]\n",
    "\n",
    "#plot loss progress\n",
    "plt.title(\"Train-val Loss\")\n",
    "plt.plot(range(1,num_epochs+1),loss_hist[\"train\"], label=\"train\")\n",
    "plt.plot(range(1,num_epochs+1),loss_hist[\"val\"], label=\"val\")\n",
    "plt.xlabel(\"Training Epochs\")\n",
    "plt.ylabel(\"Loss\")\n",
    "plt.legend()\n",
    "plt.show()\n",
    "\n",
    "#plot accuracy progress\n",
    "plt.title(\"Train-val Accuracy\")\n",
    "plt.plot(range(1,num_epochs+1),metric_hist[\"train\"], label=\"train\")\n",
    "plt.plot(range(1,num_epochs+1),metric_hist[\"val\"], label=\"val\")\n",
    "plt.xlabel(\"Training Epochs\")\n",
    "plt.ylabel(\"Accuracy\")\n",
    "plt.legend()\n",
    "plt.show()"
   ]
  },
  {
   "cell_type": "code",
   "execution_count": null,
   "id": "39ff1b0b",
   "metadata": {},
   "outputs": [],
   "source": []
  }
 ],
 "metadata": {
  "kernelspec": {
   "display_name": "Python 3",
   "language": "python",
   "name": "python3"
  },
  "language_info": {
   "codemirror_mode": {
    "name": "ipython",
    "version": 3
   },
   "file_extension": ".py",
   "mimetype": "text/x-python",
   "name": "python",
   "nbconvert_exporter": "python",
   "pygments_lexer": "ipython3",
   "version": "3.6.13"
  }
 },
 "nbformat": 4,
 "nbformat_minor": 5
}
