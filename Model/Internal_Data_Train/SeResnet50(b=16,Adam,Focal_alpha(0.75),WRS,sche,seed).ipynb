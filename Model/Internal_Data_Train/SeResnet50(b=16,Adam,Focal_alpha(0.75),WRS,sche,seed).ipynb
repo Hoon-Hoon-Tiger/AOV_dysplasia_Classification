{
 "cells": [
  {
   "cell_type": "code",
   "execution_count": null,
   "id": "4d8f1730-0357-450e-b3f1-c0617e0e6176",
   "metadata": {},
   "outputs": [],
   "source": [
    "from PIL import Image\n",
    "import pandas as pd\n",
    "%matplotlib inline\n",
    "import matplotlib\n",
    "import matplotlib.pyplot as plt\n",
    "import torch\n",
    "from torch.utils.data import Dataset, DataLoader, WeightedRandomSampler\n",
    "import numpy as np\n",
    "import torchvision\n",
    "from torchvision import transforms\n",
    "from glob import glob\n",
    "import cv2\n",
    "import random\n",
    "\n",
    "import os\n",
    "import torch\n",
    "import torch.nn as nn\n",
    "import torch.nn.functional as F\n",
    "from torchsummary import summary\n",
    "from torch import optim\n",
    "from torch.optim.lr_scheduler import StepLR\n",
    "from sklearn.metrics import classification_report, confusion_matrix, accuracy_score,plot_confusion_matrix\n",
    "\n",
    "import time\n",
    "import copy"
   ]
  },
  {
   "cell_type": "code",
   "execution_count": null,
   "id": "6e9cbd78-727b-43cc-b9bc-513a925754a1",
   "metadata": {},
   "outputs": [],
   "source": [
    "def seed(seed = 42):\n",
    "    random.seed(seed) # python random seed 고정\n",
    "    os.environ['PYTHONHASHSEED'] = str(seed) # os 자체의 seed 고정\n",
    "    np.random.seed(seed) # numpy seed 고정 \n",
    "    torch.manual_seed(seed) # torch seed 고정\n",
    "    torch.cuda.manual_seed(seed) # cudnn seed 고정\n",
    "    torch.backends.cudnn.deterministic = True # cudnn seed 고정(nn.Conv2d)\n",
    "    torch.backends.cudnn.benchmark = False # CUDA 내부 연산에서 가장 빠른 알고리즘을 찾아 수행\n",
    "\n",
    "## DataLoader worker에 대한 seed 설정\n",
    "def seed_worker(worker_id):\n",
    "    worker_seed = torch.initial_seed() % 2**32\n",
    "    numpy.random.seed(worker_seed)\n",
    "    random.seed(worker_seed)\n",
    "    \n",
    "seed()"
   ]
  },
  {
   "cell_type": "code",
   "execution_count": 3,
   "id": "2d956975-11e6-4e12-90c2-656b154a88a7",
   "metadata": {},
   "outputs": [],
   "source": [
    "train_normal_path = '/mnt/nas100_vol2/LeeJungHoon/Aov_task_curation_data/curation_data_v3/data_v3/normal_train_v3/*.jpg'\n",
    "train_abnormal_path ='/mnt/nas100_vol2/LeeJungHoon/Aov_task_curation_data/curation_data_v3/data_v3/abnormal_train_v3/*.jpg'\n",
    "valid_normal_path ='/mnt/nas100_vol2/LeeJungHoon/Aov_task_curation_data/curation_data_v3/data_v3/normal_val_v3/*.jpg'\n",
    "valid_abnormal_path ='/mnt/nas100_vol2/LeeJungHoon/Aov_task_curation_data/curation_data_v3/data_v3/abnormal_val_v3/*.jpg'\n",
    "test_normal_path ='/mnt/nas100_vol2/LeeJungHoon/Aov_task_curation_data/curation_data_v3/data_v3/normal_test_v3/*.jpg'\n",
    "test_abnormal_path ='/mnt/nas100_vol2/LeeJungHoon/Aov_task_curation_data/curation_data_v3/data_v3/abnormal_test_v3/*.jpg'"
   ]
  },
  {
   "cell_type": "code",
   "execution_count": null,
   "id": "fdadc3ce-eda1-46e6-9dc7-3ca1c0d3ae58",
   "metadata": {},
   "outputs": [
    {
     "name": "stdout",
     "output_type": "stream",
     "text": [
      "train_normal : 406\n",
      "val_normal : 92\n",
      "test_normal : 92\n",
      "------------------------------------\n",
      "train_abnormal : 234\n",
      "val_abnormal : 51\n",
      "test_abnormal : 46\n"
     ]
    }
   ],
   "source": [
    "train_normal_glob = glob(train_normal_path)\n",
    "train_abnormal_glob = glob(train_abnormal_path)\n",
    "val_normal_glob = glob(valid_normal_path)\n",
    "val_abnormal_glob = glob(valid_abnormal_path)\n",
    "test_normal_glob = glob(test_normal_path)\n",
    "test_abnormal_glob = glob(test_abnormal_path)\n",
    "\n",
    "print('train_normal :', len(train_normal_glob))\n",
    "print('val_normal :', len(val_normal_glob))\n",
    "print('test_normal :', len(test_normal_glob))\n",
    "print('------------------------------------')\n",
    "print('train_abnormal :', len(train_abnormal_glob))\n",
    "print('val_abnormal :', len(val_abnormal_glob))\n",
    "print('test_abnormal :', len(test_abnormal_glob))"
   ]
  },
  {
   "cell_type": "code",
   "execution_count": 5,
   "id": "d4f8fd4f-5b59-4a71-93b1-7039d2c32b2a",
   "metadata": {},
   "outputs": [
    {
     "name": "stdout",
     "output_type": "stream",
     "text": [
      "/mnt/nas100_vol2/LeeJungHoon/AOV_task(binary_clssification)/Model_V2/base_seed\n"
     ]
    }
   ],
   "source": [
    "print(os.getcwd())"
   ]
  },
  {
   "cell_type": "code",
   "execution_count": null,
   "id": "684830b5-c141-4a30-b630-46e7d25914d9",
   "metadata": {},
   "outputs": [],
   "source": [
    "class Aov_Dysplasia_dataset(Dataset):\n",
    "    def __init__(self, normal_path, abnormal_path, transform=None):\n",
    "        #생성자, 데이터를 전처리 \n",
    "        self.normal_path_list = glob(normal_path)\n",
    "        self.abnormal_path_list = glob(abnormal_path)\n",
    "        print(len(self.normal_path_list))\n",
    "#         self.mode = mode \n",
    "    \n",
    "#         label = np.array([[0, 1], [1, 0]], dtype=np.float32)\n",
    "        \n",
    "#         self.label_list = []\n",
    "#         for i in self.normal_path_list:\n",
    "#             self.label_list.append(label[0])\n",
    "            \n",
    "#         for i in self.abnormal_path_list:\n",
    "#             self.label_list.append(label[1])\n",
    "            \n",
    "        label_policy = {\n",
    "            'normal': 0, \n",
    "            'abnormal': 1\n",
    "        }\n",
    "    \n",
    "        self.label_list= []\n",
    "        \n",
    "        for i in self.normal_path_list:\n",
    "            self.label_list.append(label_policy[\"normal\"])\n",
    "            \n",
    "        for i in self.abnormal_path_list:\n",
    "            self.label_list.append(label_policy[\"abnormal\"])\n",
    "        \n",
    "        self.total_img_path_list = self.normal_path_list + self.abnormal_path_list\n",
    "        self.transform = transform\n",
    "    \n",
    "    def __len__(self):\n",
    "        return len(self.total_img_path_list)\n",
    "    \n",
    "    def __getitem__(self, idx):\n",
    "        \n",
    "        img = cv2.imread(self.total_img_path_list[idx])\n",
    "        img = cv2.cvtColor(img, cv2.COLOR_BGR2RGB)\n",
    "        # img = np.array(img, dtype=np.float32)\n",
    "        #들어오는 이미지의 컬러 형태가 BGR인지 RGB인지 모르기때문에 변형\n",
    "\n",
    "        \n",
    "        label = self.label_list[idx]\n",
    "        \n",
    "        if self.transform is not None:\n",
    "            transformed = self.transform(image=img)\n",
    "            img = transformed['image'] \n",
    "            img = torch.tensor(np.array(img), dtype=torch.float32)\n",
    "            # img = torch.FloatTensor(img)\n",
    "            img = (img - torch.min(img)) / (torch.max(img)-torch.min(img))\n",
    "            \n",
    "            return {'img': img, 'label': label, 'filename': self.total_img_path_list[idx]}\n",
    "        \n",
    "        else:\n",
    "            # img = transformed['image']\n",
    "            img = torch.tensor(np.array(img), dtype=torch.float32)\n",
    "            # img = torch.FloatTensor(img)\n",
    "            img = (img - torch.min(img)) / (torch.max(img)-torch.min(img))\n",
    "            return{'img': img, 'label': label}"
   ]
  },
  {
   "cell_type": "code",
   "execution_count": null,
   "id": "e765fb65-6b9b-4a88-ba8c-b3a197520377",
   "metadata": {
    "collapsed": true,
    "jupyter": {
     "outputs_hidden": true,
     "source_hidden": true
    },
    "tags": []
   },
   "outputs": [],
   "source": [
    "a = torch.randint(1,10, size=(2,3,4))\n",
    "b= torch.FloatTensor(a)\n",
    "print(a)\n",
    "print(torch.min(a))\n",
    "print(a-torch.min(a))"
   ]
  },
  {
   "cell_type": "code",
   "execution_count": 7,
   "id": "96847f6e-8d55-4c2a-a712-271a8603b8cc",
   "metadata": {},
   "outputs": [],
   "source": [
    "#https://albumentations.ai/docs/api_reference/augmentations/transforms/\n",
    "import albumentations as A \n",
    "from  albumentations.pytorch import ToTensorV2\n",
    "\n",
    "train_transform = A.Compose(\n",
    "    [\n",
    "        # Contrast Limited Adaptive Histogram Equalization 적용\n",
    "#     A.CLAHE(p=1,clip_limit=(1, 3)),\n",
    "#     A.HorizontalFlip(p=0.3),\n",
    "    A.Resize(224,224, interpolation = cv2.INTER_AREA),\n",
    "    A.ShiftScaleRotate(shift_limit=0, scale_limit=(0.1, 0.2), rotate_limit=0, p=0.6, border_mode=cv2.BORDER_REPLICATE),\n",
    "    A.CLAHE(clip_limit=(1, 2), p=0.6),\n",
    "    A.RandomRotate90(p=0.7),\n",
    "    A.VerticalFlip(p=0.7),\n",
    "    A.HorizontalFlip(p=0.7),\n",
    "    A.RandomBrightnessContrast(brightness_limit=(-0.2, 0.2), contrast_limit=(-0.2, 0.2), p=0.3),\n",
    "    # A.Normalize()\n",
    "    ToTensorV2()\n",
    "    ])\n",
    "\n",
    "valid_transform = A.Compose(\n",
    "    [\n",
    "        A.Resize(224,224, interpolation = cv2.INTER_AREA),\n",
    "        ToTensorV2()\n",
    "    ])\n",
    "\n",
    "test_transform = A.Compose(\n",
    "    [\n",
    "        A.Resize(224,224, interpolation = cv2.INTER_AREA),\n",
    "        ToTensorV2()\n",
    "    ])"
   ]
  },
  {
   "cell_type": "code",
   "execution_count": 8,
   "id": "1a7630b5-2c2f-411c-98d8-8bb75e3d2b5f",
   "metadata": {
    "tags": []
   },
   "outputs": [
    {
     "name": "stdout",
     "output_type": "stream",
     "text": [
      "472\n",
      "52\n",
      "66\n"
     ]
    }
   ],
   "source": [
    "train_dataset = Aov_Dysplasia_dataset(train_normal_path, train_abnormal_path, transform = train_transform)\n",
    "valid_dataset = Aov_Dysplasia_dataset(valid_normal_path, valid_abnormal_path, transform = valid_transform)\n",
    "test_dataset = Aov_Dysplasia_dataset(test_normal_path, test_abnormal_path, transform = test_transform)"
   ]
  },
  {
   "cell_type": "code",
   "execution_count": 9,
   "id": "973e0b84-0a66-44f8-b195-7eb8924a3d90",
   "metadata": {},
   "outputs": [
    {
     "name": "stdout",
     "output_type": "stream",
     "text": [
      "731\n",
      "train label 0 : 472\n",
      "train label 1 : 259\n",
      "[1.548728813559322, 2.8223938223938223]\n"
     ]
    }
   ],
   "source": [
    "# 각 dataset에서의 label값만 추출\n",
    "train_label_count = []\n",
    "for i in range(len(train_dataset)):\n",
    "    label = train_dataset[i]['label']\n",
    "    train_label_count.append(label)\n",
    "    \n",
    "print(len(train_label_count))\n",
    "\n",
    "sum_train = len(train_label_count)\n",
    "\n",
    "\n",
    "train_0_counts = train_label_count.count(0)\n",
    "train_1_counts = train_label_count.count(1)\n",
    "\n",
    "print('train label 0 :', train_0_counts)\n",
    "print('train label 1 :',train_1_counts)\n",
    "\n",
    "#클래스별 가중치 부여 => class 1에 가중치 높게 부여하게 됨\n",
    "train_0_weight = []\n",
    "train_1_weight = []\n",
    "train_weight = []\n",
    "\n",
    "train_0_weight.append(sum_train / train_0_counts) \n",
    "train_1_weight.append(sum_train / train_1_counts)\n",
    "\n",
    "train_weight = train_0_weight + train_1_weight\n",
    "\n",
    "print(train_weight)\n",
    "\n"
   ]
  },
  {
   "cell_type": "code",
   "execution_count": null,
   "id": "7a90cd8f-0876-4b56-831d-3c07f685c653",
   "metadata": {
    "collapsed": true,
    "jupyter": {
     "outputs_hidden": true
    },
    "tags": []
   },
   "outputs": [],
   "source": [
    "train_label_count"
   ]
  },
  {
   "cell_type": "code",
   "execution_count": 11,
   "id": "becc79be-1256-42f4-a5cd-6ac617801db9",
   "metadata": {},
   "outputs": [],
   "source": [
    "# 해당 데이터의 label에 해당되는 가중치\n",
    "weights = [train_weight[train_label_count[i]] for i in range(int(sum_train))] #해당 레이블마다의 가중치 비율\n",
    "sampler = WeightedRandomSampler(torch.DoubleTensor(weights), int(sum_train))"
   ]
  },
  {
   "cell_type": "code",
   "execution_count": null,
   "id": "749e6500-1a78-476f-8fcb-00de7a1b10de",
   "metadata": {
    "collapsed": true,
    "jupyter": {
     "outputs_hidden": true
    },
    "tags": []
   },
   "outputs": [],
   "source": [
    "weights"
   ]
  },
  {
   "cell_type": "code",
   "execution_count": 13,
   "id": "9d0571fd-ed95-4d32-a1f6-963d33442ca5",
   "metadata": {},
   "outputs": [],
   "source": [
    "#dataloader 생성\n",
    "batch_size= 16\n",
    "train_dataloader = torch.utils.data.DataLoader(train_dataset, batch_size=batch_size, sampler=sampler, worker_init_fn=seed_worker)\n",
    "train_dataloader_no = torch.utils.data.DataLoader(train_dataset, batch_size=batch_size, shuffle = True, worker_init_fn=seed_worker)\n",
    "valid_dataloader = torch.utils.data.DataLoader(valid_dataset, batch_size=batch_size, shuffle = True, worker_init_fn=seed_worker)\n",
    "test_dataloader = torch.utils.data.DataLoader(test_dataset, batch_size=1, shuffle = False ,worker_init_fn=seed_worker)"
   ]
  },
  {
   "cell_type": "code",
   "execution_count": 14,
   "id": "88415554-1d34-4268-879a-306ae1ca0708",
   "metadata": {},
   "outputs": [
    {
     "name": "stdout",
     "output_type": "stream",
     "text": [
      "train_dataset : 731\n",
      "valid_dataset : 85\n",
      "test_dataset : 105\n"
     ]
    }
   ],
   "source": [
    "print('train_dataset :',len(train_dataset))\n",
    "print('valid_dataset :',len(valid_dataset))\n",
    "print('test_dataset :',len(test_dataset))"
   ]
  },
  {
   "cell_type": "code",
   "execution_count": 15,
   "id": "5c4d57e2-c5d0-4f23-b450-2b2757c8534c",
   "metadata": {},
   "outputs": [
    {
     "name": "stdout",
     "output_type": "stream",
     "text": [
      "tensor([0, 0, 0, 1, 0, 1, 1, 0, 0, 0, 0, 1, 1, 0, 1, 0])\n",
      "tensor([1, 1, 0, 0, 1, 0, 0, 0, 0, 1, 0, 0, 0, 0, 0, 0])\n",
      "tensor([0, 1, 1, 1, 0, 0, 0, 1, 0, 0, 0, 1, 1, 0, 0, 1])\n",
      "tensor([1, 1, 0, 0, 1, 0, 1, 0, 0, 1, 0, 0, 1, 0, 1, 0])\n",
      "tensor([0, 1, 1, 1, 0, 1, 1, 0, 0, 1, 0, 1, 1, 0, 0, 1])\n",
      "tensor([1, 1, 0, 1, 1, 0, 1, 0, 0, 1, 1, 0, 0, 1, 0, 1])\n",
      "tensor([1, 0, 1, 0, 0, 1, 1, 1, 1, 0, 0, 1, 1, 0, 0, 0])\n",
      "tensor([0, 0, 1, 1, 0, 1, 1, 1, 0, 0, 0, 1, 1, 0, 1, 0])\n",
      "tensor([0, 1, 1, 0, 0, 0, 1, 0, 1, 1, 0, 0, 1, 0, 0, 0])\n",
      "tensor([1, 0, 0, 0, 1, 0, 1, 1, 0, 1, 1, 1, 1, 1, 0, 0])\n"
     ]
    }
   ],
   "source": [
    "a= 0\n",
    "\n",
    "for data in train_dataloader:\n",
    "    print(data['label'])\n",
    "    a+=1        \n",
    "    \n",
    "    if a == 10:\n",
    "        break"
   ]
  },
  {
   "cell_type": "code",
   "execution_count": 16,
   "id": "84827152-6a29-41c6-8d4a-2dcec2dd16af",
   "metadata": {},
   "outputs": [
    {
     "data": {
      "text/plain": [
       "46"
      ]
     },
     "execution_count": 16,
     "metadata": {},
     "output_type": "execute_result"
    }
   ],
   "source": [
    "len(train_dataloader)"
   ]
  },
  {
   "cell_type": "code",
   "execution_count": null,
   "id": "6bae6fd6-ccb6-44c0-b51c-69ae57796d1c",
   "metadata": {
    "collapsed": true,
    "jupyter": {
     "outputs_hidden": true
    },
    "tags": []
   },
   "outputs": [],
   "source": [
    "import os\n",
    "import cv2\n",
    "import numpy as np\n",
    "\n",
    "#이미지를 numpy형식으로 바꾸어주고 transpose를 통해 수정해주는 과정을 람다형식으로 정의\n",
    "fn_tonumpy = lambda x : x.to('cpu').detach().numpy().transpose(0,2,3,1)\n",
    "for batch_idx, i in enumerate(train_dataloader):\n",
    "    print(batch_idx+1)\n",
    "    for a in range(batch_size):\n",
    "        img = i['img']\n",
    "        label = i['label']\n",
    "        print(label.type)\n",
    "#         filename = i['filename']\n",
    "        #     filename = i['filename']\n",
    "        img = fn_tonumpy(img)[a]\n",
    "        #     print(filename)\n",
    "        print(img.shape)\n",
    "        print(img)\n",
    "#         print(filename[a])\n",
    "        print(label[a])\n",
    "        plt.imshow(img)\n",
    "        plt.show()"
   ]
  },
  {
   "cell_type": "code",
   "execution_count": null,
   "id": "5c448f00-92d2-46b4-997f-7651113a6a79",
   "metadata": {
    "collapsed": true,
    "jupyter": {
     "outputs_hidden": true
    },
    "tags": []
   },
   "outputs": [],
   "source": [
    "from torchvision import models\n",
    "import torch\n",
    "import timm\n",
    "# m = timm.create_model('seresnet50', pretrained=True)\n",
    "\n",
    "seresnet50_pretrained = timm.create_model('seresnet50', pretrained=True)\n",
    "print(seresnet50_pretrained)"
   ]
  },
  {
   "cell_type": "code",
   "execution_count": null,
   "id": "5fdb7394-56bc-49af-9018-297366283ab6",
   "metadata": {
    "collapsed": true,
    "jupyter": {
     "outputs_hidden": true
    },
    "tags": []
   },
   "outputs": [],
   "source": [
    "num_classes = 1\n",
    "num_features = seresnet50_pretrained.fc.in_features\n",
    "seresnet50_pretrained.fc = nn.Linear(num_features, num_classes)\n",
    "\n",
    "seresnet50_pretrained"
   ]
  },
  {
   "cell_type": "code",
   "execution_count": 19,
   "id": "46cd5138-fb83-400d-9bd9-efbe186b6bf8",
   "metadata": {
    "tags": []
   },
   "outputs": [
    {
     "name": "stdout",
     "output_type": "stream",
     "text": [
      "gpu?  True\n",
      "Current gpu:  0\n",
      "Allocated: 0.0 GB\n",
      "Cached:    0.0 GB\n"
     ]
    },
    {
     "name": "stderr",
     "output_type": "stream",
     "text": [
      "/home/crop2292/anaconda3/envs/hoon/lib/python3.6/site-packages/torch/cuda/memory.py:386: FutureWarning: torch.cuda.memory_cached has been renamed to torch.cuda.memory_reserved\n",
      "  FutureWarning)\n"
     ]
    },
    {
     "name": "stdout",
     "output_type": "stream",
     "text": [
      "tensor([[-0.0261],\n",
      "        [ 0.0100],\n",
      "        [-0.0660]], device='cuda:0', grad_fn=<AddmmBackward0>)\n"
     ]
    }
   ],
   "source": [
    "GPU_NUM = 0\n",
    "os.environ[\"CUDA_VISIBLE_DEVICES\"]='1'\n",
    "print('gpu? ', torch.cuda.is_available())\n",
    "device = torch.device(f'cuda:{GPU_NUM}' if torch.cuda.is_available() else 'cpu')\n",
    "torch.cuda.set_device(device)\n",
    "print('Current gpu: ', torch.cuda.current_device())\n",
    "\n",
    "if device.type == 'cuda':\n",
    "    print('Allocated:', round(torch.cuda.memory_allocated(GPU_NUM)/1024**3,1), 'GB')\n",
    "    print('Cached:   ', round(torch.cuda.memory_cached(GPU_NUM)/1024**3,1), 'GB')\n",
    "    \n",
    "model = seresnet50_pretrained.to(device)\n",
    "x = torch.randn(3, 3, 224, 224).to(device)\n",
    "output = model(x)\n",
    "print(output)"
   ]
  },
  {
   "cell_type": "code",
   "execution_count": 23,
   "id": "0753a5d8-66c2-4a13-a50b-2ce94b4264ee",
   "metadata": {
    "tags": []
   },
   "outputs": [],
   "source": [
    "#summary(model, (3, 409, 465), device=device.type)"
   ]
  },
  {
   "cell_type": "code",
   "execution_count": 21,
   "id": "3347e31c-18ac-4bf7-b592-50ec2f3e6d29",
   "metadata": {},
   "outputs": [],
   "source": [
    "# 손실함수 정의(loss function) \n",
    "# 크로스 엔트로피 : 실제 값과 예측 값의 차이를 줄이기 위한 엔트로피\n",
    "# 다중 클래스 문제에서 잘 작동\n",
    "# loss_func = nn.BCEWithLogitsLoss()\n",
    "\n",
    "\n",
    "# 옵티마이저 : Adam \n",
    "# model(신경망) 파라미터를 optimizer에 전달해줄 때 nn.Module의 parameters() 메소드를 사용\n",
    "# Karpathy's learning rate 사용 (3e-4)\n",
    "opt = optim.Adam(model.parameters(), lr=0.0001)\n",
    "#scheduler\n",
    "from torch.optim.lr_scheduler import ExponentialLR\n",
    "lr_scheduler = ExponentialLR(opt, gamma=0.95)"
   ]
  },
  {
   "cell_type": "code",
   "execution_count": 22,
   "id": "5db28ed7-ff38-4a6a-be4b-72bf51a64a64",
   "metadata": {},
   "outputs": [],
   "source": [
    "def get_lr(opt):\n",
    "    for param_group in opt.param_groups:\n",
    "        return param_group['lr']"
   ]
  },
  {
   "cell_type": "code",
   "execution_count": 23,
   "id": "cd26ad1d-3e47-435a-9975-6412ed9e77f1",
   "metadata": {},
   "outputs": [],
   "source": [
    "class FocalLoss(nn.Module):\n",
    "    def __init__(self, gamma=2, alpha=0.75):\n",
    "        super(FocalLoss, self).__init__()\n",
    "        self.loss_fn = nn.BCEWithLogitsLoss()\n",
    "        self.gamma = gamma\n",
    "        self.alpha = alpha\n",
    "        self.reduction = self.loss_fn.reduction  # mean, sum, etc..\n",
    "\n",
    "    def forward(self, pred, true):\n",
    "        bceloss = self.loss_fn(pred, true)\n",
    "\n",
    "        pred_prob = torch.sigmoid(pred)  # p  pt는 p가 true 이면 pt = p / false 이면 pt = 1 - p\n",
    "        alpha_factor = true * self.alpha + (1-true) * (1 - self.alpha)  # add balance\n",
    "        modulating_factor = torch.abs(true - pred_prob) ** self.gamma  # focal term\n",
    "        loss = alpha_factor * modulating_factor * bceloss  # bceloss에 이미 음수가 들어가 있음\n",
    "        \n",
    "        if self.reduction == 'mean':\n",
    "            return loss.mean()\n",
    "        \n",
    "        elif self.reduction == 'sum':\n",
    "            return loss.sum()\n",
    "        \n",
    "        else:  # 'none'\n",
    "            return loss"
   ]
  },
  {
   "cell_type": "code",
   "execution_count": 24,
   "id": "b3e5f289-4267-4a90-9c8e-c906c10be409",
   "metadata": {},
   "outputs": [],
   "source": [
    "def metric_batch(output, target):\n",
    "    #max함수 안의 1 : 어느방향으로 max값을 찾을지를 의미. \n",
    "    output_sig = torch.sigmoid(output)\n",
    "    y_pred = output_sig.cpu()\n",
    "    y_pred[y_pred >= 0.5] = 1\n",
    "    y_pred[y_pred < 0.5] = 0\n",
    "    \n",
    "    preds_batch_list = []\n",
    "    y_pred_list = y_pred.detach().cpu().numpy().tolist()\n",
    "    preds_batch_list.append(y_pred_list)\n",
    "    \n",
    "    labels_batch_list =[]\n",
    "    labels_list = target.detach().cpu().numpy().tolist()\n",
    "    labels_batch_list.append(labels_list)\n",
    "    \n",
    "    correct_num = y_pred.eq(target.cpu()).int().sum()\n",
    "    \n",
    "    # https://junstar92.tistory.com/121\n",
    "    #https://bigdatadiary0819.tistory.com/54\n",
    "#     corrects = pred.eq(target).sum().item()\n",
    "    return correct_num, preds_batch_list,labels_batch_list\n",
    "\n",
    "\n",
    "# function to calculate loss per mini-batch\n",
    "def loss_batch(output, target, opt=None):\n",
    "    \n",
    "    \n",
    "#     target = torch.FloatTensor(target)\n",
    "#     print(output)\n",
    "#     print(target)\n",
    "    \n",
    "\n",
    "# 여기서 target값은 1차원이기 때문에 마지막 layer에서 나오는 결과를 1개의 출력으로\n",
    "    fl_loss = FocalLoss().forward(output, target)\n",
    "    metric_b, preds_batch_list,labels_batch_list = metric_batch(output, target)\n",
    "\n",
    "#     배치 사이즈 만큼의 데이터가 들어가서 forward train을 하고 backward로 \n",
    "#     optimize를 진행합니다. 이게 1step \n",
    "#     step마다 계산된 가중치를 다시 제로로 만들고 다음 배치 데이터를 \n",
    "#     forward/backward해야 하므로 optimizer.zero_grad를 꼭 넣어준다.\n",
    "    if opt is not None:\n",
    "        opt.zero_grad()\n",
    "        fl_loss.backward()\n",
    "        opt.step()\n",
    "\n",
    "    return fl_loss.item(), metric_b, preds_batch_list,labels_batch_list"
   ]
  },
  {
   "cell_type": "code",
   "execution_count": 25,
   "id": "cbdb5aaa-3574-42b3-b4c5-79aecb854689",
   "metadata": {},
   "outputs": [],
   "source": [
    "def loss_epoch(model, dataset_dl, sanity_check=False, opt=None):\n",
    "    #sanity_check가 true인 경우 1epoch만 학습하고 더이상 학습하지 않는다.\n",
    "    running_loss = 0.0\n",
    "    running_metric = 0.0\n",
    "    len_dataset_dl = len(dataset_dl)\n",
    "    len_dataset = len(dataset_dl.dataset)\n",
    "    preds_running_list = []\n",
    "    labels_running_list = []\n",
    "#     print(len_data)\n",
    "#     print(len(dataset_dl))\n",
    "    \n",
    "    \n",
    "    for data in dataset_dl:\n",
    "#         inputs = data\n",
    "#     for a in range (i):\n",
    "        inputs = data['img']\n",
    "#         print(inputs.shape)\n",
    "        labels = data['label']\n",
    "#         print(labels.shape)\n",
    "        inputs = inputs.to(device)\n",
    "        labels = labels.to(device, dtype = torch.float32)\n",
    "        output = torch.squeeze(model(inputs))\n",
    "    \n",
    "#     for i, data in enumerate(dataset_dl):\n",
    "#         inputs = data\n",
    "#      for a in range (i):\n",
    "#         inputs = data['img']\n",
    "#          print(inputs.shape)\n",
    "#         labels = data['label']\n",
    "#          print(labels.shape)\n",
    "#         inputs = inputs.to(device)\n",
    "#         labels = labels.to(device)\n",
    "#         output = model(inputs)\n",
    "\n",
    "#         print(inputs.type)\n",
    "#         print(output.type)\n",
    "#         print(labels.type)\n",
    "        \n",
    "        \n",
    "        loss_b, metric_b, preds_batch_list,labels_batch_list = loss_batch(output, labels, opt)\n",
    "\n",
    "        running_loss += loss_b\n",
    "        preds_running_list.extend(preds_batch_list)\n",
    "        labels_running_list.extend(labels_batch_list)\n",
    "\n",
    "        if metric_b is not None:\n",
    "            running_metric += metric_b\n",
    "\n",
    "        if sanity_check is True:\n",
    "            break\n",
    "            \n",
    "    average_loss = running_loss / len_dataset_dl\n",
    "    average_metric = running_metric / len_dataset\n",
    "#     print(average_loss)\n",
    "    \n",
    "    return average_loss, average_metric, preds_running_list, labels_running_list      "
   ]
  },
  {
   "cell_type": "code",
   "execution_count": 26,
   "id": "313423a9-520e-4eb9-a8c3-e9bee6c3996a",
   "metadata": {},
   "outputs": [],
   "source": [
    "# function to start training\n",
    "def train_val(model, params):\n",
    "    num_epochs=params['num_epochs']\n",
    "    opt=params[\"optimizer\"]\n",
    "    train_dl=params[\"train_dl\"]\n",
    "    val_dl=params[\"val_dl\"]\n",
    "    sanity_check=params[\"sanity_check\"]\n",
    "    lr_scheduler=params[\"lr_scheduler\"]\n",
    "    path2weights=params[\"path2weights\"]\n",
    "\n",
    "    loss_history = {'train': [], 'val': []}\n",
    "    metric_history = {'train': [], 'val': []}\n",
    "\n",
    "    #가장 잘 나온 weight를 저장.\n",
    "    best_model_wts = copy.deepcopy(model.state_dict())\n",
    "\n",
    "    #This is useful for finding lowest values for something.\n",
    "    best_loss = float('inf')\n",
    "\n",
    "    start_time = time.time()\n",
    "\n",
    "    for epoch in range(num_epochs):\n",
    "        current_lr = get_lr(opt)\n",
    "        print('Epoch {}/{}, current lr={}'.format(epoch+1, num_epochs, current_lr))\n",
    "\n",
    "        model.train()\n",
    "        train_loss, train_metric, preds_train_list, labels_train_list = loss_epoch(model, train_dl, sanity_check, opt)\n",
    "        #epoch마다 loss값과 정확도 값 확인\n",
    "        loss_history['train'].append(train_loss)\n",
    "        metric_history['train'].append(train_metric)\n",
    "        \n",
    "        # confusion matrix를 그리기 위해 label과 prediction한 결과를 한곳으로 모아주기\n",
    "        preds_train_list_sum = sum(preds_train_list,[])\n",
    "        labels_train_list_sum = sum(labels_train_list,[])\n",
    "        \n",
    "        lr_scheduler.step()\n",
    "# model.eval() : 해당 모델의 모든 레이어가 evaluation model에 들어가게 해주는 것. \n",
    "# 학습할 때만 필요한 dropout, batchnorm등의 기능을 비황성화 시키는 것.\n",
    "# torch.no_grad() : gradient계산 context를 비활성화 해주는 역할.    \n",
    "        model.eval()\n",
    "    \n",
    "        # valid data\n",
    "        with torch.no_grad():\n",
    "            val_loss, val_metric, preds_val_list, labels_val_list = loss_epoch(model, val_dl, sanity_check)\n",
    "        loss_history['val'].append(val_loss)\n",
    "        metric_history['val'].append(val_metric)\n",
    "\n",
    "        if val_loss < best_loss:\n",
    "            best_loss = val_loss\n",
    "            best_model_wts = copy.deepcopy(model.state_dict())\n",
    "\n",
    "            torch.save(model.state_dict(), path2weights)\n",
    "            print('Copied best model weights!')\n",
    "            print('Get best val_loss')\n",
    "\n",
    "        \n",
    "\n",
    "\n",
    "        train_accuracy = 100*train_metric\n",
    "        val_accuracy = 100*val_metric\n",
    "        \n",
    "        writer.add_scalar('Loss/train', train_loss, epoch+1)\n",
    "        writer.add_scalar('Loss/val', val_loss, epoch+1)\n",
    "        writer.add_scalar('Accuracy/train', train_accuracy, epoch+1)\n",
    "        writer.add_scalar('Accuracy/val', val_accuracy, epoch+1)\n",
    "        \n",
    "        print('train loss: %.6f , accuracy: %.2f, time: %.4f min' %(train_loss, train_accuracy, (time.time()-start_time)/60))\n",
    "        print('val loss: %.6f , accuracy: %.2f, time: %.4f min' %(val_loss, val_accuracy, (time.time()-start_time)/60))\n",
    "        \n",
    "        preds_val_list_sum = sum(preds_val_list, [])\n",
    "        labels_val_list_sum = sum(labels_val_list, [])\n",
    "#         print(preds_val_list)\n",
    "#         print(len(preds_val_list))\n",
    "#         print(labels_val_list)\n",
    "#         print(len(labels_val_list))\n",
    "        \n",
    "        print('train_confusion_matrix')\n",
    "        print(confusion_matrix(labels_train_list_sum,preds_train_list_sum))\n",
    "        print('val_confustion_matrix')\n",
    "        print(confusion_matrix(labels_val_list_sum,preds_val_list_sum))\n",
    "        print(classification_report(labels_val_list_sum,preds_val_list_sum))\n",
    "        print(accuracy_score(labels_val_list_sum,preds_val_list_sum))\n",
    "        print('-'*30)\n",
    "\n",
    "        model.load_state_dict(best_model_wts)\n",
    "\n",
    "    return model, loss_history, metric_history"
   ]
  },
  {
   "cell_type": "code",
   "execution_count": 27,
   "id": "449c186e-0fd4-486d-b4d1-ed30f059b783",
   "metadata": {},
   "outputs": [],
   "source": [
    "params_train = {\n",
    "    'num_epochs':150,\n",
    "    'optimizer':opt,\n",
    "    'train_dl':train_dataloader,\n",
    "    'val_dl':valid_dataloader,\n",
    "    'sanity_check':False,\n",
    "    'lr_scheduler':lr_scheduler,\n",
    "    'path2weights':'/mnt/nas100_vol2/LeeJungHoon/AOV_task(binary_clssification)/Model_V2/weights_file/seresnet50(b=16,Adam,Focal_alpha(0.75),WRS,sche,seed)_weights_pt',\n",
    "}\n",
    "\n",
    "#만약 파일이 존재하지 않으면 새로운 파일 생성\n",
    "def createFolder(directory):\n",
    "    try:\n",
    "        if not os.path.exists(directory):\n",
    "            os.makedirs(directory)\n",
    "    except OSerror:\n",
    "        print('Error')\n",
    "createFolder('Resnet_weights_pt')"
   ]
  },
  {
   "cell_type": "code",
   "execution_count": 28,
   "id": "75aeb1c6-f9bb-4259-9a20-2c3788e58c31",
   "metadata": {},
   "outputs": [],
   "source": [
    "from torch.utils.tensorboard import SummaryWriter\n",
    "writer = SummaryWriter('/mnt/nas100_vol2/LeeJungHoon/AOV_task(binary_clssification)/Model_V2/runs/seresnet50(b=16,Adam,Focal_alpha(0.75),WRS,sche,seed)')"
   ]
  },
  {
   "cell_type": "code",
   "execution_count": 1,
   "id": "f7f67828-f27c-44ef-863e-b4dcdd2f8297",
   "metadata": {
    "tags": []
   },
   "outputs": [
    {
     "ename": "NameError",
     "evalue": "name 'train_val' is not defined",
     "output_type": "error",
     "traceback": [
      "\u001b[0;31m---------------------------------------------------------------------------\u001b[0m",
      "\u001b[0;31mNameError\u001b[0m                                 Traceback (most recent call last)",
      "\u001b[0;32m<ipython-input-1-40a68c4f9fe2>\u001b[0m in \u001b[0;36m<module>\u001b[0;34m\u001b[0m\n\u001b[0;32m----> 1\u001b[0;31m \u001b[0mmodel\u001b[0m\u001b[0;34m,\u001b[0m \u001b[0mloss_hist\u001b[0m\u001b[0;34m,\u001b[0m \u001b[0mmetric_hist\u001b[0m \u001b[0;34m=\u001b[0m \u001b[0mtrain_val\u001b[0m\u001b[0;34m(\u001b[0m\u001b[0mmodel\u001b[0m\u001b[0;34m,\u001b[0m \u001b[0mparams_train\u001b[0m\u001b[0;34m)\u001b[0m\u001b[0;34m\u001b[0m\u001b[0;34m\u001b[0m\u001b[0m\n\u001b[0m",
      "\u001b[0;31mNameError\u001b[0m: name 'train_val' is not defined"
     ]
    }
   ],
   "source": [
    "model, loss_hist, metric_hist = train_val(model, params_train)"
   ]
  },
  {
   "cell_type": "code",
   "execution_count": 30,
   "id": "97ff550f-f1e9-4b63-8f51-9bda39e1de24",
   "metadata": {},
   "outputs": [
    {
     "data": {
      "text/plain": [
       "Text(0.5, 1.0, 'loss')"
      ]
     },
     "execution_count": 30,
     "metadata": {},
     "output_type": "execute_result"
    },
    {
     "data": {
      "image/png": "[encoded data removed]",
      "text/plain": [
       "<Figure size 432x288 with 1 Axes>"
      ]
     },
     "metadata": {
      "needs_background": "light"
     },
     "output_type": "display_data"
    },
    {
     "data": {
      "image/png": "[encoded data removed]",
      "text/plain": [
       "<Figure size 432x288 with 1 Axes>"
      ]
     },
     "metadata": {
      "needs_background": "light"
     },
     "output_type": "display_data"
    }
   ],
   "source": [
    "accuracy = metric_hist['train']\n",
    "val_accuracy = metric_hist['val'] \n",
    "\n",
    "loss = loss_hist['train'] \n",
    "val_loss = loss_hist['val']\n",
    "\n",
    "epochs = range(len(loss_hist['train']))\n",
    "\n",
    "plt.plot(epochs, accuracy, label=\"train\") \n",
    "plt.plot(epochs, val_accuracy, label=\"val\") \n",
    "plt.legend() \n",
    "plt.title('accuracy') \n",
    "\n",
    "plt.figure() \n",
    "plt.plot(epochs, loss, label=\"train\")\n",
    "plt.xlabel('epochs')\n",
    "\n",
    "plt.plot(epochs, val_loss, label=\"val\") \n",
    "plt.xlabel('epochs')\n",
    "plt.legend() \n",
    "plt.title('loss')"
   ]
  },
  {
   "cell_type": "code",
   "execution_count": 20,
   "id": "f854e6ce-79e8-49b2-ac61-777ea4b98fff",
   "metadata": {},
   "outputs": [],
   "source": [
    "model_name = 'seresnet50(b=16,Adam,Focal_alpha(0.75),WRS,sche,seed)_weights_pt'\n",
    "model_path = '/mnt/nas100_vol2/LeeJungHoon/AOV_task(binary_clssification)/Model_V2/weights_file/'"
   ]
  },
  {
   "cell_type": "code",
   "execution_count": 21,
   "id": "9b4aa58d-72b3-4ce5-b57a-bb6fc7894a39",
   "metadata": {},
   "outputs": [
    {
     "data": {
      "text/plain": [
       "<All keys matched successfully>"
      ]
     },
     "execution_count": 21,
     "metadata": {},
     "output_type": "execute_result"
    }
   ],
   "source": [
    "model = seresnet50_pretrained.to(device)\n",
    "model.load_state_dict(torch.load(model_path + model_name))"
   ]
  },
  {
   "cell_type": "code",
   "execution_count": null,
   "id": "c967d057-2902-4214-bf3d-73aaac358b91",
   "metadata": {
    "collapsed": true,
    "jupyter": {
     "outputs_hidden": true
    },
    "tags": []
   },
   "outputs": [],
   "source": [
    "from sklearn.metrics import classification_report, confusion_matrix, accuracy_score\n",
    "# output = model(input_data)\n",
    "model.eval()  \n",
    "\n",
    "test_accuracy = 0.0\n",
    "running_accuracy = 0.0\n",
    "len_dataset = len(test_dataloader.dataset)\n",
    "pred = []\n",
    "label = []\n",
    "outputs = []\n",
    "incorrect_normal_list = []\n",
    "incorrect_abnormal_list = []\n",
    "\n",
    "# valid data\n",
    "with torch.no_grad():\n",
    "    for data in test_dataloader:\n",
    "        \n",
    "        inputs = data['img']\n",
    "        labels = data['label']\n",
    "        idx = data['filename']\n",
    "        \n",
    "        inputs = inputs.to(device)\n",
    "        labels = labels.to(device, dtype = torch.float32)\n",
    "        print(model(inputs))\n",
    "        \n",
    "        output = torch.squeeze(model(inputs))\n",
    "        output_sig = torch.sigmoid(output)\n",
    "        outputs.append(output_sig.cpu())\n",
    "        y_pred = output_sig.cpu()\n",
    "        y_pred[y_pred >= 0.5] = 1\n",
    "        y_pred[y_pred < 0.5] = 0\n",
    "        \n",
    "        if y_pred != labels.cpu():\n",
    "            if labels.cpu() == 1:\n",
    "                incorrect_abnormal_list.append(idx)\n",
    "            else:\n",
    "                incorrect_normal_list.append(idx)\n",
    "                \n",
    "            \n",
    "        \n",
    "        \n",
    "        y_pred_ = y_pred.detach().cpu().numpy().tolist()\n",
    "        print(y_pred_)\n",
    "        \n",
    "        correct_num = y_pred.eq(labels.cpu()).int().sum()\n",
    "        running_accuracy += correct_num\n",
    "        print(correct_num)\n",
    "        \n",
    "        labels_numpy = labels.detach().cpu().numpy().tolist()\n",
    "        print(labels_numpy)\n",
    "        \n",
    "        \n",
    "        pred.append(y_pred_)\n",
    "        label.append(labels_numpy)\n",
    "        \n",
    "#         print(confusion_matrix(y_pred,labels_numpy))\n",
    "#         print(classification_report(y_pred,labels_numpy))\n",
    "#         print(accuracy_score(y_pred,labels_numpy))\n",
    "\n",
    "test_accuracy = running_accuracy / len_dataset\n"
   ]
  },
  {
   "cell_type": "code",
   "execution_count": 23,
   "id": "b6b7f664-bf7b-459e-9ea8-565b0dfbbbaa",
   "metadata": {},
   "outputs": [
    {
     "name": "stdout",
     "output_type": "stream",
     "text": [
      "Best Threshold=0.528726, sensitivity = 0.846, specificity = 0.864, J=0.710\n",
      "[[54 12]\n",
      " [ 6 33]]\n",
      "              precision    recall  f1-score   support\n",
      "\n",
      "         0.0       0.90      0.82      0.86        66\n",
      "         1.0       0.73      0.85      0.79        39\n",
      "\n",
      "    accuracy                           0.83       105\n",
      "   macro avg       0.82      0.83      0.82       105\n",
      "weighted avg       0.84      0.83      0.83       105\n",
      "\n"
     ]
    }
   ],
   "source": [
    "from sklearn.metrics import roc_curve\n",
    "from numpy import argmax\n",
    "\n",
    "# calculate roc curves\n",
    "fpr, tpr, thresholds = roc_curve(label, outputs)\n",
    "\n",
    "# get the best threshold\n",
    "J = tpr - fpr\n",
    "ix = argmax(J)\n",
    "best_thresh = thresholds[ix]\n",
    "print('Best Threshold=%f, sensitivity = %.3f, specificity = %.3f, J=%.3f' % (best_thresh, tpr[ix], 1-fpr[ix], J[ix]))\n",
    "\n",
    "print(confusion_matrix(label,pred))\n",
    "print(classification_report(label,pred))\n",
    "cm = confusion_matrix(label,pred)"
   ]
  },
  {
   "cell_type": "code",
   "execution_count": 24,
   "id": "c0d49e13-7386-4c6c-8ca0-e34b7d53eac3",
   "metadata": {},
   "outputs": [
    {
     "data": {
      "image/png": "[encoded data removed]",
      "text/plain": [
       "<Figure size 360x360 with 1 Axes>"
      ]
     },
     "metadata": {
      "needs_background": "light"
     },
     "output_type": "display_data"
    }
   ],
   "source": [
    "from sklearn.metrics import roc_auc_score\n",
    "\n",
    "#plot roc and best threshold\n",
    "sens, spec = tpr[ix], 1-fpr[ix]\n",
    "# plot the roc curve for the model\n",
    "plt.figure(figsize=(5,5))\n",
    "plt.plot([0,1], [0,1], linestyle='--', markersize=0.01, color='black')\n",
    "plt.plot(fpr, tpr, marker='.', color='black', markersize=0.05, label=\"Classifier AUC = %.3f\" % roc_auc_score(label, pred))\n",
    "plt.scatter(fpr[ix], tpr[ix], marker='+', s=100, color='r', \n",
    "            label='Best threshold = %.3f, \\nSensitivity = %.3f, \\nSpecificity = %.3f' % (best_thresh, sens, spec))\n",
    "\n",
    "# axis labels\n",
    "plt.xlabel('False Positive Rate')\n",
    "plt.ylabel('True Positive Rate')\n",
    "plt.legend(loc=4)\n",
    "\n",
    "# show the plot\n",
    "plt.show()"
   ]
  },
  {
   "cell_type": "code",
   "execution_count": 37,
   "id": "2846b0ce-173e-47f7-b85a-eb8225de3b51",
   "metadata": {},
   "outputs": [
    {
     "data": {
      "text/plain": [
       "<sklearn.metrics._plot.confusion_matrix.ConfusionMatrixDisplay at 0x7f8d50217e80>"
      ]
     },
     "execution_count": 37,
     "metadata": {},
     "output_type": "execute_result"
    },
    {
     "data": {
      "image/png": "[encoded data removed]",
      "text/plain": [
       "<Figure size 432x288 with 2 Axes>"
      ]
     },
     "metadata": {
      "needs_background": "light"
     },
     "output_type": "display_data"
    }
   ],
   "source": [
    " from sklearn.metrics import ConfusionMatrixDisplay\n",
    "# 라벨 설정\n",
    "label_name = ['Normal', 'Abnormal'] \n",
    "disp = ConfusionMatrixDisplay(cm, # 분류 모델\n",
    "                             display_labels=label_name, # 표에 표시할 labels\n",
    "                             ) # 'true', 'pred', 'all' 중에서 지정 가능. default=None\n",
    "disp.plot(cmap = plt.cm.Blues)"
   ]
  },
  {
   "cell_type": "code",
   "execution_count": null,
   "id": "7455d58d-c445-4161-adbc-4e1d085b062c",
   "metadata": {},
   "outputs": [],
   "source": []
  }
 ],
 "metadata": {
  "kernelspec": {
   "display_name": "Python 3",
   "language": "python",
   "name": "python3"
  },
  "language_info": {
   "codemirror_mode": {
    "name": "ipython",
    "version": 3
   },
   "file_extension": ".py",
   "mimetype": "text/x-python",
   "name": "python",
   "nbconvert_exporter": "python",
   "pygments_lexer": "ipython3",
   "version": "3.6.13"
  },
  "toc-autonumbering": true
 },
 "nbformat": 4,
 "nbformat_minor": 5
}
