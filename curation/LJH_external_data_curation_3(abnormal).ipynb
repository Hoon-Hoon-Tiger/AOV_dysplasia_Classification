{
 "cells": [
  {
   "cell_type": "code",
   "execution_count": 8,
   "id": "5feaac88",
   "metadata": {},
   "outputs": [],
   "source": [
    "from PIL import Image\n",
    "import pandas as pd\n",
    "%matplotlib inline\n",
    "import matplotlib\n",
    "import matplotlib.pyplot as plt\n",
    "import torch\n",
    "from torch.utils.data import Dataset, DataLoader\n",
    "import numpy as np\n",
    "import torchvision\n",
    "from torchvision import transforms\n",
    "from glob import glob\n",
    "import re"
   ]
  },
  {
   "cell_type": "code",
   "execution_count": 4,
   "id": "5a8f0fcd-8655-406a-b6f4-94d57582e0b6",
   "metadata": {},
   "outputs": [
    {
     "data": {
      "text/plain": [
       "'/mnt/nas100_vol2/LeeJungHoon/AOV_task(binary_clssification)/curation'"
      ]
     },
     "execution_count": 4,
     "metadata": {},
     "output_type": "execute_result"
    }
   ],
   "source": [
    "pwd"
   ]
  },
  {
   "cell_type": "markdown",
   "id": "551579d5-d72e-4038-b9e0-c1bfd4d53476",
   "metadata": {},
   "source": [
    "# external data에 대해서 curation 진행\n",
    "- 파일 이름 정리\n",
    "- cropping 진행\n",
    "- 각각의 external과 internal data의 train/val/test datatset 합치기"
   ]
  },
  {
   "cell_type": "code",
   "execution_count": 5,
   "id": "2e52c3f8-1335-4632-91d1-a561dbda3c74",
   "metadata": {},
   "outputs": [
    {
     "name": "stdout",
     "output_type": "stream",
     "text": [
      "189\n"
     ]
    }
   ],
   "source": [
    "external_abnormal_path = '/mnt/nas100_vol2/LeeJungHoon/bon_patients_image/external_abnormal_image/*.jpg'\n",
    "exteranl_abnormal = glob(external_abnormal_path)\n",
    "print(len(exteranl_abnormal))"
   ]
  },
  {
   "cell_type": "code",
   "execution_count": 6,
   "id": "1a0ad549-ad62-411a-b15a-6f588d44241b",
   "metadata": {},
   "outputs": [
    {
     "data": {
      "text/plain": [
       "'/mnt/nas100_vol2/LeeJungHoon/bon_patients_image/external_abnormal_image/24523268 김민선 2018-06-28 (외부자료-저장) 내시경05d.jpg'"
      ]
     },
     "execution_count": 6,
     "metadata": {},
     "output_type": "execute_result"
    }
   ],
   "source": [
    "exteranl_abnormal[0]"
   ]
  },
  {
   "cell_type": "markdown",
   "id": "940cb966",
   "metadata": {},
   "source": [
    "## external_abnormal(Positive) 이름 수정해서 파일 저장\n",
    "- 파일 이름 : 환자번호_날짜_정보"
   ]
  },
  {
   "cell_type": "code",
   "execution_count": null,
   "id": "92673003",
   "metadata": {
    "collapsed": true,
    "jupyter": {
     "outputs_hidden": true
    },
    "tags": []
   },
   "outputs": [],
   "source": [
    "#external_abnormal(positive)\n",
    "import shutil \n",
    "\n",
    "len_external_abnormal = len(exteranl_abnormal)\n",
    "\n",
    "\n",
    "\n",
    "bin_external_abormal_matrix = []\n",
    "\n",
    "for i in range(len_external_abnormal):\n",
    "    \n",
    "    c_abnormal = None\n",
    "    d_abnormal = None\n",
    "    e_abnormal = None\n",
    "    f_abnormal = None\n",
    "    \n",
    "    file = exteranl_abnormal[i]\n",
    "    \n",
    "    #print(file)\n",
    "    a_abnormal = file.split('/')[-1]\n",
    "    b_abnormal = a_abnormal.split('(')[-1]\n",
    "\n",
    "    c_abnormal = re.findall('05d+', b_abnormal)\n",
    "    d_abnormal = re.findall('205d+', b_abnormal)\n",
    "    e_abnormal = re.findall('305d+', b_abnormal)\n",
    "    f_abnormal = re.findall('405d+', b_abnormal)\n",
    "    g_abnormal = re.findall('505d+', b_abnormal)\n",
    "    h_abnormal = re.findall('605d+', b_abnormal)\n",
    "    j_abnormal = re.findall('705d+', b_abnormal)\n",
    "    k_abnormal = re.findall('805d+', b_abnormal)\n",
    "    l_abnormal = re.findall('905d+', b_abnormal)\n",
    "    \n",
    "#     print(c)\n",
    "#     print(d)\n",
    "\n",
    "    name_first = a_abnormal.split('(')[0]\n",
    "#한글과 영어이름을 띄어쓰기로 변환하고, 띄어쓰기를 다시 _로 변환\n",
    "    korean = re.compile('[\\u3131-\\u3163\\uac00-\\ud7a3]+')\n",
    "    name_first= re.sub(korean, '', name_first)\n",
    "    name_first = re.sub('[a-zA-z]','',name_first).replace(' ', '_')\n",
    "    name_first = re.sub(\",\", \"\", name_first)\n",
    "    \n",
    "# 마지막 글자가 다르거나 없는 경우가 존재하기 때문에 elif사용.    \n",
    "    if d_abnormal:\n",
    "        name_last=d_abnormal[0]\n",
    "#         print(name_last)\n",
    "        \n",
    "    elif e_abnormal:\n",
    "        name_last=e_abnormal[0]\n",
    "        \n",
    "    elif f_abnormal:\n",
    "        name_last=f_abnormal[0]\n",
    "        \n",
    "    elif g_abnormal:\n",
    "        name_last=g_abnormal[0]\n",
    "    \n",
    "    elif h_abnormal:\n",
    "        name_last=h_abnormal[0]\n",
    "    \n",
    "    elif j_abnormal:\n",
    "        name_last=j_abnormal[0]\n",
    "    \n",
    "    elif k_abnormal:\n",
    "        name_last=k_abnormal[0]\n",
    "        \n",
    "    elif l_abnormal:\n",
    "        name_last=l_abnormal[0]\n",
    "        \n",
    "    else:\n",
    "        name_last=c_abnormal[0]\n",
    "        \n",
    "\n",
    "    external_abnormal_file_name = name_first + name_last+ '.jpg' \n",
    "    shutil.copy2(file,'/mnt/nas100_vol2/LeeJungHoon/Aov_task_curation_data/cropped_data/cropped_data_v4_ex_in/Negative_external_V4/%s' % external_abnormal_file_name)\n",
    "\n",
    "    print(external_abnormal_file_name)\n",
    "    bin_external_abormal_matrix.append(external_abnormal_file_name)\n",
    "    \n",
    "\n"
   ]
  },
  {
   "cell_type": "markdown",
   "id": "933bcf17-7eb6-41e4-ac10-8ea8118667d4",
   "metadata": {},
   "source": [
    "## external_abnormal(Positive) cropping 진행"
   ]
  },
  {
   "cell_type": "code",
   "execution_count": 10,
   "id": "e800f22c-94af-45fa-afd0-a481255e4947",
   "metadata": {},
   "outputs": [
    {
     "name": "stdout",
     "output_type": "stream",
     "text": [
      "189\n"
     ]
    }
   ],
   "source": [
    "# external_abnormal resize\n",
    "from PIL import Image\n",
    "import cv2\n",
    "\n",
    "negative_path = '/mnt/nas100_vol2/LeeJungHoon/Aov_task_curation_data/cropped_data/cropped_data_v4_ex_in/Negative_external_V4/*.jpg' \n",
    "negative = glob(negative_path)\n",
    "path_negative = '/mnt/nas100_vol2/LeeJungHoon/Aov_task_curation_data/cropped_data/cropped_data_v4_ex_in/Negative_external_crop_V4'\n",
    "\n",
    "\n",
    "print(len(negative))\n"
   ]
  },
  {
   "cell_type": "code",
   "execution_count": null,
   "id": "8f7cc6e8-75ee-4fbd-8b76-8fd728948209",
   "metadata": {
    "collapsed": true,
    "jupyter": {
     "outputs_hidden": true
    },
    "tags": []
   },
   "outputs": [],
   "source": [
    "err_list = []\n",
    "for i in range(len(negative)):\n",
    "    i = negative[i]\n",
    "    image_name = i.split('/')[-1].split('.')[0]\n",
    "    print(image_name)\n",
    "    img = cv2.imread(i)\n",
    "    # img = cv2.cvtColor(img, cv2.COLOR_BGR2RGB)\n",
    "    #들어오는 이미지의 컬러 형태가 BGR인지 RGB인지 모르기 때문에 변형\n",
    "\n",
    "\n",
    "\n",
    "    image_gray = cv2.cvtColor(img, cv2.COLOR_BGR2GRAY)\n",
    "    img_array = np.array(image_gray, dtype=np.uint8)\n",
    "    edge = cv2.Canny(img_array,10,70)\n",
    "\n",
    "    #vertical crop index\n",
    "    len_width = len(edge[144,:])\n",
    "    #vertical 방향으로 idx 확인\n",
    "    img_index_left = []\n",
    "    img_index_right = []\n",
    "\n",
    "    for i in range(len_width):\n",
    "        vertical_sum_left = np.sum(edge[:,i]/255)\n",
    "        if vertical_sum_left > 140:\n",
    "            img_index_left.append(i)\n",
    "\n",
    "        vertical_sum_right = np.sum(edge[:,-(i+1)]/255)\n",
    "        vertical_sum_end = np.sum(edge[:,-1]/255)\n",
    "    \n",
    "        if vertical_sum_end != 0:\n",
    "            real_right_idx = 479\n",
    "            img_index_right.append(real_right_idx)\n",
    "        \n",
    "        elif vertical_sum_right > 5:\n",
    "            real_right_idx = len_width - (i+1) \n",
    "            img_index_right.append(real_right_idx)\n",
    "\n",
    "\n",
    "    index_left = img_index_left[0]\n",
    "    index_right = img_index_right[0]\n",
    "\n",
    "    #horizontal crop index\n",
    "    len_height = len(edge[:,144])\n",
    "    #horizontal 방향으로 idx 확인\n",
    "    img_index_up = []\n",
    "    img_index_down = []\n",
    "    for i in range(len_height):\n",
    "        \n",
    "        horizontal_sum_up = np.sum(edge[i,:]/255)\n",
    "        horizontal_sum_start = np.sum(edge[0,:]/255)\n",
    "        if horizontal_sum_start != 0:\n",
    "            real_up_idx = 0\n",
    "            img_index_up.append(i)\n",
    "        elif horizontal_sum_up > 110:\n",
    "            img_index_up.append(i)\n",
    "\n",
    "        horizontal_sum_down = np.sum(edge[-(i+1),:]/255)\n",
    "        horizontal_sum_end = np.sum(edge[-1,:]/255)\n",
    "        \n",
    "\n",
    "        if horizontal_sum_end != 0:\n",
    "            real_down_idx = 639\n",
    "            img_index_down.append(real_down_idx)\n",
    "        elif horizontal_sum_down > 170:\n",
    "            real_down_idx = len_height - (i+1) \n",
    "            img_index_down.append(real_down_idx)\n",
    "       \n",
    "\n",
    "    img_up = img_index_up[0]\n",
    "    print(img_up)\n",
    "    img_down = img_index_down[0]\n",
    "    # print(img_index_down)\n",
    "    print(img_down)\n",
    "\n",
    "    img = img[img_up:img_down, index_left:index_right]\n",
    "\n",
    "    print(img.shape)\n",
    "    # print(np.max(img))\n",
    "\n",
    "    # img = np.array(img, dtype = np.float32)\n",
    "    # img = (img - np.min(img))/(np.max(img)-np.min(img))\n",
    "\n",
    "    cv2.imwrite(path_negative+ '/'+image_name+'.jpg', img)\n",
    "    # plt.imshow(img)\n",
    "    # except:\n",
    "    #     i = negative[i]\n",
    "    #     image_name = i.split('/')[-1].split('.')[0]\n",
    "    #     err_list.append(image_name)"
   ]
  },
  {
   "cell_type": "code",
   "execution_count": null,
   "id": "f09b1b8f",
   "metadata": {
    "collapsed": true,
    "jupyter": {
     "outputs_hidden": true
    },
    "tags": []
   },
   "outputs": [],
   "source": [
    "#try 사용\n",
    "'''#normal resize\n",
    "from PIL import Image\n",
    "import cv2\n",
    "\n",
    "negative_path = '/mnt/nas100_vol2/LeeJungHoon/Aov_task_curation_data/cropped_data/cropped_data_v4_ex_in/Negative_v4/*.jpg' \n",
    "negative = glob(negative_path)\n",
    "path_negative = '/mnt/nas100_vol2/LeeJungHoon/Aov_task_curation_data/cropped_data/cropped_data_v4_ex_in/Negative_crop_v4'\n",
    "\n",
    "err_list = []\n",
    "for i in range(len(negative)):\n",
    "    try:\n",
    "        i = negative[i]\n",
    "        image_name = i.split('/')[-1].split('.')[0]\n",
    "        print(image_name)\n",
    "        img = cv2.imread(i)\n",
    "        # img = cv2.cvtColor(img, cv2.COLOR_BGR2RGB)\n",
    "        #들어오는 이미지의 컬러 형태가 BGR인지 RGB인지 모르기 때문에 변형\n",
    "\n",
    "\n",
    "\n",
    "        image_gray = cv2.cvtColor(img, cv2.COLOR_BGR2GRAY)\n",
    "        img_array = np.array(image_gray, dtype=np.uint8)\n",
    "        edge = cv2.Canny(img_array,50,200)\n",
    "\n",
    "        #vertical crop index\n",
    "        len_width = len(edge[144,:])\n",
    "        #vertical 방향으로 idx 확인\n",
    "        img_index_left = []\n",
    "        img_index_right = []\n",
    "\n",
    "        for i in range(len_width):\n",
    "            vertical_sum_left = np.sum(edge[:,i]/255)\n",
    "            if vertical_sum_left > 110:\n",
    "                img_index_left.append(i)\n",
    "\n",
    "            vertical_sum_right = np.sum(edge[:,-(i+1)]/255)\n",
    "            if vertical_sum_right > 100:\n",
    "                real_right_idx = len_width - (i+1) \n",
    "                img_index_right.append(real_right_idx) \n",
    "\n",
    "        index_left = img_index_left[0]\n",
    "        index_right = img_index_right[0]\n",
    "\n",
    "        #horizontal crop index\n",
    "        len_height = len(edge[:,144])\n",
    "        #horizontal 방향으로 idx 확인\n",
    "        img_index_up = []\n",
    "        img_index_down = []\n",
    "        for i in range(len_height):\n",
    "            horizontal_sum_up = np.sum(edge[i,:]/255)\n",
    "            if horizontal_sum_up > 110:\n",
    "                img_index_up.append(i)\n",
    "\n",
    "            horizontal_sum_down = np.sum(edge[-(i+1),:]/255)\n",
    "            horizontal_sum_end = np.sum(edge[-1,:]/255)\n",
    "\n",
    "            if horizontal_sum_down > 100:\n",
    "                if horizontal_sum_end != 0:\n",
    "                    real_down_idx = 479\n",
    "                    img_index_down.append(real_down_idx)    \n",
    "                else:\n",
    "                    real_down_idx = len_height - (i+1) \n",
    "                    img_index_down.append(real_down_idx)     \n",
    "\n",
    "        img_up = img_index_up[0]\n",
    "        print(img_up)\n",
    "        img_down = img_index_down[0]\n",
    "        print(img_index_down)\n",
    "        print(img_down)\n",
    "\n",
    "        img = img[img_up:img_down, index_left:index_right]\n",
    "\n",
    "        print(img.shape)\n",
    "        # print(np.max(img))\n",
    "\n",
    "        # img = np.array(img, dtype = np.float32)\n",
    "        # img = (img - np.min(img))/(np.max(img)-np.min(img))\n",
    "\n",
    "        cv2.imwrite(path_negative+ '/'+image_name+'.jpg', img)\n",
    "        # plt.imshow(img)\n",
    "    except:\n",
    "        i = negative[i]\n",
    "        image_name = i.split('/')[-1].split('.')[0]\n",
    "        err_list.append(image_name)\n",
    "        '''"
   ]
  },
  {
   "cell_type": "code",
   "execution_count": 10,
   "id": "3d879078",
   "metadata": {},
   "outputs": [
    {
     "data": {
      "text/plain": [
       "590"
      ]
     },
     "execution_count": 10,
     "metadata": {},
     "output_type": "execute_result"
    }
   ],
   "source": [
    "len(set(bin_matrix))"
   ]
  },
  {
   "cell_type": "markdown",
   "id": "f97b3321-0f18-4cb6-a4e4-daee5e348569",
   "metadata": {
    "tags": []
   },
   "source": [
    "# internal data에 대해서 curation 진행\n",
    "- 파일 이름 정리\n",
    "- cropping 진행\n",
    "- 각각의 external과 internal data의 train/val/test datatset 합치기"
   ]
  },
  {
   "cell_type": "code",
   "execution_count": 12,
   "id": "ea404971",
   "metadata": {
    "scrolled": true
   },
   "outputs": [
    {
     "name": "stdout",
     "output_type": "stream",
     "text": [
      "331\n"
     ]
    }
   ],
   "source": [
    "internal_abnormal_path = '/mnt/nas100_vol2/LeeJungHoon/bon_patients_image/Abnormal_image_v1/*.jpg'\n",
    "interanl_abnormal = glob(internal_abnormal_path)\n",
    "print(len(interanl_abnormal))"
   ]
  },
  {
   "cell_type": "code",
   "execution_count": 13,
   "id": "79836770-7a5a-4837-b781-04a21d67be72",
   "metadata": {
    "tags": []
   },
   "outputs": [
    {
     "data": {
      "text/plain": [
       "'/mnt/nas100_vol2/LeeJungHoon/bon_patients_image/Abnormal_image_v1/11182414 김동순 2019-01-17 식도위십이지장경검사 (비진정)05d.jpg'"
      ]
     },
     "execution_count": 13,
     "metadata": {},
     "output_type": "execute_result"
    }
   ],
   "source": [
    "interanl_abnormal[0]"
   ]
  },
  {
   "cell_type": "markdown",
   "id": "23456618-c4cb-4283-968b-b0903533908b",
   "metadata": {},
   "source": [
    "## internal_abnormal(Positive) 이름 수정해서 파일 저장\n",
    "- 파일 이름 : 환자번호_날짜_정보"
   ]
  },
  {
   "cell_type": "code",
   "execution_count": null,
   "id": "63a42093",
   "metadata": {
    "scrolled": true,
    "tags": []
   },
   "outputs": [],
   "source": [
    "#external_abnormal(positive)\n",
    "import shutil \n",
    "\n",
    "len_internal_abnormal = len(interanl_abnormal)\n",
    "\n",
    "\n",
    "\n",
    "bin_internal_abormal_matrix = []\n",
    "\n",
    "for i in range(len_internal_abnormal):\n",
    "    \n",
    "    c_abnormal = None\n",
    "    d_abnormal = None\n",
    "    e_abnormal = None\n",
    "    f_abnormal = None\n",
    "    \n",
    "    file = interanl_abnormal[i]\n",
    "    \n",
    "    #print(file)\n",
    "    a_abnormal = file.split('/')[-1]\n",
    "    b_abnormal = a_abnormal.split('(')[-1]\n",
    "\n",
    "    c_abnormal = re.findall('05d+', b_abnormal)\n",
    "    d_abnormal = re.findall('205d+', b_abnormal)\n",
    "    e_abnormal = re.findall('305d+', b_abnormal)\n",
    "    f_abnormal = re.findall('405d+', b_abnormal)\n",
    "    g_abnormal = re.findall('505d+', b_abnormal)\n",
    "    h_abnormal = re.findall('605d+', b_abnormal)\n",
    "    j_abnormal = re.findall('705d+', b_abnormal)\n",
    "    k_abnormal = re.findall('805d+', b_abnormal)\n",
    "    l_abnormal = re.findall('905d+', b_abnormal)\n",
    "    \n",
    "#     print(c)\n",
    "#     print(d)\n",
    "\n",
    "    name_first = a_abnormal.split('(')[0]\n",
    "#한글과 영어이름을 띄어쓰기로 변환하고, 띄어쓰기를 다시 _로 변환\n",
    "    korean = re.compile('[\\u3131-\\u3163\\uac00-\\ud7a3]+')\n",
    "    name_first= re.sub(korean, '', name_first)\n",
    "    name_first = re.sub('[a-zA-z]','',name_first).replace(' ', '_')\n",
    "    name_first = re.sub(\",\", \"\", name_first)\n",
    "    \n",
    "# 마지막 글자가 다르거나 없는 경우가 존재하기 때문에 elif사용.    \n",
    "    if d_abnormal:\n",
    "        name_last=d_abnormal[0]\n",
    "#         print(name_last)\n",
    "        \n",
    "    elif e_abnormal:\n",
    "        name_last=e_abnormal[0]\n",
    "        \n",
    "    elif f_abnormal:\n",
    "        name_last=f_abnormal[0]\n",
    "        \n",
    "    elif g_abnormal:\n",
    "        name_last=g_abnormal[0]\n",
    "    \n",
    "    elif h_abnormal:\n",
    "        name_last=h_abnormal[0]\n",
    "    \n",
    "    elif j_abnormal:\n",
    "        name_last=j_abnormal[0]\n",
    "    \n",
    "    elif k_abnormal:\n",
    "        name_last=k_abnormal[0]\n",
    "        \n",
    "    elif l_abnormal:\n",
    "        name_last=l_abnormal[0]\n",
    "        \n",
    "    else:\n",
    "        name_last=c_abnormal[0]\n",
    "        \n",
    "\n",
    "    internal_abnormal_file_name = name_first + name_last+ '.jpg' \n",
    "    shutil.copy2(file,'/mnt/nas100_vol2/LeeJungHoon/Aov_task_curation_data/cropped_data/cropped_data_v4_ex_in/Negative_internal_V4/%s' % internal_abnormal_file_name)\n",
    "\n",
    "    print(internal_abnormal_file_name)\n",
    "    bin_external_abormal_matrix.append(internal_abnormal_file_name)\n",
    "    \n",
    "\n"
   ]
  },
  {
   "cell_type": "markdown",
   "id": "c403dc52-76e3-40a0-b5a4-d570d31c0d33",
   "metadata": {},
   "source": [
    "## internal_abnormal(Positive) cropping 진행"
   ]
  },
  {
   "cell_type": "code",
   "execution_count": 16,
   "id": "56119faa-4f5c-413e-a39e-84281938fb77",
   "metadata": {},
   "outputs": [
    {
     "name": "stdout",
     "output_type": "stream",
     "text": [
      "331\n"
     ]
    }
   ],
   "source": [
    "# external_abnormal resize\n",
    "from PIL import Image\n",
    "import cv2\n",
    "\n",
    "negative_path = '/mnt/nas100_vol2/LeeJungHoon/Aov_task_curation_data/cropped_data/cropped_data_v4_ex_in/Negative_internal_V4/*.jpg' \n",
    "negative = glob(negative_path)\n",
    "path_negative = '/mnt/nas100_vol2/LeeJungHoon/Aov_task_curation_data/cropped_data/cropped_data_v4_ex_in/Negative_internal_crop_V4'\n",
    "\n",
    "\n",
    "print(len(negative))\n"
   ]
  },
  {
   "cell_type": "code",
   "execution_count": null,
   "id": "40410210-9fe7-4262-bd14-37f2f166500f",
   "metadata": {
    "collapsed": true,
    "jupyter": {
     "outputs_hidden": true
    },
    "tags": []
   },
   "outputs": [],
   "source": [
    "err_list = []\n",
    "for i in range(len(negative)):\n",
    "    i = negative[i]\n",
    "    image_name = i.split('/')[-1].split('.')[0]\n",
    "    print(image_name)\n",
    "    img = cv2.imread(i)\n",
    "    # img = cv2.cvtColor(img, cv2.COLOR_BGR2RGB)\n",
    "    #들어오는 이미지의 컬러 형태가 BGR인지 RGB인지 모르기 때문에 변형\n",
    "\n",
    "\n",
    "\n",
    "    image_gray = cv2.cvtColor(img, cv2.COLOR_BGR2GRAY)\n",
    "    img_array = np.array(image_gray, dtype=np.uint8)\n",
    "    edge = cv2.Canny(img_array,10,70)\n",
    "\n",
    "    #vertical crop index\n",
    "    len_width = len(edge[144,:])\n",
    "    #vertical 방향으로 idx 확인\n",
    "    img_index_left = []\n",
    "    img_index_right = []\n",
    "\n",
    "    for i in range(len_width):\n",
    "        vertical_sum_left = np.sum(edge[:,i]/255)\n",
    "        if vertical_sum_left > 140:\n",
    "            img_index_left.append(i)\n",
    "\n",
    "        vertical_sum_right = np.sum(edge[:,-(i+1)]/255)\n",
    "        vertical_sum_end = np.sum(edge[:,-1]/255)\n",
    "    \n",
    "        if vertical_sum_end != 0:\n",
    "            real_right_idx = 479\n",
    "            img_index_right.append(real_right_idx)\n",
    "        \n",
    "        elif vertical_sum_right > 5:\n",
    "            real_right_idx = len_width - (i+1) \n",
    "            img_index_right.append(real_right_idx)\n",
    "\n",
    "\n",
    "    index_left = img_index_left[0]\n",
    "    index_right = img_index_right[0]\n",
    "\n",
    "    #horizontal crop index\n",
    "    len_height = len(edge[:,144])\n",
    "    #horizontal 방향으로 idx 확인\n",
    "    img_index_up = []\n",
    "    img_index_down = []\n",
    "    for i in range(len_height):\n",
    "        \n",
    "        horizontal_sum_up = np.sum(edge[i,:]/255)\n",
    "        horizontal_sum_start = np.sum(edge[0,:]/255)\n",
    "        if horizontal_sum_start != 0:\n",
    "            real_up_idx = 0\n",
    "            img_index_up.append(i)\n",
    "        elif horizontal_sum_up > 110:\n",
    "            img_index_up.append(i)\n",
    "\n",
    "        horizontal_sum_down = np.sum(edge[-(i+1),:]/255)\n",
    "        horizontal_sum_end = np.sum(edge[-1,:]/255)\n",
    "        \n",
    "\n",
    "        if horizontal_sum_end != 0:\n",
    "            real_down_idx = 639\n",
    "            img_index_down.append(real_down_idx)\n",
    "        elif horizontal_sum_down > 170:\n",
    "            real_down_idx = len_height - (i+1) \n",
    "            img_index_down.append(real_down_idx)\n",
    "       \n",
    "\n",
    "    img_up = img_index_up[0]\n",
    "    print(img_up)\n",
    "    img_down = img_index_down[0]\n",
    "    # print(img_index_down)\n",
    "    print(img_down)\n",
    "\n",
    "    img = img[img_up:img_down, index_left:index_right]\n",
    "\n",
    "    print(img.shape)\n",
    "    # print(np.max(img))\n",
    "\n",
    "    # img = np.array(img, dtype = np.float32)\n",
    "    # img = (img - np.min(img))/(np.max(img)-np.min(img))\n",
    "\n",
    "    cv2.imwrite(path_negative+ '/'+image_name+'.jpg', img)\n",
    "    # plt.imshow(img)\n",
    "    # except:\n",
    "    #     i = negative[i]\n",
    "    #     image_name = i.split('/')[-1].split('.')[0]\n",
    "    #     err_list.append(image_name)"
   ]
  },
  {
   "cell_type": "markdown",
   "id": "b21c7495",
   "metadata": {
    "tags": []
   },
   "source": [
    "# data split 진행\n",
    "- external / internal 따로 진행"
   ]
  },
  {
   "cell_type": "code",
   "execution_count": 21,
   "id": "4a751c03-202e-412f-83d0-ba099d552d77",
   "metadata": {},
   "outputs": [
    {
     "name": "stdout",
     "output_type": "stream",
     "text": [
      "69\n",
      "65\n"
     ]
    }
   ],
   "source": [
    "ex_Abnormal_path = '/mnt/nas100_vol2/LeeJungHoon/Aov_task_curation_data/cropped_data/cropped_data_v4_ex_in/Negative_external_crop_V4/*.jpg'\n",
    "ex_abnormal_glob = glob(ex_Abnormal_path)\n",
    "abnormal_info =  pd.read_excel('/mnt/nas100_vol2/LeeJungHoon/AOV_task/patients_info_csv/220912_Patients_info.xlsx', sheet_name=2, engine='openpyxl')\n",
    "df = abnormal_info['환자번호']\n",
    "df_val = df.values\n",
    "df_list = df_val.tolist()\n",
    "df_str_list = list(map(str,df_list))\n",
    "print(len(df_str_list))\n",
    "print(len(set(df_str_list)))"
   ]
  },
  {
   "cell_type": "code",
   "execution_count": 24,
   "id": "d6fccd4d-0249-455e-afcc-264afb014f2e",
   "metadata": {},
   "outputs": [
    {
     "data": {
      "text/plain": [
       "67"
      ]
     },
     "execution_count": 24,
     "metadata": {},
     "output_type": "execute_result"
    }
   ],
   "source": [
    "ex_nor_img_list = []\n",
    "for i in range(len(ex_abnormal_glob)):\n",
    "    patient_num = ex_abnormal_glob[i].split('/')[-1].split('_')[0]\n",
    "#     print(patient_num)\n",
    "    ex_nor_img_list.append(patient_num)\n",
    "ex_one_nor_img_list = list(set(ex_nor_img_list))\n",
    "# ex_one_nor_img_list\n",
    "len(ex_one_nor_img_list)"
   ]
  },
  {
   "cell_type": "code",
   "execution_count": 27,
   "id": "c70004cd-fe61-4a05-93ce-2645351bc66f",
   "metadata": {},
   "outputs": [
    {
     "name": "stdout",
     "output_type": "stream",
     "text": [
      "4\n",
      "63\n"
     ]
    },
    {
     "data": {
      "text/plain": [
       "['50462603', '56998629', '57443920', '56141548']"
      ]
     },
     "execution_count": 27,
     "metadata": {},
     "output_type": "execute_result"
    }
   ],
   "source": [
    "# positive(abnormal)\n",
    "ex_img_no_csv_list = []\n",
    "ex_img_csv_list = []\n",
    "for i in ex_one_nor_img_list:\n",
    "#     print(i)\n",
    "#     patient_num_img = abnormal_glob[i].split('/')[-1].split('_')[0]\n",
    "\n",
    "    if i not in df_str_list:\n",
    "        ex_img_no_csv_list.append(i)\n",
    "#         print('파일이 존재하지 않습니다:',i)\n",
    "    else:\n",
    "        ex_img_csv_list.append(i)\n",
    "#         print('파일이 존재:',i)\n",
    "\n",
    "#     else:\n",
    "#         print('있습니다!!')\n",
    "        \n",
    "print(len(ex_img_no_csv_list))\n",
    "print(len(ex_img_csv_list))\n",
    "ex_img_no_csv_list\n",
    "# print(len(img_csv_list))\n",
    "# print(len(no_list))"
   ]
  },
  {
   "cell_type": "code",
   "execution_count": 26,
   "id": "e2c994cc-b92d-4409-9f35-f14fd497afee",
   "metadata": {},
   "outputs": [
    {
     "name": "stdout",
     "output_type": "stream",
     "text": [
      "2\n",
      "67\n"
     ]
    },
    {
     "data": {
      "text/plain": [
       "['56426629', '61437986']"
      ]
     },
     "execution_count": 26,
     "metadata": {},
     "output_type": "execute_result"
    }
   ],
   "source": [
    "# positive(abnormal)\n",
    "ex_csv_no_img_list = []\n",
    "ex_img_csv_list = []\n",
    "for i in df_str_list:\n",
    "#     print(i)\n",
    "#     patient_num_img = abnormal_glob[i].split('/')[-1].split('_')[0]\n",
    "\n",
    "    if i not in ex_one_nor_img_list:\n",
    "        ex_csv_no_img_list.append(i)\n",
    "#         print('파일이 존재하지 않습니다:',i)\n",
    "    else:\n",
    "        ex_img_csv_list.append(i)\n",
    "#         print('파일이 존재:',i)\n",
    "\n",
    "#     else:\n",
    "#         print('있습니다!!')\n",
    "        \n",
    "print(len(ex_csv_no_img_list))\n",
    "print(len(ex_img_csv_list))\n",
    "ex_csv_no_img_list\n",
    "# print(len(img_csv_list))\n",
    "# print(len(no_list))"
   ]
  },
  {
   "cell_type": "code",
   "execution_count": 28,
   "id": "a8ffca45-89e8-498c-b9be-28ae2b520fee",
   "metadata": {},
   "outputs": [
    {
     "name": "stdout",
     "output_type": "stream",
     "text": [
      "6\n"
     ]
    }
   ],
   "source": [
    "ex_ab_no_file = ex_img_no_csv_list + ex_csv_no_img_list\n",
    "print(len(ex_ab_no_file))"
   ]
  },
  {
   "cell_type": "code",
   "execution_count": 30,
   "id": "62735861-ce07-4347-8e81-5913924fee95",
   "metadata": {},
   "outputs": [],
   "source": [
    "# normal 파일에서 누락된 이미지 제거 후 새로운 파일에 저장\n",
    "b = []\n",
    "c = []\n",
    "for i in range(len(ex_abnormal_glob)):\n",
    "    patient_num = ex_abnormal_glob[i].split('/')[-1].split('_')[0]\n",
    "    name = ex_abnormal_glob[i].split('/')[-1]\n",
    "\n",
    "    a = ex_abnormal_glob[i]\n",
    "    \n",
    "#     print(a)\n",
    "    if patient_num not in ex_ab_no_file:\n",
    "            b.append(patient_num)\n",
    "            shutil.copy2(a,'/mnt/nas100_vol2/LeeJungHoon/Aov_task_curation_data/curation_data_v4/external_abn_data_v4/%s' %name)\n",
    "#     else:\n",
    "#         c.append(patient_num)\n",
    "        \n"
   ]
  },
  {
   "cell_type": "code",
   "execution_count": 49,
   "id": "58384fef-bb5b-4770-aafa-45cab97ded0f",
   "metadata": {},
   "outputs": [
    {
     "name": "stdout",
     "output_type": "stream",
     "text": [
      "176\n",
      "331\n"
     ]
    }
   ],
   "source": [
    "ex_abn_path = '/mnt/nas100_vol2/LeeJungHoon/Aov_task_curation_data/curation_data_v4/external_abn_data_v4/*.jpg'\n",
    "ex_abn_data = glob(ex_abn_path)\n",
    "print(len(ex_abn_data))\n",
    "\"\"\"\n",
    "현재 엑셀 파일에는 존재하지만 이미지가 존재하지 않는 환자의 수는 4명이지만 \n",
    "4명의 총 이미지 파일 수는 13장이기 때문에 총 189장 중 176장만 존재\n",
    "176\n",
    "\"\"\"\n",
    "in_abn_path = '/mnt/nas100_vol2/LeeJungHoon/Aov_task_curation_data/curation_data_v4/internal_abn_data_v4/*.jpg'\n",
    "in_abn_data = glob(in_abn_path)\n",
    "print(len(in_abn_data))"
   ]
  },
  {
   "cell_type": "markdown",
   "id": "ee61f7d6-54ba-4281-b0ac-e13d96973c86",
   "metadata": {},
   "source": [
    "## ex_abnormal split"
   ]
  },
  {
   "cell_type": "code",
   "execution_count": 50,
   "id": "f3ea3cb9-8c89-457a-b406-ae572fffd77a",
   "metadata": {},
   "outputs": [
    {
     "name": "stdout",
     "output_type": "stream",
     "text": [
      "176 331\n"
     ]
    }
   ],
   "source": [
    "ex_abn_data_id = []\n",
    "in_abn_data_id = []\n",
    "\n",
    "for i in range(len(ex_abn_data)):\n",
    "    ex_abn_data_id.append(ex_abn_data[i].split('/')[-1].split('_')[0])\n",
    "    \n",
    "\n",
    "for j in range(len(in_abn_data)):\n",
    "    in_abn_data_id.append(in_abn_data[j].split('/')[-1].split('_')[0])\n",
    "    \n",
    "#이미지수 확인    \n",
    "print(len(ex_abn_data_id),len(in_abn_data_id)) "
   ]
  },
  {
   "cell_type": "code",
   "execution_count": 51,
   "id": "07eea55e",
   "metadata": {},
   "outputs": [
    {
     "name": "stdout",
     "output_type": "stream",
     "text": [
      "63 123\n"
     ]
    }
   ],
   "source": [
    "#patients 수 확인\n",
    "ex_abn_one_id = list(set(ex_abn_data_id))\n",
    "in_abn_one_id = list(set(in_abn_data_id))\n",
    "\n",
    "print(len(ex_abn_one_id),len(in_abn_one_id))"
   ]
  },
  {
   "cell_type": "code",
   "execution_count": null,
   "id": "9860faf3-bdcc-4fd6-9ec0-adab24ce99f7",
   "metadata": {
    "collapsed": true,
    "jupyter": {
     "outputs_hidden": true
    },
    "tags": []
   },
   "outputs": [],
   "source": [
    "ex_abn_one_id"
   ]
  },
  {
   "cell_type": "code",
   "execution_count": 53,
   "id": "d47a6ab1",
   "metadata": {},
   "outputs": [],
   "source": [
    "#external\n",
    "from sklearn.model_selection import train_test_split\n",
    "\n",
    "ex_x_train, ex_x_test = train_test_split(ex_abn_one_id,test_size=0.3,random_state=42)\n",
    "ex_x_test, ex_x_valid = train_test_split(ex_x_test,test_size=0.5,random_state=42)"
   ]
  },
  {
   "cell_type": "code",
   "execution_count": 54,
   "id": "77f61471-acab-42c4-9e75-b034d76f959b",
   "metadata": {
    "tags": []
   },
   "outputs": [
    {
     "name": "stdout",
     "output_type": "stream",
     "text": [
      "44\n",
      "10\n",
      "9\n"
     ]
    }
   ],
   "source": [
    "print(len(ex_x_train))\n",
    "print(len(ex_x_valid))\n",
    "print(len(ex_x_test))"
   ]
  },
  {
   "cell_type": "code",
   "execution_count": 55,
   "id": "f8d7f16d-db12-4c58-8f83-ec3ec065130e",
   "metadata": {},
   "outputs": [
    {
     "name": "stdout",
     "output_type": "stream",
     "text": [
      "118 27 31\n"
     ]
    }
   ],
   "source": [
    "train = []\n",
    "val =[]\n",
    "test= []\n",
    "\n",
    "for i in range(len(ex_abn_data)):\n",
    "    \n",
    "    patient_num = ex_abn_data[i].split('/')[-1].split('_')[0]\n",
    "    name = ex_abn_data[i].split('/')[-1]\n",
    "\n",
    "    a = ex_abn_data[i]\n",
    "    # /mnt/nas100_vol2/LeeJungHoon/Aov_task_curation_data/curation_data_v4/exist_abn_data_v4/*.jpg'\n",
    "#     print(a)\n",
    "    if patient_num in ex_x_train:\n",
    "            train.append(patient_num)\n",
    "            shutil.copy2(a,'/mnt/nas100_vol2/LeeJungHoon/Aov_task_curation_data/curation_data_v4/data_v4_7_1/abnormal_V4/ex_abnormal_train_v4/%s' %name)\n",
    "            \n",
    "    elif patient_num in ex_x_valid:\n",
    "            val.append(patient_num)\n",
    "            shutil.copy2(a,'/mnt/nas100_vol2/LeeJungHoon/Aov_task_curation_data/curation_data_v4/data_v4_7_1/abnormal_V4/ex_abnormal_valid_v4/%s' %name) \n",
    "            \n",
    "    elif patient_num in ex_x_test:\n",
    "            test.append(patient_num)\n",
    "            shutil.copy2(a,'/mnt/nas100_vol2/LeeJungHoon/Aov_task_curation_data/curation_data_v4/data_v4_7_1/abnormal_V4/ex_abnormal_test_v4/%s' %name)\n",
    "print(len(train),len(val), len(test))"
   ]
  },
  {
   "cell_type": "markdown",
   "id": "ab73ede5-d290-441a-81f2-5c4b35674a5f",
   "metadata": {},
   "source": [
    "## in_abnormal split"
   ]
  },
  {
   "cell_type": "code",
   "execution_count": 57,
   "id": "72615a18-2f99-467b-b60c-34e4d6932027",
   "metadata": {},
   "outputs": [],
   "source": [
    "#internal\n",
    "from sklearn.model_selection import train_test_split\n",
    "in_x_train, in_x_test = train_test_split(in_abn_one_id,test_size=0.3,random_state=42)\n",
    "in_x_test, in_x_valid = train_test_split(in_x_test,test_size=0.5,random_state=42)"
   ]
  },
  {
   "cell_type": "code",
   "execution_count": 58,
   "id": "5a52d78b-106e-4bd9-8bd8-7268e4328661",
   "metadata": {},
   "outputs": [
    {
     "name": "stdout",
     "output_type": "stream",
     "text": [
      "236 48 47\n"
     ]
    }
   ],
   "source": [
    "train = []\n",
    "val =[]\n",
    "test= []\n",
    "\n",
    "for i in range(len(in_abn_data)):\n",
    "    patient_num = in_abn_data[i].split('/')[-1].split('_')[0]\n",
    "    name = in_abn_data[i].split('/')[-1]\n",
    "\n",
    "    a = in_abn_data[i]\n",
    "    # /mnt/nas100_vol2/LeeJungHoon/Aov_task_curation_data/curation_data_v4/exist_abn_data_v4/*.jpg'\n",
    "#     print(a)\n",
    "    if patient_num in in_x_train:\n",
    "            train.append(patient_num)\n",
    "            shutil.copy2(a,'/mnt/nas100_vol2/LeeJungHoon/Aov_task_curation_data/curation_data_v4/data_v4_7_1/abnormal_V4/in_abnormal_train_v4/%s' %name)\n",
    "            \n",
    "    elif patient_num in in_x_valid:\n",
    "            val.append(patient_num)\n",
    "            shutil.copy2(a,'/mnt/nas100_vol2/LeeJungHoon/Aov_task_curation_data/curation_data_v4/data_v4_7_1/abnormal_V4/in_abnormal_valid_v4/%s' %name) \n",
    "            \n",
    "    elif patient_num in in_x_test:\n",
    "            test.append(patient_num)\n",
    "            shutil.copy2(a,'/mnt/nas100_vol2/LeeJungHoon/Aov_task_curation_data/curation_data_v4/data_v4_7_1/abnormal_V4/in_abnormal_test_v4/%s' %name)\n",
    "print(len(train),len(val), len(test))"
   ]
  },
  {
   "cell_type": "code",
   "execution_count": 59,
   "id": "0cfb7256",
   "metadata": {},
   "outputs": [
    {
     "name": "stdout",
     "output_type": "stream",
     "text": [
      "44 10 9\n",
      "86 19 18\n"
     ]
    }
   ],
   "source": [
    "print(len(ex_x_train),len(ex_x_valid),len(ex_x_test))\n",
    "print(len(in_x_train),len(in_x_valid),len(in_x_test))"
   ]
  },
  {
   "cell_type": "code",
   "execution_count": null,
   "id": "34420540-36f6-448b-86b9-cdb6b568c22a",
   "metadata": {},
   "outputs": [],
   "source": [
    " "
   ]
  }
 ],
 "metadata": {
  "kernelspec": {
   "display_name": "Python 3",
   "language": "python",
   "name": "python3"
  },
  "language_info": {
   "codemirror_mode": {
    "name": "ipython",
    "version": 3
   },
   "file_extension": ".py",
   "mimetype": "text/x-python",
   "name": "python",
   "nbconvert_exporter": "python",
   "pygments_lexer": "ipython3",
   "version": "3.6.13"
  }
 },
 "nbformat": 4,
 "nbformat_minor": 5
}
