{
 "cells": [
  {
   "cell_type": "code",
   "execution_count": 11,
   "id": "b8d9ee91-1a36-4d5c-9f44-1a4f1f2ac5b6",
   "metadata": {},
   "outputs": [],
   "source": [
    "from PIL import Image\n",
    "import pandas as pd\n",
    "%matplotlib inline\n",
    "import matplotlib\n",
    "import matplotlib.pyplot as plt\n",
    "import torch\n",
    "from torch.utils.data import Dataset, DataLoader\n",
    "import numpy as np\n",
    "import torchvision\n",
    "from torchvision import transforms\n",
    "from glob import glob\n",
    "import os\n",
    "import re\n",
    "\n",
    "import shutil"
   ]
  },
  {
   "cell_type": "markdown",
   "id": "b58cbd22-a1b3-4297-964a-60edfe4131b0",
   "metadata": {
    "tags": []
   },
   "source": [
    "# Internal data 누락된 정보 확인"
   ]
  },
  {
   "cell_type": "code",
   "execution_count": 7,
   "id": "77436159-64e9-47da-a02e-0ef8f0c5e2bc",
   "metadata": {},
   "outputs": [
    {
     "name": "stdout",
     "output_type": "stream",
     "text": [
      "651\n",
      "359\n"
     ]
    }
   ],
   "source": [
    "internal_normal_path = '/home/crop2292/research_datasets/Upper_AoV_dysplasia/train_data/original/internal_data/Control(normal)_img/*.jpg'\n",
    "internal_abnormal_path = '/home/crop2292/research_datasets/Upper_AoV_dysplasia/train_data/original/internal_data/Patient(abnormal)_img/*.jpg'\n",
    "\n",
    "internal_nor_glob_path = glob(internal_normal_path)\n",
    "internal_abnor_glob_path = glob(internal_abnormal_path)\n",
    "\n",
    "print(len(internal_nor_glob_path))\n",
    "print(len(internal_abnor_glob_path))"
   ]
  },
  {
   "cell_type": "markdown",
   "id": "371c193a-8ee4-4950-9464-84721b80ac20",
   "metadata": {},
   "source": [
    "## renamed folder 생성"
   ]
  },
  {
   "cell_type": "code",
   "execution_count": 14,
   "id": "3652e6c4-bb6c-4961-bb7d-901728dd1d6b",
   "metadata": {
    "tags": []
   },
   "outputs": [],
   "source": [
    "# os.makedirs('/home/crop2292/research_datasets/Upper_AoV_dysplasia/train_data/renamed/internal_data/Control(normal)_img')\n",
    "# os.makedirs('/home/crop2292/research_datasets/Upper_AoV_dysplasia/train_data/renamed/internal_data/Patient(abnormal)_img')\n",
    "renamed_normal_path = '/home/crop2292/research_datasets/Upper_AoV_dysplasia/train_data/renamed/internal_data/Control(normal)_img'\n",
    "renamed_abnormal_path = '/home/crop2292/research_datasets/Upper_AoV_dysplasia/train_data/renamed/internal_data/Patient(abnormal)_img'"
   ]
  },
  {
   "cell_type": "markdown",
   "id": "ccc2e0c9-9a8e-4b3a-8167-204e63404666",
   "metadata": {},
   "source": [
    "### internal_normal 이름 수정해서 파일 저장 "
   ]
  },
  {
   "cell_type": "code",
   "execution_count": null,
   "id": "87756d83-86de-42a7-b440-87f678b3da0f",
   "metadata": {
    "collapsed": true,
    "jupyter": {
     "outputs_hidden": true
    },
    "tags": []
   },
   "outputs": [],
   "source": [
    "len_normal = len(internal_nor_glob_path)\n",
    "\n",
    "bin_matrix = []\n",
    "\n",
    "for i in range(len_normal):\n",
    "    c = None\n",
    "    d = None\n",
    "    e = None\n",
    "    f = None\n",
    "    file = internal_nor_glob_path[i]\n",
    "    #print(file)\n",
    "    a= file.split('/')[-1]\n",
    "    b= a.split('(')[-1]\n",
    "\n",
    "    c = re.findall('05d+', b)\n",
    "    d = re.findall('205d+', b)\n",
    "    e = re.findall('305d+', b)\n",
    "    f = re.findall('405d+', b)\n",
    "    \n",
    "#     print(c)\n",
    "#     print(d)\n",
    "\n",
    "    name_first = a.split('(')[0]\n",
    "#한글과 영어이름을 띄어쓰기로 변환하고, 띄어쓰기를 다시 _로 변환\n",
    "    korean = re.compile('[\\u3131-\\u3163\\uac00-\\ud7a3]+')\n",
    "    name_first= re.sub(korean, '', name_first)\n",
    "    name_first = re.sub('[a-zA-z]','',name_first).replace(' ', '_')\n",
    "    name_first = re.sub(\",\", \"\", name_first)\n",
    "    \n",
    "# 마지막 글자가 다르거나 없는 경우가 존재하기 때문에 elif사용.    \n",
    "    if d:\n",
    "        name_last=d[0]\n",
    "#         print(name_last)\n",
    "        \n",
    "    elif e:\n",
    "        name_last=e[0]\n",
    "        \n",
    "    elif f:\n",
    "        name_last=f[0]\n",
    "        \n",
    "    else:\n",
    "        name_last=c[0]\n",
    "        \n",
    "\n",
    "    file_name = name_first+name_last+ '.jpg' \n",
    "    shutil.copy2(file, '/home/crop2292/research_datasets/Upper_AoV_dysplasia/train_data/renamed/internal_data/Control(normal)_img/%s' % file_name)\n",
    "\n",
    "    print(name_first+name_last)\n",
    "    bin_matrix.append(file_name)"
   ]
  },
  {
   "cell_type": "markdown",
   "id": "64ef256b-46e3-4d0d-a1f7-1cb412f54178",
   "metadata": {},
   "source": [
    "### internal_abnormal 이름 수정해서 파일 저장 "
   ]
  },
  {
   "cell_type": "code",
   "execution_count": null,
   "id": "a74dd433-b6bf-4a63-b49e-8c64e92b9cfc",
   "metadata": {
    "collapsed": true,
    "jupyter": {
     "outputs_hidden": true
    },
    "tags": []
   },
   "outputs": [],
   "source": [
    "len_abnormal = len(internal_abnor_glob_path)\n",
    "\n",
    "bin_matrix = []\n",
    "\n",
    "for i in range(len_abnormal):\n",
    "    c = None\n",
    "    d = None\n",
    "    e = None\n",
    "    f = None\n",
    "    g = None\n",
    "    h = None\n",
    "    j = None\n",
    "    k = None\n",
    "    l = None\n",
    "    \n",
    "    file = internal_abnor_glob_path[i]\n",
    "    #print(file)\n",
    "    a= file.split('/')[-1]\n",
    "    b= a.split('(')[-1]\n",
    "\n",
    "    c = re.findall('05d+', b)\n",
    "    d = re.findall('205d+', b)\n",
    "    e = re.findall('305d+', b)\n",
    "    f = re.findall('405d+', b)\n",
    "    g = re.findall('505d+', b)\n",
    "    h = re.findall('605d+', b)\n",
    "    j = re.findall('705d+', b)\n",
    "    k = re.findall('805d+', b)\n",
    "    l = re.findall('905d+', b)\n",
    "    \n",
    "#     print(c)\n",
    "#     print(d)\n",
    "\n",
    "    name_first = a.split('(')[0]\n",
    "#한글과 영어이름을 띄어쓰기로 변환하고, 띄어쓰기를 다시 _로 변환\n",
    "    korean = re.compile('[\\u3131-\\u3163\\uac00-\\ud7a3]+')\n",
    "    name_first= re.sub(korean, '', name_first)\n",
    "    name_first = re.sub('[a-zA-z]','',name_first).replace(' ', '_')\n",
    "    name_first = re.sub(\",\", \"\", name_first)\n",
    "    \n",
    "# 마지막 글자가 다르거나 없는 경우가 존재하기 때문에 elif사용.    \n",
    "\n",
    "    if d:\n",
    "        name_last=d[0]\n",
    "#         print(name_last)\n",
    "        \n",
    "    elif e:\n",
    "        name_last=e[0]\n",
    "        \n",
    "    elif f:\n",
    "        name_last=f[0]\n",
    "        \n",
    "    elif g:\n",
    "        name_last=g[0]\n",
    "    \n",
    "    elif h:\n",
    "        name_last=h[0]\n",
    "    \n",
    "    elif j:\n",
    "        name_last=j[0]\n",
    "    \n",
    "    elif k:\n",
    "        name_last=k[0]\n",
    "        \n",
    "    elif l:\n",
    "        name_last=l[0]\n",
    "        \n",
    "    else:\n",
    "        name_last=c[0]\n",
    "\n",
    "    file_name = name_first+name_last+ '.jpg' \n",
    "    shutil.copy2(file, '/home/crop2292/research_datasets/Upper_AoV_dysplasia/train_data/renamed/internal_data/Patient(abnormal)_img/%s' % file_name)\n",
    "\n",
    "    print(name_first+name_last)\n",
    "    bin_matrix.append(file_name)"
   ]
  },
  {
   "cell_type": "markdown",
   "id": "c8cec4c0-aef1-4b64-b597-e878bd7443cd",
   "metadata": {},
   "source": [
    "## 누락된 파일 정리"
   ]
  },
  {
   "cell_type": "code",
   "execution_count": 80,
   "id": "c81d6ec2-9982-4a37-9bb9-d88316fdd07f",
   "metadata": {},
   "outputs": [],
   "source": [
    "internal_normal_info =  pd.read_excel('/home/crop2292/research_datasets/Upper_AoV_dysplasia/train_data/Patients_info_v1.xlsx', sheet_name=1, engine='openpyxl')\n",
    "internal_abnormal_info =  pd.read_excel('/home/crop2292/research_datasets/Upper_AoV_dysplasia/train_data/Patients_info_v1.xlsx', sheet_name=0, engine='openpyxl')\n",
    "\n",
    "re_in_normal_glob = glob('/home/crop2292/research_datasets/Upper_AoV_dysplasia/train_data/renamed/internal_data/Control(normal)_img/*.jpg')\n",
    "re_in_abnormal_glob = glob('/home/crop2292/research_datasets/Upper_AoV_dysplasia/train_data/renamed/internal_data/Patient(abnormal)_img/*.jpg')"
   ]
  },
  {
   "cell_type": "code",
   "execution_count": 63,
   "id": "a951bd60-25f4-41c2-a0ca-dfaa34fbeb9e",
   "metadata": {},
   "outputs": [],
   "source": [
    "# normal & abnormal excel file 환자번호 추출\n",
    "df_internal_normal = internal_normal_info['환자 번호']\n",
    "df_internal_normal_list = df_internal_normal.values.tolist()\n",
    "df_internal_normal_str_list = list(map(str, df_internal_normal_list))\n",
    "\n",
    "df_internal_abnormal = internal_abnormal_info['환자번호']\n",
    "df_internal_abnormal_list = df_internal_abnormal.values.tolist()\n",
    "df_internal_abnormal_str_list = list(map(str, df_internal_abnormal_list))"
   ]
  },
  {
   "cell_type": "code",
   "execution_count": 64,
   "id": "0a7fc453-76bf-4e2f-bc54-2f2f3bf99837",
   "metadata": {},
   "outputs": [
    {
     "name": "stdout",
     "output_type": "stream",
     "text": [
      "401\n",
      "129\n"
     ]
    }
   ],
   "source": [
    "# image folder에 있는 file들의 환자 번호를 추출하는데, 중복된 경우가 존재하기 때문에 중복제거\n",
    "\n",
    "in_nor_img_list = []\n",
    "for i in range(len(re_in_normal_glob)):\n",
    "    nor_patient_num = re_in_normal_glob[i].split('/')[-1].split('_')[0]\n",
    "#     print(patient_num)\n",
    "    in_nor_img_list.append(nor_patient_num)\n",
    "in_one_nor_img_list = list(set(in_nor_img_list))\n",
    "\n",
    "\n",
    "in_abnor_img_list = []\n",
    "for i in range(len(re_in_abnormal_glob)):\n",
    "    abnor_patient_num = re_in_abnormal_glob[i].split('/')[-1].split('_')[0]\n",
    "#     print(patient_num)\n",
    "    in_abnor_img_list.append(abnor_patient_num)\n",
    "in_one_abnor_img_list = list(set(in_abnor_img_list))\n",
    "\n",
    "\n",
    "print(len(in_one_nor_img_list))\n",
    "print(len(in_one_abnor_img_list))"
   ]
  },
  {
   "cell_type": "markdown",
   "id": "fb9b36a3-d0ca-4337-8e90-90c0e495fd2c",
   "metadata": {},
   "source": [
    "- internal_data 상황\n",
    "\n",
    "    - normal \n",
    "    1. 현재 이미지는 존재하지만 excel file에 존재하지 않는 경우 35개의 이미지 존재\n",
    "\n",
    "    2. 현재 excel file에는 존재하지만 이미지에는 존재하지 않는 경우는 없다. \n",
    "\n",
    "    - abnormal \n",
    "    1. image folder에 존재하는 환자 수 : 129명\n",
    "\n",
    "    2. excel file에 존재하는 환자 수 : 129명 -> 하지만 excel file에는 한 환자가 다른 날짜에 관찰한 경우가 2명의 환자 존재\n",
    "        - 44205052(강효윤), 52721531(최민서)\n",
    "----------------------------------------------------------------------------------------------------------------------\n",
    "- summary    \n",
    "    - 총 이미지를 기준으로 401명이 존재하지만 excel file에 35명이 존재하지 않아 366명이 존재하고, 반대의 경우는 존재하지 않는다.\n",
    "        - internal_normal : 366명\n",
    "\n",
    "    - 누락된 abnormal image X\n",
    "        - internal_abnormal : 129명(하지만 excel file에는 한 환자가 다른 날짜에 관찰한 경우가 2명의 환자 존재)\n"
   ]
  },
  {
   "cell_type": "markdown",
   "id": "4033639d-b518-48e7-9d6a-dabe6a2599d4",
   "metadata": {},
   "source": [
    "||normal|abnormal|\n",
    "|:---|---:|:---:|\n",
    "|환자수|366명|129명|\n",
    "|이미지수|612장|359장|"
   ]
  },
  {
   "cell_type": "markdown",
   "id": "7a36dd64-a0e5-4f88-a945-5ab859fe68a2",
   "metadata": {},
   "source": [
    "### normal check"
   ]
  },
  {
   "cell_type": "code",
   "execution_count": 59,
   "id": "cb859004-21cd-41d1-ada3-1937a0b14812",
   "metadata": {
    "tags": []
   },
   "outputs": [
    {
     "name": "stdout",
     "output_type": "stream",
     "text": [
      "image O, excel O 환자 수 :  366\n",
      "image O, excel X 환자 수 :  35\n"
     ]
    }
   ],
   "source": [
    "# normal \n",
    "internal_img_no_csv_list = []\n",
    "internal_img_csv_list = []\n",
    "for i in in_one_nor_img_list:\n",
    "#     print(i)\n",
    "#     patient_num_img = abnormal_glob[i].split('/')[-1].split('_')[0]\n",
    "\n",
    "    if i not in df_internal_normal_str_list:\n",
    "        internal_img_no_csv_list.append(i)\n",
    "#         print('파일이 존재하지 않습니다:',i)\n",
    "    else:\n",
    "        internal_img_csv_list.append(i)\n",
    "#         print('파일이 존재:',i)\n",
    "\n",
    "#     else:\n",
    "#         print('있습니다!!')\n",
    "        \n",
    "\n",
    "print('image O, excel O 환자 수 : ', len(internal_img_csv_list))\n",
    "\n",
    "print('image O, excel X 환자 수 : ', len(internal_img_no_csv_list))"
   ]
  },
  {
   "cell_type": "code",
   "execution_count": null,
   "id": "5ecc79dd-1a39-4623-8fca-a600831f1a53",
   "metadata": {
    "collapsed": true,
    "jupyter": {
     "outputs_hidden": true
    },
    "tags": []
   },
   "outputs": [],
   "source": [
    "internal_img_no_csv_list"
   ]
  },
  {
   "cell_type": "code",
   "execution_count": 60,
   "id": "1722dc76-d96e-401b-b84a-4ed811e338f0",
   "metadata": {},
   "outputs": [
    {
     "name": "stdout",
     "output_type": "stream",
     "text": [
      "image O, excel O 환자 수 :  366\n",
      "image O, excel X 환자 수 :  0\n"
     ]
    }
   ],
   "source": [
    "# normal\n",
    "internal_csv_no_img_list = []\n",
    "internal_csv_img_list = []\n",
    "for i in df_internal_normal_str_list:\n",
    "#     print(i)\n",
    "#     patient_num_img = abnormal_glob[i].split('/')[-1].split('_')[0]\n",
    "\n",
    "    if i not in in_one_nor_img_list:\n",
    "        internal_csv_no_img_list.append(i)\n",
    "#         print('파일이 존재하지 않습니다:',i)\n",
    "    else:\n",
    "        internal_csv_img_list.append(i)\n",
    "#         print('파일이 존재:',i)\n",
    "\n",
    "#     else:\n",
    "#         print('있습니다!!')\n",
    "        \n",
    "\n",
    "print('image O, excel O 환자 수 : ', len(internal_csv_img_list))\n",
    "\n",
    "print('image O, excel X 환자 수 : ', len(internal_csv_no_img_list))"
   ]
  },
  {
   "cell_type": "markdown",
   "id": "34d35e4d-9600-4b39-ba67-5c7cf70f2779",
   "metadata": {},
   "source": [
    "### abnormal check"
   ]
  },
  {
   "cell_type": "code",
   "execution_count": 66,
   "id": "33f54186-552e-4cd3-9a4c-e18ffb7fb464",
   "metadata": {},
   "outputs": [
    {
     "name": "stdout",
     "output_type": "stream",
     "text": [
      "image O, excel O 환자 수 :  129\n",
      "image O, excel X 환자 수 :  0\n"
     ]
    }
   ],
   "source": [
    "# abnormal \n",
    "in_abnor_img_no_csv_list = []\n",
    "in_abnor_img_csv_list = []\n",
    "for i in in_one_abnor_img_list:\n",
    "\n",
    "\n",
    "    if i not in df_internal_abnormal_str_list:\n",
    "        in_abnor_img_no_csv_list.append(i)\n",
    "\n",
    "    else:\n",
    "        in_abnor_img_csv_list.append(i)\n",
    "\n",
    "        \n",
    "\n",
    "print('image O, excel O 환자 수 : ', len(in_abnor_img_csv_list))\n",
    "\n",
    "print('image O, excel X 환자 수 : ', len(in_abnor_img_no_csv_list))"
   ]
  },
  {
   "cell_type": "code",
   "execution_count": 67,
   "id": "08be7eec-0597-44ea-aea5-ff08141f1735",
   "metadata": {},
   "outputs": [
    {
     "name": "stdout",
     "output_type": "stream",
     "text": [
      "image O, excel O 환자 수 :  133\n",
      "image O, excel X 환자 수 :  0\n"
     ]
    }
   ],
   "source": [
    "# abnormal \n",
    "in_abnor_csv_no_img_list = []\n",
    "in_abnor_csv_img_list = []\n",
    "for i in df_internal_abnormal_str_list:\n",
    "\n",
    "\n",
    "    if i not in in_one_abnor_img_list:\n",
    "        in_abnor_csv_no_img_list.append(i)\n",
    "\n",
    "    else:\n",
    "        in_abnor_csv_img_list.append(i)\n",
    "\n",
    "        \n",
    "\n",
    "print('image O, excel O 환자 수 : ', len(in_abnor_csv_img_list))\n",
    "\n",
    "print('image O, excel X 환자 수 : ', len(in_abnor_csv_no_img_list))"
   ]
  },
  {
   "cell_type": "code",
   "execution_count": 68,
   "id": "e80d9904-8f17-42b7-8ada-3b61780016d5",
   "metadata": {},
   "outputs": [
    {
     "name": "stdout",
     "output_type": "stream",
     "text": [
      "133\n",
      "129\n"
     ]
    }
   ],
   "source": [
    "print(len(df_internal_abnormal_str_list))\n",
    "print(len(in_one_abnor_img_list))"
   ]
  },
  {
   "cell_type": "markdown",
   "id": "3bd1ae6a-d546-46e2-82ca-1a78fc428b0a",
   "metadata": {},
   "source": [
    "## 이미지만 존재하는 하는 경우 제거"
   ]
  },
  {
   "cell_type": "code",
   "execution_count": null,
   "id": "7e1aacda-cabf-4d28-a98a-eac85a0717f0",
   "metadata": {
    "collapsed": true,
    "jupyter": {
     "outputs_hidden": true
    },
    "tags": []
   },
   "outputs": [],
   "source": [
    "a = 0\n",
    "for i in range(len(re_in_normal_glob)):\n",
    "    \n",
    "    patient_num = re_in_normal_glob[i].split('/')[-1].split('_')[0]\n",
    "    \n",
    "    if patient_num not in internal_img_csv_list:\n",
    "        img_path = re_in_normal_glob[i]\n",
    "        os.remove(img_path)\n",
    "        a += 1"
   ]
  },
  {
   "cell_type": "code",
   "execution_count": 83,
   "id": "29259973-4c4a-4994-b1e7-cf58b713c651",
   "metadata": {},
   "outputs": [],
   "source": [
    "nor_img_list = []\n",
    "for i in range(len(re_in_normal_glob)):\n",
    "    nor_patient_num = re_in_normal_glob[i].split('/')[-1].split('_')[0]\n",
    "#     print(patient_num)\n",
    "    nor_img_list.append(nor_patient_num)\n",
    "in_one_nor_img_list = list(set(nor_img_list))\n",
    "\n"
   ]
  },
  {
   "cell_type": "code",
   "execution_count": 85,
   "id": "56acbf77-3004-4fe7-8a66-44e561c70208",
   "metadata": {},
   "outputs": [
    {
     "name": "stdout",
     "output_type": "stream",
     "text": [
      "612\n",
      "366\n"
     ]
    }
   ],
   "source": [
    "print(len(re_in_normal_glob))\n",
    "print(len(in_one_nor_img_list))"
   ]
  },
  {
   "cell_type": "markdown",
   "id": "24bcaad4-c894-439f-a35f-1d5df574797a",
   "metadata": {},
   "source": [
    "## excel 존재 X, 이미지만 존재하는 경우 excel에서 제거"
   ]
  },
  {
   "cell_type": "code",
   "execution_count": null,
   "id": "d44ccf9e-8895-4e8d-953f-527839dbac2e",
   "metadata": {},
   "outputs": [],
   "source": [
    "for i in len(df_internal_normal_list):\n",
    "    patient_num = str(internal_normal_info['환자번호'][i])\n",
    "    \n",
    "    if patient_num not in internal_img_csv_list:\n",
    "        df_drop = \n",
    "        "
   ]
  },
  {
   "cell_type": "code",
   "execution_count": null,
   "id": "b1a687da-8e84-4e05-8272-f2ffa580fbe0",
   "metadata": {},
   "outputs": [],
   "source": [
    "# normal & abnormal excel file 환자번호 추출\n",
    "df_internal_normal = internal_normal_info['환자 번호']\n",
    "df_internal_normal_list = df_internal_normal.values.tolist()\n",
    "df_internal_normal_str_list = list(map(str, df_internal_normal_list))\n",
    "\n",
    "df_internal_abnormal = internal_abnormal_info['환자번호']\n",
    "df_internal_abnormal_list = df_internal_abnormal.values.tolist()\n",
    "df_internal_abnormal_str_list = list(map(str, df_internal_abnormal_list))"
   ]
  },
  {
   "cell_type": "markdown",
   "id": "d642a288-e4d1-489f-bb8c-7fbc48270b43",
   "metadata": {},
   "source": [
    "# external data 누락된 정보 확인"
   ]
  },
  {
   "attachments": {},
   "cell_type": "markdown",
   "id": "6f1164a7",
   "metadata": {},
   "source": [
    "||normal|abnormal|\n",
    "|:---|---:|:---:|\n",
    "|환자수|81명|167명|\n",
    "|이미지수|89장|443장|"
   ]
  },
  {
   "cell_type": "code",
   "execution_count": null,
   "id": "d3ad5cd7",
   "metadata": {},
   "outputs": [],
   "source": [
    "external_normal_path = '/home/crop2292/research_datasets/Upper_AoV_dysplasia/train_data/original/external_data/Control(normal)_img/*.jpg'\n",
    "external_abnormal_path = '/home/crop2292/research_datasets/Upper_AoV_dysplasia/train_data/original/external_data/Patient(abnormal)_img/*.jpg'\n",
    "\n",
    "external_nor_glob_path = glob(external_normal_path)\n",
    "external_abnor_glob_path = glob(external_abnormal_path)\n",
    "\n",
    "print(len(external_nor_glob_path))\n",
    "print(len(external_abnor_glob_path))"
   ]
  },
  {
   "attachments": {},
   "cell_type": "markdown",
   "id": "6c52b0b4",
   "metadata": {},
   "source": [
    "## Renamed folder 생성"
   ]
  },
  {
   "cell_type": "code",
   "execution_count": null,
   "id": "4b8a5012",
   "metadata": {},
   "outputs": [],
   "source": [
    "os.makedirs('/home/crop2292/research_datasets/Upper_AoV_dysplasia/train_data/renamed/external_data/Control(normal)_img')\n",
    "os.makedirs('/home/crop2292/research_datasets/Upper_AoV_dysplasia/train_data/renamed/external_data/Patient(abnormal)_img')\n",
    "renamed_normal_path = '/home/crop2292/research_datasets/Upper_AoV_dysplasia/train_data/renamed/external_data/Control(normal)_img'\n",
    "renamed_abnormal_path = '/home/crop2292/research_datasets/Upper_AoV_dysplasia/train_data/renamed/external_data/Patient(abnormal)_img'"
   ]
  },
  {
   "attachments": {},
   "cell_type": "markdown",
   "id": "acaf00ba",
   "metadata": {},
   "source": [
    "## External normal data 이름 수정"
   ]
  },
  {
   "cell_type": "code",
   "execution_count": null,
   "id": "96f2f031",
   "metadata": {},
   "outputs": [],
   "source": [
    "ex_len_normal = len(external_nor_glob_path)\n",
    "\n",
    "bin_matrix = []\n",
    "\n",
    "for i in range(ex_len_normal):\n",
    "    c = None\n",
    "    d = None\n",
    "    e = None\n",
    "    f = None\n",
    "    file = external_nor_glob_path[i]\n",
    "    #print(file)\n",
    "    a= file.split('/')[-1]\n",
    "    b= a.split('(')[-1]\n",
    "\n",
    "    c = re.findall('05d+', b)\n",
    "    d = re.findall('205d+', b)\n",
    "    e = re.findall('305d+', b)\n",
    "    f = re.findall('405d+', b)\n",
    "    \n",
    "#     print(c)\n",
    "#     print(d)\n",
    "\n",
    "    name_first = a.split('(')[0]\n",
    "#한글과 영어이름을 띄어쓰기로 변환하고, 띄어쓰기를 다시 _로 변환\n",
    "    korean = re.compile('[\\u3131-\\u3163\\uac00-\\ud7a3]+')\n",
    "    name_first= re.sub(korean, '', name_first)\n",
    "    name_first = re.sub('[a-zA-z]','',name_first).replace(' ', '_')\n",
    "    name_first = re.sub(\",\", \"\", name_first)\n",
    "    \n",
    "# 마지막 글자가 다르거나 없는 경우가 존재하기 때문에 elif사용.    \n",
    "    if d:\n",
    "        name_last=d[0]\n",
    "#         print(name_last)\n",
    "        \n",
    "    elif e:\n",
    "        name_last=e[0]\n",
    "        \n",
    "    elif f:\n",
    "        name_last=f[0]\n",
    "           \n",
    "    else:\n",
    "        name_last=c[0]\n",
    "        \n",
    "\n",
    "    file_name = name_first+name_last+ '.jpg' \n",
    "    shutil.copy2(file, '/home/crop2292/research_datasets/Upper_AoV_dysplasia/train_data/renamed/external_data/Control(normal)_img/%s' % file_name)\n",
    "\n",
    "    print(name_first+name_last)\n",
    "    bin_matrix.append(file_name)"
   ]
  },
  {
   "cell_type": "code",
   "execution_count": null,
   "id": "074a5b74",
   "metadata": {},
   "outputs": [],
   "source": [
    "ex_len_normal = len(external_nor_glob_path)\n",
    "\n",
    "bin_matrix = []\n",
    "\n",
    "for i in range(ex_len_normal):\n",
    "    c = None\n",
    "    d = None\n",
    "    e = None\n",
    "    f = None\n",
    "    file = external_nor_glob_path[i]\n",
    "    #print(file)\n",
    "    a= file.split('/')[-1]\n",
    "    b= a.split('(')[-1]\n",
    "\n",
    "    c = re.findall('05d+', b)\n",
    "    d = re.findall('205d+', b)\n",
    "    e = re.findall('305d+', b)\n",
    "    f = re.findall('405d+', b)\n",
    "    \n",
    "#     print(c)\n",
    "#     print(d)\n",
    "\n",
    "    name_first = a.split('(')[0]\n",
    "#한글과 영어이름을 띄어쓰기로 변환하고, 띄어쓰기를 다시 _로 변환\n",
    "    korean = re.compile('[\\u3131-\\u3163\\uac00-\\ud7a3]+')\n",
    "    name_first= re.sub(korean, '', name_first)\n",
    "    name_first = re.sub('[a-zA-z]','',name_first).replace(' ', '_')\n",
    "    name_first = re.sub(\",\", \"\", name_first)\n",
    "    \n",
    "# 마지막 글자가 다르거나 없는 경우가 존재하기 때문에 elif사용.    \n",
    "    if d:\n",
    "        name_last=d[0]\n",
    "#         print(name_last)\n",
    "        \n",
    "    elif e:\n",
    "        name_last=e[0]\n",
    "        \n",
    "    elif f:\n",
    "        name_last=f[0]\n",
    "           \n",
    "    else:\n",
    "        name_last=c[0]\n",
    "        \n",
    "\n",
    "    file_name = name_first+name_last+ '.jpg' \n",
    "    shutil.copy2(file, '/home/crop2292/research_datasets/Upper_AoV_dysplasia/train_data/renamed/external_data/Control(normal)_img/%s' % file_name)\n",
    "\n",
    "    print(name_first+name_last)\n",
    "    bin_matrix.append(file_name)"
   ]
  },
  {
   "cell_type": "code",
   "execution_count": null,
   "id": "2c5989c9",
   "metadata": {},
   "outputs": [],
   "source": [
    "external_normal_info =  pd.read_excel('/home/crop2292/research_datasets/Upper_AoV_dysplasia/train_data/Patients_info_v1.xlsx', sheet_name=3, engine='openpyxl')\n",
    "external_abnormal_info =  pd.read_excel('/home/crop2292/research_datasets/Upper_AoV_dysplasia/train_data/Patients_info_v1.xlsx', sheet_name=2, engine='openpyxl')\n",
    "\n",
    "re_ex_normal_glob = glob('/home/crop2292/research_datasets/Upper_AoV_dysplasia/train_data/renamed/external_data/Control(normal)_img/*.jpg')\n",
    "re_ex_abnormal_glob = glob('/home/crop2292/research_datasets/Upper_AoV_dysplasia/train_data/renamed/external_data/Patient(abnormal)_img/*.jpg')"
   ]
  },
  {
   "cell_type": "code",
   "execution_count": null,
   "id": "77be8978",
   "metadata": {},
   "outputs": [],
   "source": [
    "# normal & abnormal excel file 환자번호 추출\n",
    "df_external_normal = external_normal_info['환자번호']\n",
    "df_external_normal_list = df_external_normal.values.tolist()\n",
    "df_external_normal_str_list = list(map(str, df_external_normal_list))\n",
    "\n",
    "df_external_abnormal = external_abnormal_info['환자번호']\n",
    "df_external_abnormal_list = df_external_abnormal.values.tolist()\n",
    "df_external_abnormal_str_list = list(map(str, df_external_abnormal_list))"
   ]
  },
  {
   "cell_type": "code",
   "execution_count": null,
   "id": "a7f7b757",
   "metadata": {},
   "outputs": [],
   "source": [
    "# image folder에 있는 file들의 환자 번호를 추출하는데, 중복된 경우가 존재하기 때문에 중복제거\n",
    "\n",
    "ex_nor_img_list = []\n",
    "for i in range(len(re_ex_normal_glob)):\n",
    "    ex_nor_patient_num = re_ex_normal_glob[i].split('/')[-1].split('_')[0]\n",
    "#     print(patient_num)\n",
    "    ex_nor_img_list.append(ex_nor_patient_num)\n",
    "ex_one_nor_img_list = list(set(ex_nor_img_list))\n",
    "\n",
    "\n",
    "ex_abnor_img_list = []\n",
    "for i in range(len(re_ex_abnormal_glob)):\n",
    "    ex_abnor_patient_num = re_ex_abnormal_glob[i].split('/')[-1].split('_')[0]\n",
    "#     print(patient_num)\n",
    "    ex_abnor_img_list.append(ex_abnor_patient_num)\n",
    "ex_one_abnor_img_list = list(set(ex_abnor_img_list))\n",
    "\n",
    "\n",
    "print(len(ex_one_nor_img_list))\n",
    "print(len(ex_one_abnor_img_list))"
   ]
  },
  {
   "cell_type": "code",
   "execution_count": null,
   "id": "a8ec410a",
   "metadata": {},
   "outputs": [],
   "source": [
    "# normal \n",
    "external_img_no_csv_list = []\n",
    "external_img_csv_list = []\n",
    "for i in ex_one_nor_img_list:\n",
    "#     print(i)\n",
    "#     patient_num_img = abnormal_glob[i].split('/')[-1].split('_')[0]\n",
    "\n",
    "    if i not in df_external_normal_str_list:\n",
    "        external_img_no_csv_list.append(i)\n",
    "#         print('파일이 존재하지 않습니다:',i)\n",
    "    else:\n",
    "        external_img_csv_list.append(i)\n",
    "#         print('파일이 존재:',i)\n",
    "\n",
    "#     else:\n",
    "#         print('있습니다!!')\n",
    "        \n",
    "\n",
    "print('image O, excel O 환자 수 : ', len(external_img_csv_list))\n",
    "\n",
    "print('image O, excel X 환자 수 : ', len(external_img_no_csv_list))"
   ]
  },
  {
   "cell_type": "code",
   "execution_count": null,
   "id": "6ba3652f",
   "metadata": {},
   "outputs": [],
   "source": [
    "# normal\n",
    "external_csv_no_img_list = []\n",
    "external_csv_img_list = []\n",
    "for i in df_external_normal_str_list:\n",
    "#     print(i)\n",
    "#     patient_num_img = abnormal_glob[i].split('/')[-1].split('_')[0]\n",
    "\n",
    "    if i not in ex_one_nor_img_list:\n",
    "        external_csv_no_img_list.append(i)\n",
    "#         print('파일이 존재하지 않습니다:',i)\n",
    "    else:\n",
    "        external_csv_img_list.append(i)\n",
    "#         print('파일이 존재:',i)\n",
    "\n",
    "#     else:\n",
    "#         print('있습니다!!')\n",
    "        \n",
    "\n",
    "print('image O, excel O 환자 수 : ', len(external_csv_img_list))\n",
    "\n",
    "print('image X, excel O 환자 수 : ', len(external_csv_no_img_list))"
   ]
  },
  {
   "cell_type": "code",
   "execution_count": null,
   "id": "ffef6188",
   "metadata": {},
   "outputs": [],
   "source": [
    "no_list = []\n",
    "for i in external_csv_img_list:\n",
    "    if i not in external_img_csv_list:\n",
    "        no_list.append(i) "
   ]
  },
  {
   "attachments": {},
   "cell_type": "markdown",
   "id": "1999449a",
   "metadata": {},
   "source": [
    "## Excel 존재 X, 이미지만 존재하는 경우 제거"
   ]
  },
  {
   "cell_type": "code",
   "execution_count": null,
   "id": "cc7c9a05",
   "metadata": {},
   "outputs": [],
   "source": [
    "a = 0\n",
    "for i in range(len(re_ex_normal_glob)):\n",
    "    \n",
    "    patient_num = re_ex_normal_glob[i].split('/')[-1].split('_')[0]\n",
    "    \n",
    "    if patient_num not in external_img_csv_list:\n",
    "        img_path = re_ex_normal_glob[i]\n",
    "        os.remove(img_path)\n",
    "        a += 1"
   ]
  },
  {
   "cell_type": "code",
   "execution_count": null,
   "id": "da1ff752",
   "metadata": {},
   "outputs": [],
   "source": [
    "ex_nor_img_list = []\n",
    "for i in range(len(re_ex_normal_glob)):\n",
    "    ex_nor_patient_num = re_ex_normal_glob[i].split('/')[-1].split('_')[0]\n",
    "#     print(patient_num)\n",
    "    ex_nor_img_list.append(ex_nor_patient_num)\n",
    "ex_one_nor_img_list = list(set(ex_nor_img_list))"
   ]
  },
  {
   "cell_type": "code",
   "execution_count": null,
   "id": "40828947",
   "metadata": {},
   "outputs": [],
   "source": [
    "print(len(re_ex_normal_glob))\n",
    "print(len(ex_one_nor_img_list))"
   ]
  },
  {
   "attachments": {},
   "cell_type": "markdown",
   "id": "10068c78",
   "metadata": {},
   "source": [
    "### abnormal check"
   ]
  },
  {
   "cell_type": "code",
   "execution_count": null,
   "id": "e8e24986",
   "metadata": {},
   "outputs": [],
   "source": [
    "# abnormal \n",
    "ex_abnor_img_no_csv_list = []\n",
    "ex_abnor_img_csv_list = []\n",
    "\n",
    "ex_abnor_csv_no_img_list = []\n",
    "ex_abnor_csv_img_list = []\n",
    "\n",
    "for i in ex_one_abnor_img_list:\n",
    "\n",
    "\n",
    "    if i not in df_external_abnormal_str_list:\n",
    "        ex_abnor_img_no_csv_list.append(i)\n",
    "\n",
    "    else:\n",
    "        ex_abnor_img_csv_list.append(i)\n",
    "\n",
    "# abnormal \n",
    "for i in df_external_abnormal_str_list:\n",
    "\n",
    "\n",
    "    if i not in ex_one_abnor_img_list:\n",
    "        ex_abnor_csv_no_img_list.append(i)\n",
    "\n",
    "    else:\n",
    "        ex_abnor_csv_img_list.append(i)\n",
    "\n",
    "\n",
    "print('excel O, image O 환자 수 : ', len(ex_abnor_csv_img_list))\n",
    "\n",
    "print('excel O, image X 환자 수 : ', len(ex_abnor_csv_no_img_list))\n",
    "\n",
    "print('image O, excel O 환자 수 : ', len(ex_abnor_img_csv_list))\n",
    "\n",
    "print('image O, excel X 환자 수 : ', len(ex_abnor_img_no_csv_list))"
   ]
  },
  {
   "attachments": {},
   "cell_type": "markdown",
   "id": "78d7698d",
   "metadata": {},
   "source": [
    "## Excel 존재 X, 이미지만 존재하는 경우 제거"
   ]
  },
  {
   "cell_type": "code",
   "execution_count": null,
   "id": "db369689",
   "metadata": {},
   "outputs": [],
   "source": [
    "a = 0\n",
    "for i in range(len(re_ex_abnormal_glob)):\n",
    "    \n",
    "    patient_num = re_ex_abnormal_glob[i].split('/')[-1].split('_')[0]\n",
    "    \n",
    "    if patient_num not in ex_abnor_img_csv_list:\n",
    "        img_path = re_ex_abnormal_glob[i]\n",
    "        os.remove(img_path)\n",
    "        a += 1"
   ]
  },
  {
   "cell_type": "code",
   "execution_count": null,
   "id": "8bb22405",
   "metadata": {},
   "outputs": [],
   "source": [
    "ex_abnor_img_list = []\n",
    "for i in range(len(re_ex_abnormal_glob)):\n",
    "    ex_abnor_patient_num = re_ex_abnormal_glob[i].split('/')[-1].split('_')[0]\n",
    "#     print(patient_num)\n",
    "    ex_abnor_img_list.append(ex_abnor_patient_num)\n",
    "ex_one_abnor_img_list = list(set(ex_abnor_img_list))"
   ]
  },
  {
   "cell_type": "code",
   "execution_count": null,
   "id": "fb28d693",
   "metadata": {},
   "outputs": [],
   "source": [
    "print(len(re_ex_abnormal_glob))\n",
    "print(len(ex_one_abnor_img_list))"
   ]
  },
  {
   "cell_type": "markdown",
   "id": "ef36674d",
   "metadata": {},
   "source": []
  }
 ],
 "metadata": {
  "kernelspec": {
   "display_name": "Python 3",
   "language": "python",
   "name": "python3"
  },
  "language_info": {
   "codemirror_mode": {
    "name": "ipython",
    "version": 3
   },
   "file_extension": ".py",
   "mimetype": "text/x-python",
   "name": "python",
   "nbconvert_exporter": "python",
   "pygments_lexer": "ipython3",
   "version": "3.6.13"
  }
 },
 "nbformat": 4,
 "nbformat_minor": 5
}
